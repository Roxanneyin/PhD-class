{
 "cells": [
  {
   "cell_type": "markdown",
   "id": "bc5d24db",
   "metadata": {},
   "source": [
    "# <center>Math 589 Midterm Take-home-exam Solution</center>\n",
    "<center>Yuan Yin A20447290</center>\n",
    "\n",
    "## Question 2(b)\n",
    "To apply the C-N scheme derived in (a), we use Thomas Algorithm to get the numerical result, notice we find solutions for two different terminal time: $T=0.1$ and $T = 0.2$."
   ]
  },
  {
   "cell_type": "code",
   "execution_count": 1,
   "id": "157a548a",
   "metadata": {},
   "outputs": [],
   "source": [
    "import numpy as np\n",
    "from matplotlib import pyplot as plt"
   ]
  },
  {
   "cell_type": "code",
   "execution_count": 2,
   "id": "6bad3e33",
   "metadata": {},
   "outputs": [],
   "source": [
    "# function of p\n",
    "def p(x):\n",
    "    return np.exp(np.cos(2*np.pi*x))"
   ]
  },
  {
   "cell_type": "code",
   "execution_count": 3,
   "id": "820513c9",
   "metadata": {},
   "outputs": [],
   "source": [
    "# initial settings\n",
    "dx = 0.01\n",
    "mu = 0.1 # convergence satisfied\n",
    "dt = mu*dx**2\n",
    "\n",
    "x = np.array([i*dx for i in range(int(1/dx)+1)])\n",
    "\n",
    "# Thomas Algorithm\n",
    "\n",
    "p_minus = p(x-0.5*dx)\n",
    "p_plus = p(x+0.5*dx)\n",
    "b = 1+0.5*mu*(p_minus+p_plus)\n",
    "b[-2] = b[-2]-0.5*mu*p_plus[-2]/(1+dx) # boundary condition\n",
    "a = 0.5*mu*p_minus\n",
    "c = 0.5*mu*p_plus\n",
    "\n",
    "alpha = np.zeros(len(x))\n",
    "alpha[1] = b[1]\n",
    "for i in range(2,len(x)-1):\n",
    "    alpha[i] = b[i]-(a[i]*c[i-1])/alpha[i-1]\n",
    "    \n",
    "T = [0.1, 0.2]\n",
    "U_result = []\n",
    "for t in T:\n",
    "    N = int(t/dt)\n",
    "    U = 4/(1+x**2) # initial condition\n",
    "    \n",
    "    for n in range(N):\n",
    "        ## prepare at the beginning\n",
    "        s = np.zeros(len(x))\n",
    "        d = np.zeros(len(x))\n",
    "\n",
    "        ## forward elimination\n",
    "        d[1:-1] = 0.5*mu*p_minus[1:-1]*U[:-2]+(1-0.5*mu*(p_minus[1:-1]+p_plus[1:-1]))*U[1:-1]+0.5*mu*p_plus[1:-1]*U[2:]\n",
    "        s[1] = d[1]\n",
    "        for i in range(2,len(x)-1):\n",
    "            s[i] = d[i]+(a[i]*s[i-1])/alpha[i-1]\n",
    "\n",
    "        ## backward subsititution\n",
    "        U_new = np.zeros(len(U))\n",
    "        U_new[0] = 0 # boundary condition\n",
    "        U_new[-2] = s[-2]/alpha[-2]\n",
    "        U_new[-1] = U_new[-2]/(dx+1) # boundary condition\n",
    "        for i in range(len(U_new)-3,0,-1):\n",
    "            U_new[i] = (s[i]+c[i]*U_new[i+1])/alpha[i]\n",
    "\n",
    "        U = U_new\n",
    "    U_result.append(U)"
   ]
  },
  {
   "cell_type": "code",
   "execution_count": 4,
   "id": "48ff512e",
   "metadata": {},
   "outputs": [
    {
     "data": {
      "text/plain": [
       "<matplotlib.legend.Legend at 0x223cef11610>"
      ]
     },
     "execution_count": 4,
     "metadata": {},
     "output_type": "execute_result"
    },
    {
     "data": {
      "image/png": "[encoded data removed]",
      "text/plain": [
       "<Figure size 432x288 with 1 Axes>"
      ]
     },
     "metadata": {
      "needs_background": "light"
     },
     "output_type": "display_data"
    }
   ],
   "source": [
    "i = 0\n",
    "for u in U_result:\n",
    "    plt.plot(x,u,label='T='+str(T[i]))\n",
    "    i+=1\n",
    "plt.xlabel('x')\n",
    "plt.ylabel('U')\n",
    "plt.title('C-N scheme')                                                                                                                                                                                                                                                                                                                                                                                                                                                                                                  \n",
    "plt.legend()"
   ]
  },
  {
   "cell_type": "markdown",
   "id": "ffe7dd1c",
   "metadata": {},
   "source": [
    "## (c)\n",
    "To verify the convergence numerically, we can fixed terminal time $T$, then choose different $(\\Delta x, \\Delta t)\\to 0$(or different $\\mu$), as long as they all satisfy the convergence condition $\\mu\\le\\frac{1}{e}$. And then check if the solution is stable. Here we choose $\\Delta x = [0.001,0.01], \\mu=[0.01,0.1]$ and both of them are decreasing for every loop. Then we plot the final result for numerical solution $U$."
   ]
  },
  {
   "cell_type": "code",
   "execution_count": 3,
   "id": "15ce7882",
   "metadata": {},
   "outputs": [],
   "source": [
    "# fix T=0.1\n",
    "# initial settings\n",
    "Dx = np.linspace(0.1,0.01,10)\n",
    "mu_arr = np.linspace(0.2,0.1,10) # convergence satisfied\n",
    "\n",
    "T = [0.1]\n",
    "X = []\n",
    "U_result = []\n",
    "for t in T:\n",
    "    for j in range(len(Dx)):\n",
    "        for l in range(len(mu_arr)):\n",
    "            dx = Dx[j]\n",
    "            mu = mu_arr[l]\n",
    "            dt = mu*dx**2\n",
    "            N = int(t/dt)\n",
    "            x = np.array([k*dx for k in range(int(1/dx)+1)])\n",
    "            X.append(x)\n",
    "\n",
    "            # Thomas Algorithm\n",
    "            p_minus = p(x-0.5*dx)\n",
    "            p_plus = p(x+0.5*dx)\n",
    "            b = 1+0.5*mu*(p_minus+p_plus)\n",
    "            b[-2] = b[-2]-0.5*mu*p_plus[-2]/(1+dx) # boundary condition\n",
    "            a = 0.5*mu*p_minus\n",
    "            c = 0.5*mu*p_plus\n",
    "\n",
    "            alpha = np.zeros(len(x))\n",
    "            alpha[1] = b[1]\n",
    "            for i in range(2,len(x)-1):\n",
    "                alpha[i] = b[i]-(a[i]*c[i-1])/alpha[i-1]\n",
    "\n",
    "            U = 4/(1+x**2) # initial condition\n",
    "\n",
    "            for n in range(N):\n",
    "                ## prepare at the beginning\n",
    "                s = np.zeros(len(x))\n",
    "                d = np.zeros(len(x))\n",
    "\n",
    "                ## forward elimination\n",
    "                d[1:-1] = 0.5*mu*p_minus[1:-1]*U[:-2]+(1-0.5*mu*(p_minus[1:-1]+p_plus[1:-1]))*U[1:-1]+0.5*mu*p_plus[1:-1]*U[2:]\n",
    "                s[1] = d[1]\n",
    "                for i in range(2,len(x)-1):\n",
    "                    s[i] = d[i]+(a[i]*s[i-1])/alpha[i-1]\n",
    "\n",
    "                ## backward subsititution\n",
    "                U_new = np.zeros(len(U))\n",
    "                U_new[0] = 0 # boundary condition\n",
    "                U_new[-2] = s[-2]/alpha[-2]\n",
    "                U_new[-1] = U_new[-2]/(dx+1) # boundary condition\n",
    "                for i in range(len(U_new)-3,0,-1):\n",
    "                    U_new[i] = (s[i]+c[i]*U_new[i+1])/alpha[i]\n",
    "\n",
    "                U = U_new\n",
    "            U_result.append(U)"
   ]
  },
  {
   "cell_type": "code",
   "execution_count": 5,
   "id": "bdb0014b",
   "metadata": {},
   "outputs": [
    {
     "data": {
      "text/plain": [
       "Text(0.5, 1.0, 'C-N scheme')"
      ]
     },
     "execution_count": 5,
     "metadata": {},
     "output_type": "execute_result"
    },
    {
     "data": {
      "image/png": "[encoded data removed]",
      "text/plain": [
       "<Figure size 432x288 with 1 Axes>"
      ]
     },
     "metadata": {
      "needs_background": "light"
     },
     "output_type": "display_data"
    }
   ],
   "source": [
    "for j in range(len(U_result)):\n",
    "    x = X[j]\n",
    "    u = U_result[j]\n",
    "    plt.plot(x,u,label=str(j))\n",
    "\n",
    "plt.xlabel('x')\n",
    "plt.ylabel('U')\n",
    "plt.title('C-N scheme')"
   ]
  },
  {
   "cell_type": "markdown",
   "id": "986ecd1b",
   "metadata": {},
   "source": [
    "We can see that the numerical solution converges as $(\\Delta x, \\Delta t)\\to 0$."
   ]
  },
  {
   "cell_type": "code",
   "execution_count": 16,
   "id": "c654cea1",
   "metadata": {},
   "outputs": [],
   "source": [
    "# # Inverse matrix\n",
    "# U = 4/(1+x**2)\n",
    "\n",
    "# al = -0.5*mu*p(x-0.5*dx)\n",
    "# bl = 1+0.5*mu*(p(x-0.5*dx)+p(x+0.5*dx))\n",
    "# cl = -0.5*mu*p(x+0.5*dx)\n",
    "\n",
    "# Al = np.eye(len(al),len(al),k=-1)*np.roll(al,-1) + np.eye(len(bl),len(bl))*bl + np.eye(len(cl),len(cl),k=1)*np.roll(cl,1)\n",
    "\n",
    "# ar = 0.5*mu*p(x-0.5*dx)\n",
    "# br = 1-0.5*mu*(p(x-0.5*dx)+p(x+0.5*dx))\n",
    "# cr = 0.5*mu*p(x+0.5*dx)\n",
    "\n",
    "# Ar = np.eye(len(ar),len(ar),k=-1)*np.roll(ar,-1) + np.eye(len(br),len(br))*br + np.eye(len(cr),len(cr),k=1)*np.roll(cr,1)\n",
    "\n",
    "\n",
    "# for n in range(N):\n",
    "#     U_new = np.zeros(len(U))\n",
    "#     U_new[1:] = np.dot(np.linalg.inv(Al[1:,1:]),np.dot(Ar[1:,1:],U[1:]))\n",
    "#     U_new[0] = 0\n",
    "#     U_new[-1] = U_new[-1]/(1+dx)\n",
    "    \n",
    "#     U = U_new"
   ]
  }
 ],
 "metadata": {
  "kernelspec": {
   "display_name": "Python 3",
   "language": "python",
   "name": "python3"
  },
  "language_info": {
   "codemirror_mode": {
    "name": "ipython",
    "version": 3
   },
   "file_extension": ".py",
   "mimetype": "text/x-python",
   "name": "python",
   "nbconvert_exporter": "python",
   "pygments_lexer": "ipython3",
   "version": "3.8.8"
  }
 },
 "nbformat": 4,
 "nbformat_minor": 5
}
