{
 "cells": [
  {
   "cell_type": "code",
   "execution_count": 1,
   "metadata": {
    "collapsed": true
   },
   "outputs": [],
   "source": [
    "import pandas as pd\n",
    "import numpy as np\n",
    "import matplotlib.pyplot as plt"
   ]
  },
  {
   "cell_type": "code",
   "execution_count": 3,
   "metadata": {},
   "outputs": [
    {
     "name": "stdout",
     "output_type": "stream",
     "text": [
      "(253, 7)\n"
     ]
    }
   ],
   "source": [
    "df = pd.read_csv('SP500.csv')#read as dataframe\n",
    "print(df.shape)"
   ]
  },
  {
   "cell_type": "code",
   "execution_count": 4,
   "metadata": {},
   "outputs": [
    {
     "name": "stdout",
     "output_type": "stream",
     "text": [
      "         Date         Open         High          Low        Close  \\\n",
      "0  2019-01-16  2614.750000  2625.760010  2612.679932  2616.100098   \n",
      "1  2019-01-17  2609.280029  2645.060059  2606.360107  2635.959961   \n",
      "\n",
      "     Adj Close      Volume  \n",
      "0  2616.100098  3863770000  \n",
      "1  2635.959961  3772270000  \n"
     ]
    }
   ],
   "source": [
    "print(df.head(2)) #see the heading of df"
   ]
  },
  {
   "cell_type": "code",
   "execution_count": 5,
   "metadata": {},
   "outputs": [
    {
     "name": "stdout",
     "output_type": "stream",
     "text": [
      "['Date' 'Open' 'High' 'Low' 'Close' 'Adj Close' 'Volume']\n",
      "<class 'numpy.ndarray'>\n"
     ]
    }
   ],
   "source": [
    "print(df.columns.values) #heading of df output as a np.array\n",
    "print(type(df.columns.values))"
   ]
  },
  {
   "cell_type": "code",
   "execution_count": 8,
   "metadata": {},
   "outputs": [
    {
     "data": {
      "text/plain": [
       "4"
      ]
     },
     "execution_count": 8,
     "metadata": {},
     "output_type": "execute_result"
    }
   ],
   "source": [
    "np.where(df.columns.values == 'Close')[0][0]"
   ]
  },
  {
   "cell_type": "code",
   "execution_count": 9,
   "metadata": {},
   "outputs": [
    {
     "ename": "SyntaxError",
     "evalue": "invalid syntax (<ipython-input-9-d2eb7fdd9fe2>, line 1)",
     "output_type": "error",
     "traceback": [
      "\u001b[1;36m  File \u001b[1;32m\"<ipython-input-9-d2eb7fdd9fe2>\"\u001b[1;36m, line \u001b[1;32m1\u001b[0m\n\u001b[1;33m    Extract values from data frame\u001b[0m\n\u001b[1;37m                 ^\u001b[0m\n\u001b[1;31mSyntaxError\u001b[0m\u001b[1;31m:\u001b[0m invalid syntax\n"
     ]
    }
   ],
   "source": [
    "Extract values from data frame"
   ]
  },
  {
   "cell_type": "code",
   "execution_count": 10,
   "metadata": {},
   "outputs": [
    {
     "ename": "SyntaxError",
     "evalue": "invalid syntax (<ipython-input-10-3c8fdf484a85>, line 2)",
     "output_type": "error",
     "traceback": [
      "\u001b[1;36m  File \u001b[1;32m\"<ipython-input-10-3c8fdf484a85>\"\u001b[1;36m, line \u001b[1;32m2\u001b[0m\n\u001b[1;33m    print{'\\n'}\u001b[0m\n\u001b[1;37m         ^\u001b[0m\n\u001b[1;31mSyntaxError\u001b[0m\u001b[1;31m:\u001b[0m invalid syntax\n"
     ]
    }
   ],
   "source": [
    "print(print(df['Close'][0:10]))\n",
    "print{'\\n'}\n",
    "print(df['Close'])\n",
    "print('\\n')\n",
    "print(type(df['Close'], ' '))"
   ]
  },
  {
   "cell_type": "code",
   "execution_count": 11,
   "metadata": {},
   "outputs": [
    {
     "name": "stdout",
     "output_type": "stream",
     "text": [
      "            Open        Close\n",
      "0    2614.750000  2616.100098\n",
      "1    2609.280029  2635.959961\n",
      "2    2651.270020  2670.709961\n",
      "3    2657.879883  2632.899902\n",
      "4    2643.479980  2638.699951\n",
      "5    2638.840088  2642.330078\n",
      "6    2657.439941  2664.760010\n",
      "7    2644.969971  2643.850098\n",
      "8    2644.889893  2640.000000\n",
      "9    2653.620117  2681.050049\n",
      "10   2685.489990  2704.100098\n",
      "11   2702.320068  2706.530029\n",
      "12   2706.489990  2724.870117\n",
      "13   2728.340088  2737.699951\n",
      "14   2735.050049  2731.610107\n",
      "15   2717.530029  2706.050049\n",
      "16   2692.360107  2707.879883\n",
      "17   2712.399902  2709.800049\n",
      "18   2722.610107  2744.729980\n",
      "19   2750.300049  2753.030029\n",
      "20   2743.500000  2745.729980\n",
      "21   2760.239990  2775.600098\n",
      "22   2769.280029  2779.760010\n",
      "23   2779.050049  2784.699951\n",
      "24   2780.239990  2774.879883\n",
      "25   2780.669922  2792.669922\n",
      "26   2804.350098  2796.110107\n",
      "27   2792.360107  2793.899902\n",
      "28   2787.500000  2792.379883\n",
      "29   2788.110107  2784.489990\n",
      "..           ...          ...\n",
      "223  3103.500000  3112.760010\n",
      "224  3119.209961  3117.429932\n",
      "225  3134.620117  3145.909912\n",
      "226  3141.860107  3135.959961\n",
      "227  3135.360107  3132.520020\n",
      "228  3135.750000  3141.629883\n",
      "229  3141.229980  3168.570068\n",
      "230  3166.649902  3168.800049\n",
      "231  3183.629883  3191.449951\n",
      "232  3195.399902  3192.520020\n",
      "233  3195.209961  3191.139893\n",
      "234  3192.320068  3205.370117\n",
      "235  3223.330078  3221.219971\n",
      "236  3226.050049  3224.010010\n",
      "237  3225.449951  3223.379883\n",
      "238  3227.199951  3239.909912\n",
      "239  3247.229980  3240.020020\n",
      "240  3240.090088  3221.290039\n",
      "241  3215.179932  3230.780029\n",
      "242  3244.669922  3257.850098\n",
      "243  3226.360107  3234.850098\n",
      "244  3217.550049  3246.280029\n",
      "245  3241.860107  3237.179932\n",
      "246  3238.590088  3253.050049\n",
      "247  3266.030029  3274.699951\n",
      "248  3281.810059  3265.350098\n",
      "249  3271.129883  3288.129883\n",
      "250  3285.350098  3283.149902\n",
      "251  3282.270020  3289.290039\n",
      "252  3302.969971  3316.810059\n",
      "\n",
      "[253 rows x 2 columns]\n"
     ]
    }
   ],
   "source": [
    "print(df[['Open', 'Close']])"
   ]
  },
  {
   "cell_type": "code",
   "execution_count": 12,
   "metadata": {},
   "outputs": [
    {
     "name": "stdout",
     "output_type": "stream",
     "text": [
      "[['2019-01-16' 2614.75]\n",
      " ['2019-01-17' 2609.280029]\n",
      " ['2019-01-18' 2651.27002]\n",
      " ['2019-01-22' 2657.8798829999996]\n",
      " ['2019-01-23' 2643.47998]\n",
      " ['2019-01-24' 2638.840088]\n",
      " ['2019-01-25' 2657.439941]\n",
      " ['2019-01-28' 2644.969971]\n",
      " ['2019-01-29' 2644.889893]\n",
      " ['2019-01-30' 2653.6201170000004]]\n",
      "\n",
      "\n",
      "<class 'pandas.core.frame.DataFrame'>   <class 'numpy.ndarray'>\n"
     ]
    }
   ],
   "source": [
    "print(df.iloc[0:10,0:2].values)\n",
    "print('\\n')\n",
    "print(type(df.iloc[0:10,0:2]),' ',type(df.iloc[0:10,0:2].values))"
   ]
  },
  {
   "cell_type": "code",
   "execution_count": 13,
   "metadata": {},
   "outputs": [
    {
     "name": "stdout",
     "output_type": "stream",
     "text": [
      "2942.7973053952587\n",
      "22165.29247142092\n",
      "3316.810059\n",
      "2616.100098\n",
      "2816.647949\n"
     ]
    }
   ],
   "source": [
    "print(df['Close'].mean())\n",
    "print(df['Close'].var())\n",
    "print(df['Close'].max())\n",
    "print(df['Close'].min())\n",
    "print(df['Close'].quantile(0.2))"
   ]
  },
  {
   "cell_type": "code",
   "execution_count": 14,
   "metadata": {},
   "outputs": [
    {
     "name": "stdout",
     "output_type": "stream",
     "text": [
      "Open     2941.244235\n",
      "Close    2942.797305\n",
      "dtype: float64\n",
      "Open     22130.713768\n",
      "Close    22165.292471\n",
      "dtype: float64\n",
      "Open     3302.969971\n",
      "Close    3316.810059\n",
      "dtype: float64\n",
      "Open     2609.280029\n",
      "Close    2616.100098\n",
      "dtype: float64\n",
      "Open     2819.719971\n",
      "Close    2816.647949\n",
      "Name: 0.2, dtype: float64\n"
     ]
    }
   ],
   "source": [
    "print(df[['Open','Close']].mean())\n",
    "print(df[['Open','Close']].var())\n",
    "print(df[['Open','Close']].max())\n",
    "print(df[['Open','Close']].min())\n",
    "print(df[['Open','Close']].quantile(0.2))"
   ]
  },
  {
   "cell_type": "code",
   "execution_count": 15,
   "metadata": {},
   "outputs": [
    {
     "name": "stdout",
     "output_type": "stream",
     "text": [
      "               Open         Close\n",
      "Open   22130.713768  22018.084836\n",
      "Close  22018.084836  22165.292471\n"
     ]
    }
   ],
   "source": [
    "print(df[['Open','Close']].cov())"
   ]
  },
  {
   "cell_type": "code",
   "execution_count": 22,
   "metadata": {},
   "outputs": [
    {
     "name": "stdout",
     "output_type": "stream",
     "text": [
      "              Open          High\n",
      "Open  22130.713768  21869.974432\n",
      "High  21869.974432  21710.580664\n"
     ]
    }
   ],
   "source": [
    "print(df.iloc[:,1:3].cov()) #change 'cov' to 'corr' for correlation"
   ]
  },
  {
   "cell_type": "code",
   "execution_count": null,
   "metadata": {
    "collapsed": true
   },
   "outputs": [],
   "source": []
  }
 ],
 "metadata": {
  "kernelspec": {
   "display_name": "Python 3",
   "language": "python",
   "name": "python3"
  },
  "language_info": {
   "codemirror_mode": {
    "name": "ipython",
    "version": 3
   },
   "file_extension": ".py",
   "mimetype": "text/x-python",
   "name": "python",
   "nbconvert_exporter": "python",
   "pygments_lexer": "ipython3",
   "version": "3.6.1"
  }
 },
 "nbformat": 4,
 "nbformat_minor": 2
}
