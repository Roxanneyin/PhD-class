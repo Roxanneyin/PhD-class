{
 "cells": [
  {
   "cell_type": "code",
   "execution_count": 1,
   "metadata": {},
   "outputs": [],
   "source": [
    "import pandas as pd\n",
    "import numpy as np\n",
    "import matplotlib.pyplot as plt "
   ]
  },
  {
   "cell_type": "markdown",
   "metadata": {},
   "source": [
    "# Read CSV"
   ]
  },
  {
   "cell_type": "code",
   "execution_count": 2,
   "metadata": {},
   "outputs": [
    {
     "name": "stdout",
     "output_type": "stream",
     "text": [
      "(252, 7)\n"
     ]
    }
   ],
   "source": [
    "df = pd.read_csv('AAPL.csv') # read as dataframe\n",
    "print(df.shape)"
   ]
  },
  {
   "cell_type": "code",
   "execution_count": 3,
   "metadata": {
    "scrolled": true
   },
   "outputs": [
    {
     "name": "stdout",
     "output_type": "stream",
     "text": [
      "         Date        Open        High         Low       Close   Adj Close  \\\n",
      "0  2019-01-11  152.880005  153.699997  151.509995  152.289993  150.035706   \n",
      "1  2019-01-14  150.850006  151.270004  149.220001  150.000000  147.779602   \n",
      "2  2019-01-15  150.270004  153.389999  150.050003  153.070007  150.804169   \n",
      "3  2019-01-16  153.080002  155.880005  153.000000  154.940002  152.646484   \n",
      "4  2019-01-17  154.199997  157.660004  153.259995  155.860001  153.552872   \n",
      "\n",
      "     Volume  \n",
      "0  27023200  \n",
      "1  32439200  \n",
      "2  28710900  \n",
      "3  30569700  \n",
      "4  29821200  \n"
     ]
    }
   ],
   "source": [
    "print(df.head()) # see the heading of df"
   ]
  },
  {
   "cell_type": "code",
   "execution_count": 4,
   "metadata": {},
   "outputs": [
    {
     "name": "stdout",
     "output_type": "stream",
     "text": [
      "['Date' 'Open' 'High' 'Low' 'Close' 'Adj Close' 'Volume']\n",
      "<class 'numpy.ndarray'>\n"
     ]
    }
   ],
   "source": [
    "print(df.columns.values) # heading of df output as a np.array\n",
    "print(type(df.columns.values))"
   ]
  },
  {
   "cell_type": "code",
   "execution_count": 5,
   "metadata": {},
   "outputs": [
    {
     "data": {
      "text/plain": [
       "4"
      ]
     },
     "execution_count": 5,
     "metadata": {},
     "output_type": "execute_result"
    }
   ],
   "source": [
    "np.where(df.columns.values=='Close')[0][0]"
   ]
  },
  {
   "cell_type": "markdown",
   "metadata": {},
   "source": [
    "# Extract values from data frame"
   ]
  },
  {
   "cell_type": "code",
   "execution_count": 6,
   "metadata": {},
   "outputs": [
    {
     "name": "stdout",
     "output_type": "stream",
     "text": [
      "0    152.289993\n",
      "1    150.000000\n",
      "2    153.070007\n",
      "3    154.940002\n",
      "4    155.860001\n",
      "5    156.820007\n",
      "6    153.300003\n",
      "7    153.919998\n",
      "8    152.699997\n",
      "9    157.759995\n",
      "Name: Close, dtype: float64\n",
      "None\n",
      "\n",
      "\n",
      "[152.289993 150.       153.070007 154.940002 155.860001 156.820007\n",
      " 153.300003 153.919998 152.699997 157.759995]\n",
      "\n",
      "\n",
      "<class 'pandas.core.series.Series'>         <class 'numpy.ndarray'>\n"
     ]
    }
   ],
   "source": [
    "print(print(df['Close'][0:10]))\n",
    "print('\\n')\n",
    "print(df['Close'][0:10].values)\n",
    "print('\\n')\n",
    "print(type(df['Close']),'       ',type(df['Open'].values))"
   ]
  },
  {
   "cell_type": "code",
   "execution_count": 19,
   "metadata": {},
   "outputs": [
    {
     "name": "stdout",
     "output_type": "stream",
     "text": [
      "           Open       Close\n",
      "0    152.880005  152.289993\n",
      "1    150.850006  150.000000\n",
      "2    150.270004  153.070007\n",
      "3    153.080002  154.940002\n",
      "4    154.199997  155.860001\n",
      "5    157.500000  156.820007\n",
      "6    156.410004  153.300003\n",
      "7    154.149994  153.919998\n",
      "8    154.110001  152.699997\n",
      "9    155.479996  157.759995\n",
      "10   155.789993  156.300003\n",
      "11   156.250000  154.679993\n",
      "12   163.250000  165.250000\n",
      "13   166.110001  166.440002\n",
      "14   166.960007  166.520004\n",
      "15   167.410004  171.250000\n",
      "16   172.860001  174.179993\n",
      "17   174.649994  174.240005\n",
      "18   172.399994  170.940002\n",
      "19   168.990005  170.410004\n",
      "20   171.050003  169.429993\n",
      "21   170.100006  170.889999\n",
      "22   171.389999  170.179993\n",
      "23   169.710007  170.800003\n",
      "24   171.250000  170.419998\n",
      "25   169.710007  170.929993\n",
      "26   171.190002  172.029999\n",
      "27   171.800003  171.059998\n",
      "28   171.580002  172.970001\n",
      "29   174.160004  174.229996\n",
      "..          ...         ...\n",
      "222  265.579987  267.839996\n",
      "223  266.600006  267.250000\n",
      "224  267.269989  264.160004\n",
      "225  258.309998  259.450012\n",
      "226  261.070007  261.739990\n",
      "227  263.790009  265.579987\n",
      "228  267.480011  270.709991\n",
      "229  270.000000  266.920013\n",
      "230  268.600006  268.480011\n",
      "231  268.809998  270.769989\n",
      "232  267.779999  271.459991\n",
      "233  271.459991  275.149994\n",
      "234  277.000000  279.859985\n",
      "235  279.570007  280.410004\n",
      "236  279.799988  279.739990\n",
      "237  279.500000  280.019989\n",
      "238  282.230011  279.440002\n",
      "239  280.529999  284.000000\n",
      "240  284.690002  284.269989\n",
      "241  284.820007  289.910004\n",
      "242  291.119995  289.799988\n",
      "243  289.459991  291.519989\n",
      "244  289.929993  293.649994\n",
      "245  296.239990  300.350006\n",
      "246  297.149994  297.429993\n",
      "247  293.790009  299.799988\n",
      "248  299.839996  298.390015\n",
      "249  297.160004  303.190002\n",
      "250  307.239990  309.630005\n",
      "251  310.600006  310.329987\n",
      "\n",
      "[252 rows x 2 columns]\n"
     ]
    }
   ],
   "source": [
    "print(df[['Open','Close']])"
   ]
  },
  {
   "cell_type": "code",
   "execution_count": 7,
   "metadata": {},
   "outputs": [
    {
     "name": "stdout",
     "output_type": "stream",
     "text": [
      "[['2019-01-11' 152.880005]\n",
      " ['2019-01-14' 150.850006]\n",
      " ['2019-01-15' 150.270004]\n",
      " ['2019-01-16' 153.080002]\n",
      " ['2019-01-17' 154.199997]\n",
      " ['2019-01-18' 157.5]\n",
      " ['2019-01-22' 156.41000400000001]\n",
      " ['2019-01-23' 154.149994]\n",
      " ['2019-01-24' 154.110001]\n",
      " ['2019-01-25' 155.479996]]\n",
      "\n",
      "\n",
      "<class 'pandas.core.frame.DataFrame'>         <class 'numpy.ndarray'>\n"
     ]
    }
   ],
   "source": [
    "print(df.iloc[0:10,0:2].values)\n",
    "print('\\n')\n",
    "print(type(df.iloc[0:10,0:2]),'       ',type(df.iloc[0:10,0:2].values))"
   ]
  },
  {
   "cell_type": "markdown",
   "metadata": {},
   "source": [
    "# Basic statistics"
   ]
  },
  {
   "cell_type": "code",
   "execution_count": 21,
   "metadata": {},
   "outputs": [
    {
     "name": "stdout",
     "output_type": "stream",
     "text": [
      "212.48198396825393\n",
      "1331.2553970067843\n",
      "310.329987\n",
      "150.0\n",
      "182.58799419999997\n"
     ]
    }
   ],
   "source": [
    "print(df['Close'].mean())\n",
    "print(df['Close'].var())\n",
    "print(df['Close'].max())\n",
    "print(df['Close'].min())\n",
    "print(df['Close'].quantile(0.2))"
   ]
  },
  {
   "cell_type": "code",
   "execution_count": 10,
   "metadata": {},
   "outputs": [
    {
     "name": "stdout",
     "output_type": "stream",
     "text": [
      "Open     212.061825\n",
      "Close    212.481984\n",
      "dtype: float64\n",
      "Open     1307.138477\n",
      "Close    1331.255397\n",
      "dtype: float64\n",
      "Open     310.600006\n",
      "Close    310.329987\n",
      "dtype: float64\n",
      "Open     150.270004\n",
      "Close    150.000000\n",
      "dtype: float64\n",
      "Open     183.168002\n",
      "Close    182.587994\n",
      "Name: 0.2, dtype: float64\n"
     ]
    }
   ],
   "source": [
    "print(df[['Open','Close']].mean())\n",
    "print(df[['Open','Close']].var())\n",
    "print(df[['Open','Close']].max())\n",
    "print(df[['Open','Close']].min())\n",
    "print(df[['Open','Close']].quantile(0.2))"
   ]
  },
  {
   "cell_type": "code",
   "execution_count": 11,
   "metadata": {},
   "outputs": [
    {
     "name": "stdout",
     "output_type": "stream",
     "text": [
      "              Open        Close\n",
      "Open   1307.138477  1316.809798\n",
      "Close  1316.809798  1331.255397\n"
     ]
    }
   ],
   "source": [
    "print(df[['Open','Close']].cov())"
   ]
  },
  {
   "cell_type": "code",
   "execution_count": 12,
   "metadata": {},
   "outputs": [
    {
     "name": "stdout",
     "output_type": "stream",
     "text": [
      "              Open        Close\n",
      "Open   1307.138477  1316.809798\n",
      "Close  1316.809798  1331.255397\n"
     ]
    }
   ],
   "source": [
    "print(df.iloc[:,[1,4]].cov()) # change 'cov' to 'corr' for correlation"
   ]
  },
  {
   "cell_type": "markdown",
   "metadata": {},
   "source": [
    "### check https://pandas.pydata.org/pandas-docs/stable/reference/api/pandas.DataFrame.html for more information about pandas.DataFrame"
   ]
  },
  {
   "cell_type": "code",
   "execution_count": null,
   "metadata": {
    "collapsed": true
   },
   "outputs": [],
   "source": []
  },
  {
   "cell_type": "markdown",
   "metadata": {},
   "source": [
    "# Dealing with dates"
   ]
  },
  {
   "cell_type": "code",
   "execution_count": 8,
   "metadata": {},
   "outputs": [
    {
     "name": "stdout",
     "output_type": "stream",
     "text": [
      "[['2019-01-11' 152.880005]\n",
      " ['2019-01-14' 150.850006]\n",
      " ['2019-01-15' 150.270004]\n",
      " ['2019-01-16' 153.080002]\n",
      " ['2019-01-17' 154.199997]\n",
      " ['2019-01-18' 157.5]\n",
      " ['2019-01-22' 156.41000400000001]\n",
      " ['2019-01-23' 154.149994]\n",
      " ['2019-01-24' 154.110001]\n",
      " ['2019-01-25' 155.479996]]\n",
      "\n",
      "\n",
      "<class 'pandas.core.frame.DataFrame'>         <class 'numpy.ndarray'>\n"
     ]
    }
   ],
   "source": [
    "print(df.iloc[0:10,0:2].values)\n",
    "print('\\n')\n",
    "print(type(df.iloc[0:10,0:2]),'       ',type(df.iloc[0:10,0:2].values))"
   ]
  },
  {
   "cell_type": "code",
   "execution_count": 9,
   "metadata": {},
   "outputs": [
    {
     "name": "stdout",
     "output_type": "stream",
     "text": [
      "<class 'str'>\n",
      "\n",
      "\n",
      "<class 'pandas._libs.tslibs.timestamps.Timestamp'>\n",
      "\n",
      "\n",
      "DatetimeIndex(['2019-01-11', '2019-01-14', '2019-01-15', '2019-01-16',\n",
      "               '2019-01-17', '2019-01-18', '2019-01-22', '2019-01-23',\n",
      "               '2019-01-24', '2019-01-25'],\n",
      "              dtype='datetime64[ns]', freq=None)\n"
     ]
    }
   ],
   "source": [
    "print(type(df['Date'].values[0]))\n",
    "print('\\n')\n",
    "df_date = pd.to_datetime(df['Date'].values, format=\"%Y/%m/%d\") # string to Timestamps\n",
    "print(type(df_date[0]))\n",
    "print('\\n')\n",
    "print(df_date[0:10])"
   ]
  },
  {
   "cell_type": "code",
   "execution_count": 10,
   "metadata": {},
   "outputs": [
    {
     "name": "stdout",
     "output_type": "stream",
     "text": [
      "TimedeltaIndex([  '0 days',   '3 days',   '4 days',   '5 days',   '6 days',\n",
      "                  '7 days',  '11 days',  '12 days',  '13 days',  '14 days',\n",
      "                ...\n",
      "                '350 days', '353 days', '354 days', '356 days', '357 days',\n",
      "                '360 days', '361 days', '362 days', '363 days', '364 days'],\n",
      "               dtype='timedelta64[ns]', length=252, freq=None)\n",
      "\n",
      "\n",
      "<class 'pandas.core.indexes.datetimes.DatetimeIndex'>\n"
     ]
    }
   ],
   "source": [
    "print(df_date- df_date[0])\n",
    "print('\\n')\n",
    "print(type(df_date))"
   ]
  },
  {
   "cell_type": "code",
   "execution_count": 11,
   "metadata": {},
   "outputs": [
    {
     "name": "stdout",
     "output_type": "stream",
     "text": [
      "Int64Index([  0,   3,   4,   5,   6,   7,  11,  12,  13,  14,\n",
      "            ...\n",
      "            350, 353, 354, 356, 357, 360, 361, 362, 363, 364],\n",
      "           dtype='int64', length=252)\n"
     ]
    }
   ],
   "source": [
    "df_date_int = (df_date - df_date[0]).days\n",
    "print(df_date_int)"
   ]
  },
  {
   "cell_type": "markdown",
   "metadata": {},
   "source": [
    "# Locating data from '2019-03-01' to '2019-09-01'"
   ]
  },
  {
   "cell_type": "code",
   "execution_count": 19,
   "metadata": {},
   "outputs": [
    {
     "name": "stdout",
     "output_type": "stream",
     "text": [
      "           Date        Open        High         Low       Close   Adj Close  \\\n",
      "34   2019-03-04  175.690002  177.750000  173.970001  175.850006  173.989990   \n",
      "35   2019-03-05  175.940002  176.000000  174.539993  175.529999  173.673370   \n",
      "36   2019-03-06  174.669998  175.490005  173.940002  174.520004  172.674057   \n",
      "37   2019-03-07  173.869995  174.440002  172.020004  172.500000  170.675415   \n",
      "38   2019-03-08  170.320007  173.070007  169.500000  172.910004  171.081085   \n",
      "..          ...         ...         ...         ...         ...         ...   \n",
      "156  2019-08-26  205.860001  207.190002  205.059998  206.490005  205.871918   \n",
      "157  2019-08-27  207.860001  208.550003  203.529999  204.160004  203.548889   \n",
      "158  2019-08-28  204.100006  205.720001  203.320007  205.529999  204.914795   \n",
      "159  2019-08-29  208.500000  209.320007  206.660004  209.009995  208.384369   \n",
      "160  2019-08-30  210.160004  210.449997  207.199997  208.740005  208.115189   \n",
      "\n",
      "       Volume  \n",
      "34   27436200  \n",
      "35   19737400  \n",
      "36   20810400  \n",
      "37   24796400  \n",
      "38   23999400  \n",
      "..        ...  \n",
      "156  26043600  \n",
      "157  25873300  \n",
      "158  15938800  \n",
      "159  20990500  \n",
      "160  21143400  \n",
      "\n",
      "[127 rows x 7 columns]\n"
     ]
    }
   ],
   "source": [
    "lb = (pd.to_datetime('2019-03-01', format=\"%Y/%m/%d\") - df_date[0]).days\n",
    "ub = (pd.to_datetime('2019-09-01', format=\"%Y/%m/%d\") - df_date[0]).days\n",
    "idx = np.where((lb<df_date_int)*(df_date_int<ub))\n",
    "print(df.iloc[idx])"
   ]
  },
  {
   "cell_type": "markdown",
   "metadata": {},
   "source": [
    "# Plot the price"
   ]
  },
  {
   "cell_type": "code",
   "execution_count": 20,
   "metadata": {},
   "outputs": [
    {
     "data": {
      "image/png": "[encoded data removed]",
      "text/plain": [
       "<matplotlib.figure.Figure at 0x29bc21d0d30>"
      ]
     },
     "metadata": {
      "needs_background": "light"
     },
     "output_type": "display_data"
    },
    {
     "data": {
      "image/png": "[encoded data removed]",
      "text/plain": [
       "<matplotlib.figure.Figure at 0x29bc222ab00>"
      ]
     },
     "metadata": {
      "needs_background": "light"
     },
     "output_type": "display_data"
    }
   ],
   "source": [
    "plt.plot(df_date_int,df['Close'])\n",
    "plt.show()\n",
    "plt.plot(df_date_int, np.array(df[['High','Low']]))\n",
    "plt.show()"
   ]
  },
  {
   "cell_type": "code",
   "execution_count": 21,
   "metadata": {
    "scrolled": true
   },
   "outputs": [
    {
     "name": "stdout",
     "output_type": "stream",
     "text": [
      "[12.  1. 18. 19. 19. 21. 48. 27. 14. 10.  6.  6.  3. 12. 14.  4.  7.  4.\n",
      "  4.  3.] \n",
      " [150.         158.01649935 166.0329987  174.04949805 182.0659974\n",
      " 190.08249675 198.0989961  206.11549545 214.1319948  222.14849415\n",
      " 230.1649935  238.18149285 246.1979922  254.21449155 262.2309909\n",
      " 270.24749025 278.2639896  286.28048895 294.2969883  302.31348765\n",
      " 310.329987  ]\n"
     ]
    },
    {
     "data": {
      "image/png": "[encoded data removed]",
      "text/plain": [
       "<matplotlib.figure.Figure at 0x29bc21d09e8>"
      ]
     },
     "metadata": {
      "needs_background": "light"
     },
     "output_type": "display_data"
    }
   ],
   "source": [
    "n, bins, patches = plt.hist(df['Close'],bins=20)\n",
    "print(n,'\\n',bins)\n",
    "plt.show()"
   ]
  },
  {
   "cell_type": "code",
   "execution_count": null,
   "metadata": {
    "collapsed": true
   },
   "outputs": [],
   "source": []
  }
 ],
 "metadata": {
  "kernelspec": {
   "display_name": "Python 3",
   "language": "python",
   "name": "python3"
  },
  "language_info": {
   "codemirror_mode": {
    "name": "ipython",
    "version": 3
   },
   "file_extension": ".py",
   "mimetype": "text/x-python",
   "name": "python",
   "nbconvert_exporter": "python",
   "pygments_lexer": "ipython3",
   "version": "3.6.4"
  }
 },
 "nbformat": 4,
 "nbformat_minor": 2
}
