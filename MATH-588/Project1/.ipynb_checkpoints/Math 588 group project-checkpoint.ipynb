{
 "cells": [
  {
   "cell_type": "markdown",
   "metadata": {},
   "source": [
    "### Combined codes from us:"
   ]
  },
  {
   "cell_type": "code",
   "execution_count": 65,
   "metadata": {},
   "outputs": [],
   "source": [
    "#Import module:\n",
    "import numpy as np\n",
    "from numpy.random import normal\n",
    "import pandas as pd\n",
    "import scipy\n",
    "import scipy.stats as stats\n",
    "from scipy.stats import norm, t\n",
    "import matplotlib.pyplot as plt\n",
    "import math\n",
    "import datetime\n",
    "import matplotlib.dates as mdate"
   ]
  },
  {
   "cell_type": "markdown",
   "metadata": {},
   "source": [
    "### Question 1:"
   ]
  },
  {
   "cell_type": "code",
   "execution_count": null,
   "metadata": {},
   "outputs": [],
   "source": []
  },
  {
   "cell_type": "markdown",
   "metadata": {},
   "source": [
    "### Question 2:"
   ]
  },
  {
   "cell_type": "markdown",
   "metadata": {},
   "source": [
    "a)"
   ]
  },
  {
   "cell_type": "code",
   "execution_count": 2,
   "metadata": {},
   "outputs": [],
   "source": [
    "#2(a)\n",
    "def VaR_pmf(x, alpha): \n",
    "# x as the pmf matrix and alpha represents the significant level\n",
    "    x = np.array(x)\n",
    "    x = x[x[:,0].argsort()]\n",
    "    sum = 0 #initialize the cmf\n",
    "    for i in range(len(x[:,1])):\n",
    "        sum += x[i,1]\n",
    "        if (sum >= alpha):\n",
    "            return x[i,0]"
   ]
  },
  {
   "cell_type": "markdown",
   "metadata": {},
   "source": [
    "b)"
   ]
  },
  {
   "cell_type": "code",
   "execution_count": 3,
   "metadata": {},
   "outputs": [],
   "source": [
    "#Here a is a given array of  \n",
    "def VaR(a,alpha):\n",
    "    v = np.percentile(a,alpha)\n",
    "    return v;"
   ]
  },
  {
   "cell_type": "markdown",
   "metadata": {},
   "source": [
    "c)"
   ]
  },
  {
   "cell_type": "code",
   "execution_count": 13,
   "metadata": {},
   "outputs": [
    {
     "name": "stdout",
     "output_type": "stream",
     "text": [
      "7.326174307353348\n",
      "8.014886631067212\n"
     ]
    }
   ],
   "source": [
    "#Problem 2, Part c\n",
    "#The goal is to compute the V@R given L is distributed by a Normal Distribution or a Studnet-t Distribution (v dfs)\n",
    "    #with mean mu and variance\n",
    "#Inputs: (mu,variance,Distribution,alpha)\n",
    "#Outputs: V@R_alpha(L)\n",
    "\n",
    "def VAR(mu,variance,Dist_Type,alpha,df):\n",
    "    if Dist_Type==\"Gaussian\":\n",
    "        return mu+variance**(1/2)*scipy.stats.norm.ppf(alpha)\n",
    "    if Dist_Type==\"Student-t\":\n",
    "        return mu+variance**(1/2)*scipy.stats.t.ppf(alpha,df)\n",
    "    \n",
    "print(VAR(5,2,\"Gaussian\",0.95,4))\n",
    "print(VAR(5,2,\"Student-t\",0.95,4))"
   ]
  },
  {
   "cell_type": "markdown",
   "metadata": {},
   "source": [
    "### Question 3"
   ]
  },
  {
   "cell_type": "markdown",
   "metadata": {},
   "source": [
    "a)"
   ]
  },
  {
   "cell_type": "code",
   "execution_count": 14,
   "metadata": {},
   "outputs": [],
   "source": [
    "def ES_pmf(x, alpha):\n",
    "    x = np.array(x)\n",
    "    x = x[x[:,0].argsort()]\n",
    "    sum = 0\n",
    "    for i in range(len(x[:,1])):\n",
    "        sum += x[i,1]\n",
    "        if (alpha <= sum):\n",
    "            ES = (sum - alpha) * x[i,0]\n",
    "            for j in range(len(x[:,1]) - i - 1):\n",
    "                ES += x[i+j+1,0]*x[i+j+1,1]\n",
    "            return ES"
   ]
  },
  {
   "cell_type": "markdown",
   "metadata": {},
   "source": [
    "b)"
   ]
  },
  {
   "cell_type": "code",
   "execution_count": 15,
   "metadata": {},
   "outputs": [],
   "source": [
    "#Here a is the\n",
    "def ES(a,alpha,npts):\n",
    "    alpha_vec = np.linspace(alpha,1,npts,endpoint=True)\n",
    "    stepsize = (1-alpha)/(npts-1)\n",
    "    b = np.zeros(n);\n",
    "    for i in range(0,npts):\n",
    "        b[i]=VaR(a,alpha_vec[i])\n",
    "    y = stepsize*sum(b)/(1-alpha)\n",
    "    return y;"
   ]
  },
  {
   "cell_type": "markdown",
   "metadata": {},
   "source": [
    "c)"
   ]
  },
  {
   "cell_type": "code",
   "execution_count": 16,
   "metadata": {},
   "outputs": [
    {
     "name": "stdout",
     "output_type": "stream",
     "text": [
      "7.917116427657685\n",
      "9.529542778084483\n"
     ]
    }
   ],
   "source": [
    "#Problem 3, Part c\n",
    "#The goal is to compute the ES of L distributed by those descibed in (2.c.)\n",
    "#Inputs: (mu,variance,Distribution,alpha)\n",
    "#Outputs: ES_alpha(L)\n",
    "\n",
    "def ES(mu,variance,Dist_Type,alpha,df):\n",
    "    if Dist_Type == \"Gaussian\":\n",
    "        return mu+variance**(1/2)*(scipy.stats.norm.pdf(scipy.stats.norm.ppf(alpha)))/(1-alpha)\n",
    "    if Dist_Type == \"Student-t\":\n",
    "        return mu+variance**(1/2)*((scipy.stats.t.pdf(scipy.stats.t.ppf(alpha,df),df))/(1-alpha))*(df+(scipy.stats.t.ppf(alpha,df))**2)/(df-1)\n",
    "    \n",
    "print(ES(5,2,\"Gaussian\",0.95,4))\n",
    "print(ES(5,2,\"Student-t\",0.95,4))"
   ]
  },
  {
   "cell_type": "markdown",
   "metadata": {},
   "source": [
    "### Question 4"
   ]
  },
  {
   "cell_type": "code",
   "execution_count": 17,
   "metadata": {},
   "outputs": [
    {
     "data": {
      "image/png": "[encoded data removed]",
      "text/plain": [
       "<Figure size 432x288 with 1 Axes>"
      ]
     },
     "metadata": {
      "needs_background": "light"
     },
     "output_type": "display_data"
    },
    {
     "name": "stdout",
     "output_type": "stream",
     "text": [
      "The limit of ES(N)/V@R(N) as alpha approaches 1 is:  1.0108703782591615\n",
      "The limit of ES(t)/V@R(t) with v = 4 as alpha approaches 1 is:  1.3332414449842396\n",
      "Differences from expected limits are due to numerical error\n"
     ]
    }
   ],
   "source": [
    "#Problem 4\n",
    "#The goal is to use the functions of (2.c.) and (3.c.) to plot the graphs of V@R(L|t,df=4) and ES(L|Normal) as\n",
    "    #as functions of alpha and who their limits approach 1 and df(df-1) respectfully.\n",
    "#Inputs: (mu,variance,V@r_Distribution,ES_Distribution)\n",
    "#Outputs: Graphs\n",
    "\n",
    "def Prob4(mu,variance,df):\n",
    "    alpha=[]\n",
    "    n=100\n",
    "    for a in range(n):\n",
    "        alpha.append((a+1)/(n+1))\n",
    "    es_gauss=[]\n",
    "    var_stu=[]\n",
    "    for a in range(n):\n",
    "        es_gauss.append(ES(mu,variance,\"Gaussian\",alpha[a],df))\n",
    "        var_stu.append(VAR(mu,variance,\"Student-t\",alpha[a],df))\n",
    "    plt.plot(alpha,var_stu)\n",
    "    plt.plot(alpha,es_gauss)\n",
    "    plt.show()\n",
    "    g_lim=1\n",
    "    t_lim=df/(df-1)\n",
    "    error = 100\n",
    "    a=alpha[-1]\n",
    "    while error > 0.011:\n",
    "        a=0.5*(a+1)\n",
    "        lg = ES(mu,variance,\"Gaussian\",a,df)/VAR(mu,variance,\"Gaussian\",a,df)\n",
    "        error = abs(lg-g_lim)\n",
    "    error = 100\n",
    "    a=alpha[-1]\n",
    "    while error > 0.0001:\n",
    "        a=0.5*(a+1)\n",
    "        lt = ES(mu,variance,\"Student-t\",a,df)/VAR(mu,variance,\"Student-t\",a,df)\n",
    "        error = abs(lt-t_lim)\n",
    "    print(\"The limit of ES(N)/V@R(N) as alpha approaches 1 is: \",lg)\n",
    "    print(\"The limit of ES(t)/V@R(t) with v = 4 as alpha approaches 1 is: \",lt)\n",
    "    \n",
    "Prob4(5,2,4)\n",
    "print(\"Differences from expected limits are due to numerical error\")"
   ]
  },
  {
   "cell_type": "markdown",
   "metadata": {},
   "source": [
    "### Question 5"
   ]
  },
  {
   "cell_type": "code",
   "execution_count": 18,
   "metadata": {},
   "outputs": [],
   "source": [
    "#5\n",
    "#c is a number, b and mu are d*1 vector, sigma is d*d matrix, alpha denotes significant level\n",
    "def Risk_Multi(mu, sigma, c, b, alpha):\n",
    "    mean_L = - c - np.dot(b.T, mu)\n",
    "    var_L = np.dot(np.dot(b.T, sigma),b)\n",
    "    sigma_L = np.sqrt(var_L)\n",
    "    VaR_L = norm.ppf(1-alpha, mean_L, sigma_L)\n",
    "    ES_L = mean_L + sigma_L* norm.pdf(norm.ppf(1-alpha))/(1-alpha)\n",
    "    return VaR_L,ES_L"
   ]
  },
  {
   "cell_type": "code",
   "execution_count": 41,
   "metadata": {},
   "outputs": [
    {
     "name": "stdout",
     "output_type": "stream",
     "text": [
      "7052\n"
     ]
    }
   ],
   "source": [
    "#Bonus\n",
    "\n",
    "start_date = '1992-01-01'\n",
    "end_date = '2019-12-31'\n",
    "SP500 = data.get_data_yahoo('^GSPC', start_date, end_date)\n",
    "SP500 = np.array(list(SP500['Adj Close']))\n",
    "\n",
    "## log-return\n",
    "LSP500 = np.diff(np.log(SP500))\n",
    "LSP500 = LSP500[~np.isnan(LSP500)]"
   ]
  },
  {
   "cell_type": "code",
   "execution_count": 43,
   "metadata": {},
   "outputs": [
    {
     "name": "stdout",
     "output_type": "stream",
     "text": [
      "0.0002902395533315225 0.011080926203940003\n"
     ]
    }
   ],
   "source": [
    "## compute parameters\n",
    "mu_LSP500 = np.mean(LSP500)\n",
    "sigma_LSP500 = np.sqrt(np.var(LSP500))\n",
    "print(mu_LSP500, sigma_LSP500)\n",
    "\n",
    "## fit with norm and t\n",
    "t_fit_param = t.fit(LSP500)\n",
    "LSP500_fit_norm = normal(mu_LSP500, sigma_LSP500, len(LSP500))\n",
    "LSP500_fit_t = t.rvs(t_fit_param[0],t_fit_param[1], t_fit_param[2], size = len(LSP500))"
   ]
  },
  {
   "cell_type": "code",
   "execution_count": null,
   "metadata": {},
   "outputs": [],
   "source": [
    "##graph 1\n",
    "\n",
    "\n",
    "plt.figure(figsize=(18,18))\n",
    "plt.suptitle(\"S&P500 Log Returns, Fitted Normal and Fitted t-student\", y=0.9, fontsize=21, fontname=\"Cambria\", fontweight='normal')\n",
    "\n",
    "plt.subplot(3,1,1)\n",
    "plt.plot(LSP500, label=\"Log Return\", linewidth=0.3)\n",
    "plt.ylim(ymin = -.13)\n",
    "plt.ylim(ymax = .12)\n",
    "plt.legend(loc='upper left')\n",
    "\n",
    "\n",
    "plt.subplot(3,1,2)\n",
    "plt.plot(LSP500_fit_norm, label=\"Fitted Norm\", linewidth = 0.3)\n",
    "plt.ylim(ymin = -.13)\n",
    "plt.ylim(ymax = .12)\n",
    "plt.legend(loc='upper left')\n",
    "\n",
    "\n",
    "plt.subplot(3,1,3)\n",
    "plt.plot(LSP500_fit_t, label=\"Fitted t\", linewidth = 0.3)\n",
    "plt.ylim(ymin = -.13)\n",
    "plt.ylim(ymax = .12)\n",
    "plt.legend(loc='upper left')\n",
    "\n",
    "plt.show()"
   ]
  },
  {
   "cell_type": "code",
   "execution_count": null,
   "metadata": {},
   "outputs": [],
   "source": []
  }
 ],
 "metadata": {
  "kernelspec": {
   "display_name": "Python 3",
   "language": "python",
   "name": "python3"
  },
  "language_info": {
   "codemirror_mode": {
    "name": "ipython",
    "version": 3
   },
   "file_extension": ".py",
   "mimetype": "text/x-python",
   "name": "python",
   "nbconvert_exporter": "python",
   "pygments_lexer": "ipython3",
   "version": "3.7.4"
  }
 },
 "nbformat": 4,
 "nbformat_minor": 2
}
