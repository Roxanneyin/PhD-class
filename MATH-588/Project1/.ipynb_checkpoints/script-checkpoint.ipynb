{
 "cells": [
  {
   "cell_type": "code",
   "execution_count": 1,
   "metadata": {
    "collapsed": true
   },
   "outputs": [],
   "source": [
    "import pandas as pd\n",
    "import numpy as np\n",
    "from scipy.stats import norm"
   ]
  },
  {
   "cell_type": "code",
   "execution_count": 45,
   "metadata": {
    "collapsed": true
   },
   "outputs": [],
   "source": [
    "#2(a)\n",
    "def VaR_pmf(x, alpha): \n",
    "# x as the pmf matrix and alpha represents the significant level\n",
    "    x = np.array(x)\n",
    "    x = x[x[:,0].argsort()]\n",
    "    sum = 0 #initialize the cmf\n",
    "    for i in range(len(x[:,1])):\n",
    "        sum += x[i,1]\n",
    "        if (sum >= alpha):\n",
    "            return x[i,0]"
   ]
  },
  {
   "cell_type": "code",
   "execution_count": 46,
   "metadata": {},
   "outputs": [
    {
     "name": "stdout",
     "output_type": "stream",
     "text": [
      "[[4.  0.1]\n",
      " [3.  0.3]\n",
      " [2.  0.2]\n",
      " [5.  0.4]]\n"
     ]
    }
   ],
   "source": [
    "a = np.array([(4,0.1),(3,0.3),(2,0.2),(5,0.4)])\n",
    "print(a)"
   ]
  },
  {
   "cell_type": "code",
   "execution_count": 49,
   "metadata": {},
   "outputs": [
    {
     "name": "stdout",
     "output_type": "stream",
     "text": [
      "2.0\n",
      "2.0\n",
      "3.0\n",
      "3.0\n",
      "5.0\n"
     ]
    }
   ],
   "source": [
    "print(VaR_pmf(a, 0.1))\n",
    "print(VaR_pmf(a, 0.2))\n",
    "print(VaR_pmf(a, 0.3))\n",
    "print(VaR_pmf(a, 0.5))\n",
    "print(VaR_pmf(a, 1))"
   ]
  },
  {
   "cell_type": "code",
   "execution_count": 68,
   "metadata": {
    "collapsed": true
   },
   "outputs": [],
   "source": [
    "#3(a)\n",
    "def ES_pmf(x, alpha):\n",
    "    x = np.array(x)\n",
    "    x = x[x[:,0].argsort()]\n",
    "    sum = 0\n",
    "    for i in range(len(x[:,1])):\n",
    "        sum += x[i,1]\n",
    "        if (alpha <= sum):\n",
    "            ES = (sum - alpha) * x[i,0]\n",
    "            for j in range(len(x[:,1]) - i - 1):\n",
    "                ES += x[i+j+1,0]*x[i+j+1,1]\n",
    "            return ES"
   ]
  },
  {
   "cell_type": "code",
   "execution_count": 69,
   "metadata": {},
   "outputs": [
    {
     "name": "stdout",
     "output_type": "stream",
     "text": [
      "3.5\n",
      "3.3\n",
      "3.0\n",
      "2.4\n"
     ]
    }
   ],
   "source": [
    "print(ES_pmf(a, 0.1))\n",
    "print(ES_pmf(a, 0.2))\n",
    "print(ES_pmf(a, 0.3))\n",
    "print(ES_pmf(a, 0.5))"
   ]
  },
  {
   "cell_type": "code",
   "execution_count": 2,
   "metadata": {
    "collapsed": true
   },
   "outputs": [],
   "source": [
    "#5\n",
    "#c is a number, b and mu are d*1 vector, sigma is d*d matrix, alpha denotes significant level\n",
    "def Risk_Multi(mu, sigma, c, b, alpha):\n",
    "    mean_L = - c - np.dot(b.T, mu)\n",
    "    var_L = np.dot(np.dot(b.T, sigma),b)\n",
    "    sigma_L = np.sqrt(var_L)\n",
    "    VaR_L = norm.ppf(1-alpha, mean_L, sigma_L)\n",
    "    ES_L = mean_L + sigma_L* norm.pdf(norm.ppf(1-alpha))/(1-alpha)\n",
    "    return VaR_L,ES_L"
   ]
  },
  {
   "cell_type": "code",
   "execution_count": null,
   "metadata": {
    "collapsed": true
   },
   "outputs": [],
   "source": []
  }
 ],
 "metadata": {
  "kernelspec": {
   "display_name": "Python 3",
   "language": "python",
   "name": "python3"
  },
  "language_info": {
   "codemirror_mode": {
    "name": "ipython",
    "version": 3
   },
   "file_extension": ".py",
   "mimetype": "text/x-python",
   "name": "python",
   "nbconvert_exporter": "python",
   "pygments_lexer": "ipython3",
   "version": "3.6.1"
  }
 },
 "nbformat": 4,
 "nbformat_minor": 2
}
