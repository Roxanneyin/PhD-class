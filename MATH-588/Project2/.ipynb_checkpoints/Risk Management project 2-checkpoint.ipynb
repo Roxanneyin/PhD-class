{
 "cells": [
  {
   "cell_type": "code",
   "execution_count": 77,
   "metadata": {},
   "outputs": [],
   "source": [
    "#Import module:\n",
    "import numpy as np\n",
    "import pandas as pd\n",
    "import scipy.stats as stats\n",
    "from scipy.stats import norm, t, bernoulli\n",
    "import scipy\n",
    "import matplotlib.pyplot as plt\n",
    "import math\n",
    "import datetime\n",
    "import matplotlib.dates as mdate\n",
    "from pandas_datareader import data \n",
    "from arch import arch_model\n",
    "from statsmodels.tsa import stattools\n",
    "from statsmodels.tsa import arima_model\n",
    "from statsmodels.graphics import gofplots\n",
    "from statsmodels.regression import linear_model\n",
    "import scipy.linalg\n",
    "import statsmodels.api as sm\n",
    "import plotly.graph_objects as go"
   ]
  },
  {
   "cell_type": "code",
   "execution_count": 78,
   "metadata": {},
   "outputs": [],
   "source": [
    "#Problem 1:\n",
    "#URL is the URL of the excel document\n",
    "#Sheet_Name is the sheet name of the sheet you want to download from the document\n",
    "#Colums_Range is an array of Column names you want to download. Ex: ['Open','Close']\n",
    "#Rows_Range is an array with 2 elements: The first and last row number you want. Ex: [253,1634]\n",
    "def TBD(URL,Sheet_Name,Columns_Range,Rows_Range):\n",
    "    xl_data = pd.read_excel(URL,sheet_name=Sheet_Name)\n",
    "    df = pd.DataFrame(xl_data,columns = Columns_Range)\n",
    "    info = []\n",
    "    for col in Columns_Range:\n",
    "        info_col = []\n",
    "        for row in range(Rows_Range[0],Rows_Range[1]+1):\n",
    "            info_col.append(df[col][row])\n",
    "        info.append(info_col)\n",
    "    d = {Columns_Range[i]: info[i] for i in range(len(Columns_Range))}\n",
    "    df = pd.DataFrame(data=d)\n",
    "    return(df)"
   ]
  },
  {
   "cell_type": "code",
   "execution_count": 79,
   "metadata": {},
   "outputs": [],
   "source": [
    "data_sheet1 = TBD('http://math.iit.edu/~igor/LN/Math588/DataP2T3.xlsx','S1',['PL2'],[0,2999])\n",
    "data_sheet2 = TBD('http://math.iit.edu/~igor/LN/Math588/DataP2T3.xlsx','S2',['PL1'],[0,2999])\n",
    "data_sheet3 = TBD('http://math.iit.edu/~igor/LN/Math588/DataP2T3.xlsx','stock',['Log Return'],[0,5029])"
   ]
  },
  {
   "cell_type": "markdown",
   "metadata": {},
   "source": [
    "### TS Q1"
   ]
  },
  {
   "cell_type": "code",
   "execution_count": null,
   "metadata": {},
   "outputs": [],
   "source": [
    "def AR1(phi, distribution, variance, nsteps, x0):\n",
    "    #First verify whether the input satisfies out restriction:\n",
    "    if (phi >= 1 or phi <= -1):\n",
    "        return(\"input value of phi should be strictly between -1 and 1\")\n",
    "    if (distribution != \"t\" and distribution != \"normal\"):\n",
    "        return(\"input distribution can only be t or normal\")\n",
    "    if (variance <= 0):\n",
    "        return(\"input variance should be a positive value\")\n",
    "    if (nsteps <= 0 or not isinstance(nsteps, int)):\n",
    "        return(\"input nstep should be a positive integer\")\n",
    "    #Generate a list of random variables\n",
    "    if (distribution == \"normal\"):\n",
    "        sd = np.sqrt(variance)\n",
    "        array_rand = np.random.normal(0, sd, nsteps)\n",
    "    elif (distribution == \"t\"):\n",
    "        if (variance <= 1):\n",
    "            return(\"input variance should be larger than 1 for t distribution\")\n",
    "        else:\n",
    "            df = 2*variance/(variance-1)\n",
    "            array_rand = np.random.standard_t(df, nsteps)\n",
    "    #create an array to store the values \n",
    "    x = [x0]\n",
    "    for i in range(nsteps):\n",
    "        x.append(x[i] + array_rand[i])\n",
    "    x = np.array(x)    \n",
    "    return x "
   ]
  },
  {
   "cell_type": "code",
   "execution_count": 136,
   "metadata": {},
   "outputs": [
    {
     "data": {
      "text/plain": [
       "array([ 0.        , -1.62477696, -1.74886138, -2.35202375, -3.48107138,\n",
       "       -3.85305194, -3.21553487, -4.20788361,  1.86916696,  5.44049905,\n",
       "        6.02181587])"
      ]
     },
     "execution_count": 136,
     "metadata": {},
     "output_type": "execute_result"
    }
   ],
   "source": [
    "#testing\n",
    "AR1(0.4, \"t\", 2, 10, 0)"
   ]
  },
  {
   "cell_type": "code",
   "execution_count": 137,
   "metadata": {},
   "outputs": [],
   "source": [
    "#autocorrelation:\n",
    "\n",
    "#theoretical autocorrelation:\n",
    "def autocor_AR1(phi1, h):\n",
    "    rho = math.pow(phi1, abs(h))\n",
    "    return(rho)\n",
    "\n",
    "#sample autocorrelation:\n",
    "def autocor_sample(x,h):\n",
    "    n = len(x)\n",
    "    if (not isinstance(h,int) or abs(h) >= n):\n",
    "        return(\"h should be an integer whose absolute value is less than the length of x\")\n",
    "    else:\n",
    "        x_bar = np.mean(x)\n",
    "        array_mean_numerator = np.repeat(x_bar, n-h)\n",
    "        array_mean_denominator = np.repeat(x_bar, n)\n",
    "        #array_1,2,3 are the elements in the parenthesis\n",
    "        array_1 = np.subtract(x[h:],array_mean_numerator)\n",
    "        array_2 = np.subtract(x[:(n-h)],array_mean_numerator)\n",
    "        array_3 = np.subtract(x,array_mean_denominator)\n",
    "        rho = np.dot(array_1,array_2)/np.dot(array_3,array_3)\n",
    "        return rho"
   ]
  },
  {
   "cell_type": "code",
   "execution_count": 178,
   "metadata": {},
   "outputs": [],
   "source": [
    "#We compare normal and t distribution, phi: -0.5 and 0.6, variance: 2 and 5, fix: h=40, nsteps=100, x0=0\n",
    "arr_autocor = np.zeros((2,2,2,2))#intializa a four dimensional array to store all the values:\n",
    "phi = [-0.9, 0.6]\n",
    "dist = [\"normal\", \"t\"]\n",
    "variance =[2, 5] \n",
    "ran = [0, 1] \n",
    "# use a one dimensional array to store all the values:\n",
    "one_arr = []\n",
    "#Then we fill in numbers\n",
    "for t1 in ran: #phi\n",
    "    for t2 in ran: #distribution\n",
    "        for t3 in ran: #variance\n",
    "            #simulate the data:\n",
    "            X = AR1(phi[t1], dist[t2], variance[t3], 100, 0)\n",
    "            #calculate the autocovariances:\n",
    "            arr_autocor[t1, t2, t3, 0] = autocor_AR1(phi[t1], 2)\n",
    "            arr_autocor[t1, t2, t3, 1] = sample_autocorr(2)\n",
    "            one_arr.extend([arr_autocor[t1, t2, t3, 0],arr_autocor[t1, t2, t3, 1]])\n",
    "# Then we make a table for the data above              "
   ]
  },
  {
   "cell_type": "code",
   "execution_count": 179,
   "metadata": {},
   "outputs": [
    {
     "data": {
      "application/vnd.plotly.v1+json": {
       "config": {
        "plotlyServerURL": "https://plot.ly"
       },
       "data": [
        {
         "cells": {
          "align": "left",
          "fill": {
           "color": "lightcyan"
          },
          "line": {
           "color": "darkslategray"
          },
          "values": [
           [
            -0.9,
            -0.9,
            -0.9,
            -0.9,
            -0.9,
            -0.9,
            -0.9,
            -0.9,
            0.6,
            0.6,
            0.6,
            0.6,
            0.6,
            0.6,
            0.6,
            0.6
           ],
           [
            "normal",
            "normal",
            "normal",
            "normal",
            "t",
            "t",
            "t",
            "t",
            "normal",
            "normal",
            "normal",
            "normal",
            "t",
            "t",
            "t",
            "t"
           ],
           [
            2,
            2,
            5,
            5,
            2,
            2,
            5,
            5,
            2,
            2,
            5,
            5,
            2,
            2,
            5,
            5
           ],
           [
            "theo",
            "sample",
            "theo",
            "sample",
            "theo",
            "sample",
            "theo",
            "sample",
            "theo",
            "sample",
            "theo",
            "sample",
            "theo",
            "sample",
            "theo",
            "sample"
           ],
           [
            0.81,
            0.9034513103599345,
            0.81,
            0.9150803309759385,
            0.81,
            0.9791791672917103,
            0.81,
            0.9079335701129687,
            0.36,
            0.864005708041773,
            0.36,
            0.9789764436044676,
            0.36,
            0.8504698813757422,
            0.36,
            0.9392804197758091
           ]
          ]
         },
         "header": {
          "align": "left",
          "fill": {
           "color": "lightskyblue"
          },
          "line": {
           "color": "darkslategray"
          },
          "values": [
           "Phi",
           "Distributions",
           "variance",
           "autocor type",
           "value"
          ]
         },
         "type": "table"
        }
       ],
       "layout": {
        "height": 540,
        "template": {
         "data": {
          "bar": [
           {
            "error_x": {
             "color": "#2a3f5f"
            },
            "error_y": {
             "color": "#2a3f5f"
            },
            "marker": {
             "line": {
              "color": "#E5ECF6",
              "width": 0.5
             }
            },
            "type": "bar"
           }
          ],
          "barpolar": [
           {
            "marker": {
             "line": {
              "color": "#E5ECF6",
              "width": 0.5
             }
            },
            "type": "barpolar"
           }
          ],
          "carpet": [
           {
            "aaxis": {
             "endlinecolor": "#2a3f5f",
             "gridcolor": "white",
             "linecolor": "white",
             "minorgridcolor": "white",
             "startlinecolor": "#2a3f5f"
            },
            "baxis": {
             "endlinecolor": "#2a3f5f",
             "gridcolor": "white",
             "linecolor": "white",
             "minorgridcolor": "white",
             "startlinecolor": "#2a3f5f"
            },
            "type": "carpet"
           }
          ],
          "choropleth": [
           {
            "colorbar": {
             "outlinewidth": 0,
             "ticks": ""
            },
            "type": "choropleth"
           }
          ],
          "contour": [
           {
            "colorbar": {
             "outlinewidth": 0,
             "ticks": ""
            },
            "colorscale": [
             [
              0,
              "#0d0887"
             ],
             [
              0.1111111111111111,
              "#46039f"
             ],
             [
              0.2222222222222222,
              "#7201a8"
             ],
             [
              0.3333333333333333,
              "#9c179e"
             ],
             [
              0.4444444444444444,
              "#bd3786"
             ],
             [
              0.5555555555555556,
              "#d8576b"
             ],
             [
              0.6666666666666666,
              "#ed7953"
             ],
             [
              0.7777777777777778,
              "#fb9f3a"
             ],
             [
              0.8888888888888888,
              "#fdca26"
             ],
             [
              1,
              "#f0f921"
             ]
            ],
            "type": "contour"
           }
          ],
          "contourcarpet": [
           {
            "colorbar": {
             "outlinewidth": 0,
             "ticks": ""
            },
            "type": "contourcarpet"
           }
          ],
          "heatmap": [
           {
            "colorbar": {
             "outlinewidth": 0,
             "ticks": ""
            },
            "colorscale": [
             [
              0,
              "#0d0887"
             ],
             [
              0.1111111111111111,
              "#46039f"
             ],
             [
              0.2222222222222222,
              "#7201a8"
             ],
             [
              0.3333333333333333,
              "#9c179e"
             ],
             [
              0.4444444444444444,
              "#bd3786"
             ],
             [
              0.5555555555555556,
              "#d8576b"
             ],
             [
              0.6666666666666666,
              "#ed7953"
             ],
             [
              0.7777777777777778,
              "#fb9f3a"
             ],
             [
              0.8888888888888888,
              "#fdca26"
             ],
             [
              1,
              "#f0f921"
             ]
            ],
            "type": "heatmap"
           }
          ],
          "heatmapgl": [
           {
            "colorbar": {
             "outlinewidth": 0,
             "ticks": ""
            },
            "colorscale": [
             [
              0,
              "#0d0887"
             ],
             [
              0.1111111111111111,
              "#46039f"
             ],
             [
              0.2222222222222222,
              "#7201a8"
             ],
             [
              0.3333333333333333,
              "#9c179e"
             ],
             [
              0.4444444444444444,
              "#bd3786"
             ],
             [
              0.5555555555555556,
              "#d8576b"
             ],
             [
              0.6666666666666666,
              "#ed7953"
             ],
             [
              0.7777777777777778,
              "#fb9f3a"
             ],
             [
              0.8888888888888888,
              "#fdca26"
             ],
             [
              1,
              "#f0f921"
             ]
            ],
            "type": "heatmapgl"
           }
          ],
          "histogram": [
           {
            "marker": {
             "colorbar": {
              "outlinewidth": 0,
              "ticks": ""
             }
            },
            "type": "histogram"
           }
          ],
          "histogram2d": [
           {
            "colorbar": {
             "outlinewidth": 0,
             "ticks": ""
            },
            "colorscale": [
             [
              0,
              "#0d0887"
             ],
             [
              0.1111111111111111,
              "#46039f"
             ],
             [
              0.2222222222222222,
              "#7201a8"
             ],
             [
              0.3333333333333333,
              "#9c179e"
             ],
             [
              0.4444444444444444,
              "#bd3786"
             ],
             [
              0.5555555555555556,
              "#d8576b"
             ],
             [
              0.6666666666666666,
              "#ed7953"
             ],
             [
              0.7777777777777778,
              "#fb9f3a"
             ],
             [
              0.8888888888888888,
              "#fdca26"
             ],
             [
              1,
              "#f0f921"
             ]
            ],
            "type": "histogram2d"
           }
          ],
          "histogram2dcontour": [
           {
            "colorbar": {
             "outlinewidth": 0,
             "ticks": ""
            },
            "colorscale": [
             [
              0,
              "#0d0887"
             ],
             [
              0.1111111111111111,
              "#46039f"
             ],
             [
              0.2222222222222222,
              "#7201a8"
             ],
             [
              0.3333333333333333,
              "#9c179e"
             ],
             [
              0.4444444444444444,
              "#bd3786"
             ],
             [
              0.5555555555555556,
              "#d8576b"
             ],
             [
              0.6666666666666666,
              "#ed7953"
             ],
             [
              0.7777777777777778,
              "#fb9f3a"
             ],
             [
              0.8888888888888888,
              "#fdca26"
             ],
             [
              1,
              "#f0f921"
             ]
            ],
            "type": "histogram2dcontour"
           }
          ],
          "mesh3d": [
           {
            "colorbar": {
             "outlinewidth": 0,
             "ticks": ""
            },
            "type": "mesh3d"
           }
          ],
          "parcoords": [
           {
            "line": {
             "colorbar": {
              "outlinewidth": 0,
              "ticks": ""
             }
            },
            "type": "parcoords"
           }
          ],
          "pie": [
           {
            "automargin": true,
            "type": "pie"
           }
          ],
          "scatter": [
           {
            "marker": {
             "colorbar": {
              "outlinewidth": 0,
              "ticks": ""
             }
            },
            "type": "scatter"
           }
          ],
          "scatter3d": [
           {
            "line": {
             "colorbar": {
              "outlinewidth": 0,
              "ticks": ""
             }
            },
            "marker": {
             "colorbar": {
              "outlinewidth": 0,
              "ticks": ""
             }
            },
            "type": "scatter3d"
           }
          ],
          "scattercarpet": [
           {
            "marker": {
             "colorbar": {
              "outlinewidth": 0,
              "ticks": ""
             }
            },
            "type": "scattercarpet"
           }
          ],
          "scattergeo": [
           {
            "marker": {
             "colorbar": {
              "outlinewidth": 0,
              "ticks": ""
             }
            },
            "type": "scattergeo"
           }
          ],
          "scattergl": [
           {
            "marker": {
             "colorbar": {
              "outlinewidth": 0,
              "ticks": ""
             }
            },
            "type": "scattergl"
           }
          ],
          "scattermapbox": [
           {
            "marker": {
             "colorbar": {
              "outlinewidth": 0,
              "ticks": ""
             }
            },
            "type": "scattermapbox"
           }
          ],
          "scatterpolar": [
           {
            "marker": {
             "colorbar": {
              "outlinewidth": 0,
              "ticks": ""
             }
            },
            "type": "scatterpolar"
           }
          ],
          "scatterpolargl": [
           {
            "marker": {
             "colorbar": {
              "outlinewidth": 0,
              "ticks": ""
             }
            },
            "type": "scatterpolargl"
           }
          ],
          "scatterternary": [
           {
            "marker": {
             "colorbar": {
              "outlinewidth": 0,
              "ticks": ""
             }
            },
            "type": "scatterternary"
           }
          ],
          "surface": [
           {
            "colorbar": {
             "outlinewidth": 0,
             "ticks": ""
            },
            "colorscale": [
             [
              0,
              "#0d0887"
             ],
             [
              0.1111111111111111,
              "#46039f"
             ],
             [
              0.2222222222222222,
              "#7201a8"
             ],
             [
              0.3333333333333333,
              "#9c179e"
             ],
             [
              0.4444444444444444,
              "#bd3786"
             ],
             [
              0.5555555555555556,
              "#d8576b"
             ],
             [
              0.6666666666666666,
              "#ed7953"
             ],
             [
              0.7777777777777778,
              "#fb9f3a"
             ],
             [
              0.8888888888888888,
              "#fdca26"
             ],
             [
              1,
              "#f0f921"
             ]
            ],
            "type": "surface"
           }
          ],
          "table": [
           {
            "cells": {
             "fill": {
              "color": "#EBF0F8"
             },
             "line": {
              "color": "white"
             }
            },
            "header": {
             "fill": {
              "color": "#C8D4E3"
             },
             "line": {
              "color": "white"
             }
            },
            "type": "table"
           }
          ]
         },
         "layout": {
          "annotationdefaults": {
           "arrowcolor": "#2a3f5f",
           "arrowhead": 0,
           "arrowwidth": 1
          },
          "coloraxis": {
           "colorbar": {
            "outlinewidth": 0,
            "ticks": ""
           }
          },
          "colorscale": {
           "diverging": [
            [
             0,
             "#8e0152"
            ],
            [
             0.1,
             "#c51b7d"
            ],
            [
             0.2,
             "#de77ae"
            ],
            [
             0.3,
             "#f1b6da"
            ],
            [
             0.4,
             "#fde0ef"
            ],
            [
             0.5,
             "#f7f7f7"
            ],
            [
             0.6,
             "#e6f5d0"
            ],
            [
             0.7,
             "#b8e186"
            ],
            [
             0.8,
             "#7fbc41"
            ],
            [
             0.9,
             "#4d9221"
            ],
            [
             1,
             "#276419"
            ]
           ],
           "sequential": [
            [
             0,
             "#0d0887"
            ],
            [
             0.1111111111111111,
             "#46039f"
            ],
            [
             0.2222222222222222,
             "#7201a8"
            ],
            [
             0.3333333333333333,
             "#9c179e"
            ],
            [
             0.4444444444444444,
             "#bd3786"
            ],
            [
             0.5555555555555556,
             "#d8576b"
            ],
            [
             0.6666666666666666,
             "#ed7953"
            ],
            [
             0.7777777777777778,
             "#fb9f3a"
            ],
            [
             0.8888888888888888,
             "#fdca26"
            ],
            [
             1,
             "#f0f921"
            ]
           ],
           "sequentialminus": [
            [
             0,
             "#0d0887"
            ],
            [
             0.1111111111111111,
             "#46039f"
            ],
            [
             0.2222222222222222,
             "#7201a8"
            ],
            [
             0.3333333333333333,
             "#9c179e"
            ],
            [
             0.4444444444444444,
             "#bd3786"
            ],
            [
             0.5555555555555556,
             "#d8576b"
            ],
            [
             0.6666666666666666,
             "#ed7953"
            ],
            [
             0.7777777777777778,
             "#fb9f3a"
            ],
            [
             0.8888888888888888,
             "#fdca26"
            ],
            [
             1,
             "#f0f921"
            ]
           ]
          },
          "colorway": [
           "#636efa",
           "#EF553B",
           "#00cc96",
           "#ab63fa",
           "#FFA15A",
           "#19d3f3",
           "#FF6692",
           "#B6E880",
           "#FF97FF",
           "#FECB52"
          ],
          "font": {
           "color": "#2a3f5f"
          },
          "geo": {
           "bgcolor": "white",
           "lakecolor": "white",
           "landcolor": "#E5ECF6",
           "showlakes": true,
           "showland": true,
           "subunitcolor": "white"
          },
          "hoverlabel": {
           "align": "left"
          },
          "hovermode": "closest",
          "mapbox": {
           "style": "light"
          },
          "paper_bgcolor": "white",
          "plot_bgcolor": "#E5ECF6",
          "polar": {
           "angularaxis": {
            "gridcolor": "white",
            "linecolor": "white",
            "ticks": ""
           },
           "bgcolor": "#E5ECF6",
           "radialaxis": {
            "gridcolor": "white",
            "linecolor": "white",
            "ticks": ""
           }
          },
          "scene": {
           "xaxis": {
            "backgroundcolor": "#E5ECF6",
            "gridcolor": "white",
            "gridwidth": 2,
            "linecolor": "white",
            "showbackground": true,
            "ticks": "",
            "zerolinecolor": "white"
           },
           "yaxis": {
            "backgroundcolor": "#E5ECF6",
            "gridcolor": "white",
            "gridwidth": 2,
            "linecolor": "white",
            "showbackground": true,
            "ticks": "",
            "zerolinecolor": "white"
           },
           "zaxis": {
            "backgroundcolor": "#E5ECF6",
            "gridcolor": "white",
            "gridwidth": 2,
            "linecolor": "white",
            "showbackground": true,
            "ticks": "",
            "zerolinecolor": "white"
           }
          },
          "shapedefaults": {
           "line": {
            "color": "#2a3f5f"
           }
          },
          "ternary": {
           "aaxis": {
            "gridcolor": "white",
            "linecolor": "white",
            "ticks": ""
           },
           "baxis": {
            "gridcolor": "white",
            "linecolor": "white",
            "ticks": ""
           },
           "bgcolor": "#E5ECF6",
           "caxis": {
            "gridcolor": "white",
            "linecolor": "white",
            "ticks": ""
           }
          },
          "title": {
           "x": 0.05
          },
          "xaxis": {
           "automargin": true,
           "gridcolor": "white",
           "linecolor": "white",
           "ticks": "",
           "title": {
            "standoff": 15
           },
           "zerolinecolor": "white",
           "zerolinewidth": 2
          },
          "yaxis": {
           "automargin": true,
           "gridcolor": "white",
           "linecolor": "white",
           "ticks": "",
           "title": {
            "standoff": 15
           },
           "zerolinecolor": "white",
           "zerolinewidth": 2
          }
         }
        },
        "width": 600
       }
      },
      "text/html": [
       "<div>\n",
       "        \n",
       "        \n",
       "            <div id=\"9f0522d8-7f4c-4bd0-8c3f-a0759b9c05cd\" class=\"plotly-graph-div\" style=\"height:540px; width:600px;\"></div>\n",
       "            <script type=\"text/javascript\">\n",
       "                require([\"plotly\"], function(Plotly) {\n",
       "                    window.PLOTLYENV=window.PLOTLYENV || {};\n",
       "                    \n",
       "                if (document.getElementById(\"9f0522d8-7f4c-4bd0-8c3f-a0759b9c05cd\")) {\n",
       "                    Plotly.newPlot(\n",
       "                        '9f0522d8-7f4c-4bd0-8c3f-a0759b9c05cd',\n",
       "                        [{\"cells\": {\"align\": \"left\", \"fill\": {\"color\": \"lightcyan\"}, \"line\": {\"color\": \"darkslategray\"}, \"values\": [[-0.9, -0.9, -0.9, -0.9, -0.9, -0.9, -0.9, -0.9, 0.6, 0.6, 0.6, 0.6, 0.6, 0.6, 0.6, 0.6], [\"normal\", \"normal\", \"normal\", \"normal\", \"t\", \"t\", \"t\", \"t\", \"normal\", \"normal\", \"normal\", \"normal\", \"t\", \"t\", \"t\", \"t\"], [2, 2, 5, 5, 2, 2, 5, 5, 2, 2, 5, 5, 2, 2, 5, 5], [\"theo\", \"sample\", \"theo\", \"sample\", \"theo\", \"sample\", \"theo\", \"sample\", \"theo\", \"sample\", \"theo\", \"sample\", \"theo\", \"sample\", \"theo\", \"sample\"], [0.81, 0.9034513103599345, 0.81, 0.9150803309759385, 0.81, 0.9791791672917103, 0.81, 0.9079335701129687, 0.36, 0.864005708041773, 0.36, 0.9789764436044676, 0.36, 0.8504698813757422, 0.36, 0.9392804197758091]]}, \"header\": {\"align\": \"left\", \"fill\": {\"color\": \"lightskyblue\"}, \"line\": {\"color\": \"darkslategray\"}, \"values\": [\"Phi\", \"Distributions\", \"variance\", \"autocor type\", \"value\"]}, \"type\": \"table\"}],\n",
       "                        {\"height\": 540, \"template\": {\"data\": {\"bar\": [{\"error_x\": {\"color\": \"#2a3f5f\"}, \"error_y\": {\"color\": \"#2a3f5f\"}, \"marker\": {\"line\": {\"color\": \"#E5ECF6\", \"width\": 0.5}}, \"type\": \"bar\"}], \"barpolar\": [{\"marker\": {\"line\": {\"color\": \"#E5ECF6\", \"width\": 0.5}}, \"type\": \"barpolar\"}], \"carpet\": [{\"aaxis\": {\"endlinecolor\": \"#2a3f5f\", \"gridcolor\": \"white\", \"linecolor\": \"white\", \"minorgridcolor\": \"white\", \"startlinecolor\": \"#2a3f5f\"}, \"baxis\": {\"endlinecolor\": \"#2a3f5f\", \"gridcolor\": \"white\", \"linecolor\": \"white\", \"minorgridcolor\": \"white\", \"startlinecolor\": \"#2a3f5f\"}, \"type\": \"carpet\"}], \"choropleth\": [{\"colorbar\": {\"outlinewidth\": 0, \"ticks\": \"\"}, \"type\": \"choropleth\"}], \"contour\": [{\"colorbar\": {\"outlinewidth\": 0, \"ticks\": \"\"}, \"colorscale\": [[0.0, \"#0d0887\"], [0.1111111111111111, \"#46039f\"], [0.2222222222222222, \"#7201a8\"], [0.3333333333333333, \"#9c179e\"], [0.4444444444444444, \"#bd3786\"], [0.5555555555555556, \"#d8576b\"], [0.6666666666666666, \"#ed7953\"], [0.7777777777777778, \"#fb9f3a\"], [0.8888888888888888, \"#fdca26\"], [1.0, \"#f0f921\"]], \"type\": \"contour\"}], \"contourcarpet\": [{\"colorbar\": {\"outlinewidth\": 0, \"ticks\": \"\"}, \"type\": \"contourcarpet\"}], \"heatmap\": [{\"colorbar\": {\"outlinewidth\": 0, \"ticks\": \"\"}, \"colorscale\": [[0.0, \"#0d0887\"], [0.1111111111111111, \"#46039f\"], [0.2222222222222222, \"#7201a8\"], [0.3333333333333333, \"#9c179e\"], [0.4444444444444444, \"#bd3786\"], [0.5555555555555556, \"#d8576b\"], [0.6666666666666666, \"#ed7953\"], [0.7777777777777778, \"#fb9f3a\"], [0.8888888888888888, \"#fdca26\"], [1.0, \"#f0f921\"]], \"type\": \"heatmap\"}], \"heatmapgl\": [{\"colorbar\": {\"outlinewidth\": 0, \"ticks\": \"\"}, \"colorscale\": [[0.0, \"#0d0887\"], [0.1111111111111111, \"#46039f\"], [0.2222222222222222, \"#7201a8\"], [0.3333333333333333, \"#9c179e\"], [0.4444444444444444, \"#bd3786\"], [0.5555555555555556, \"#d8576b\"], [0.6666666666666666, \"#ed7953\"], [0.7777777777777778, \"#fb9f3a\"], [0.8888888888888888, \"#fdca26\"], [1.0, \"#f0f921\"]], \"type\": \"heatmapgl\"}], \"histogram\": [{\"marker\": {\"colorbar\": {\"outlinewidth\": 0, \"ticks\": \"\"}}, \"type\": \"histogram\"}], \"histogram2d\": [{\"colorbar\": {\"outlinewidth\": 0, \"ticks\": \"\"}, \"colorscale\": [[0.0, \"#0d0887\"], [0.1111111111111111, \"#46039f\"], [0.2222222222222222, \"#7201a8\"], [0.3333333333333333, \"#9c179e\"], [0.4444444444444444, \"#bd3786\"], [0.5555555555555556, \"#d8576b\"], [0.6666666666666666, \"#ed7953\"], [0.7777777777777778, \"#fb9f3a\"], [0.8888888888888888, \"#fdca26\"], [1.0, \"#f0f921\"]], \"type\": \"histogram2d\"}], \"histogram2dcontour\": [{\"colorbar\": {\"outlinewidth\": 0, \"ticks\": \"\"}, \"colorscale\": [[0.0, \"#0d0887\"], [0.1111111111111111, \"#46039f\"], [0.2222222222222222, \"#7201a8\"], [0.3333333333333333, \"#9c179e\"], [0.4444444444444444, \"#bd3786\"], [0.5555555555555556, \"#d8576b\"], [0.6666666666666666, \"#ed7953\"], [0.7777777777777778, \"#fb9f3a\"], [0.8888888888888888, \"#fdca26\"], [1.0, \"#f0f921\"]], \"type\": \"histogram2dcontour\"}], \"mesh3d\": [{\"colorbar\": {\"outlinewidth\": 0, \"ticks\": \"\"}, \"type\": \"mesh3d\"}], \"parcoords\": [{\"line\": {\"colorbar\": {\"outlinewidth\": 0, \"ticks\": \"\"}}, \"type\": \"parcoords\"}], \"pie\": [{\"automargin\": true, \"type\": \"pie\"}], \"scatter\": [{\"marker\": {\"colorbar\": {\"outlinewidth\": 0, \"ticks\": \"\"}}, \"type\": \"scatter\"}], \"scatter3d\": [{\"line\": {\"colorbar\": {\"outlinewidth\": 0, \"ticks\": \"\"}}, \"marker\": {\"colorbar\": {\"outlinewidth\": 0, \"ticks\": \"\"}}, \"type\": \"scatter3d\"}], \"scattercarpet\": [{\"marker\": {\"colorbar\": {\"outlinewidth\": 0, \"ticks\": \"\"}}, \"type\": \"scattercarpet\"}], \"scattergeo\": [{\"marker\": {\"colorbar\": {\"outlinewidth\": 0, \"ticks\": \"\"}}, \"type\": \"scattergeo\"}], \"scattergl\": [{\"marker\": {\"colorbar\": {\"outlinewidth\": 0, \"ticks\": \"\"}}, \"type\": \"scattergl\"}], \"scattermapbox\": [{\"marker\": {\"colorbar\": {\"outlinewidth\": 0, \"ticks\": \"\"}}, \"type\": \"scattermapbox\"}], \"scatterpolar\": [{\"marker\": {\"colorbar\": {\"outlinewidth\": 0, \"ticks\": \"\"}}, \"type\": \"scatterpolar\"}], \"scatterpolargl\": [{\"marker\": {\"colorbar\": {\"outlinewidth\": 0, \"ticks\": \"\"}}, \"type\": \"scatterpolargl\"}], \"scatterternary\": [{\"marker\": {\"colorbar\": {\"outlinewidth\": 0, \"ticks\": \"\"}}, \"type\": \"scatterternary\"}], \"surface\": [{\"colorbar\": {\"outlinewidth\": 0, \"ticks\": \"\"}, \"colorscale\": [[0.0, \"#0d0887\"], [0.1111111111111111, \"#46039f\"], [0.2222222222222222, \"#7201a8\"], [0.3333333333333333, \"#9c179e\"], [0.4444444444444444, \"#bd3786\"], [0.5555555555555556, \"#d8576b\"], [0.6666666666666666, \"#ed7953\"], [0.7777777777777778, \"#fb9f3a\"], [0.8888888888888888, \"#fdca26\"], [1.0, \"#f0f921\"]], \"type\": \"surface\"}], \"table\": [{\"cells\": {\"fill\": {\"color\": \"#EBF0F8\"}, \"line\": {\"color\": \"white\"}}, \"header\": {\"fill\": {\"color\": \"#C8D4E3\"}, \"line\": {\"color\": \"white\"}}, \"type\": \"table\"}]}, \"layout\": {\"annotationdefaults\": {\"arrowcolor\": \"#2a3f5f\", \"arrowhead\": 0, \"arrowwidth\": 1}, \"coloraxis\": {\"colorbar\": {\"outlinewidth\": 0, \"ticks\": \"\"}}, \"colorscale\": {\"diverging\": [[0, \"#8e0152\"], [0.1, \"#c51b7d\"], [0.2, \"#de77ae\"], [0.3, \"#f1b6da\"], [0.4, \"#fde0ef\"], [0.5, \"#f7f7f7\"], [0.6, \"#e6f5d0\"], [0.7, \"#b8e186\"], [0.8, \"#7fbc41\"], [0.9, \"#4d9221\"], [1, \"#276419\"]], \"sequential\": [[0.0, \"#0d0887\"], [0.1111111111111111, \"#46039f\"], [0.2222222222222222, \"#7201a8\"], [0.3333333333333333, \"#9c179e\"], [0.4444444444444444, \"#bd3786\"], [0.5555555555555556, \"#d8576b\"], [0.6666666666666666, \"#ed7953\"], [0.7777777777777778, \"#fb9f3a\"], [0.8888888888888888, \"#fdca26\"], [1.0, \"#f0f921\"]], \"sequentialminus\": [[0.0, \"#0d0887\"], [0.1111111111111111, \"#46039f\"], [0.2222222222222222, \"#7201a8\"], [0.3333333333333333, \"#9c179e\"], [0.4444444444444444, \"#bd3786\"], [0.5555555555555556, \"#d8576b\"], [0.6666666666666666, \"#ed7953\"], [0.7777777777777778, \"#fb9f3a\"], [0.8888888888888888, \"#fdca26\"], [1.0, \"#f0f921\"]]}, \"colorway\": [\"#636efa\", \"#EF553B\", \"#00cc96\", \"#ab63fa\", \"#FFA15A\", \"#19d3f3\", \"#FF6692\", \"#B6E880\", \"#FF97FF\", \"#FECB52\"], \"font\": {\"color\": \"#2a3f5f\"}, \"geo\": {\"bgcolor\": \"white\", \"lakecolor\": \"white\", \"landcolor\": \"#E5ECF6\", \"showlakes\": true, \"showland\": true, \"subunitcolor\": \"white\"}, \"hoverlabel\": {\"align\": \"left\"}, \"hovermode\": \"closest\", \"mapbox\": {\"style\": \"light\"}, \"paper_bgcolor\": \"white\", \"plot_bgcolor\": \"#E5ECF6\", \"polar\": {\"angularaxis\": {\"gridcolor\": \"white\", \"linecolor\": \"white\", \"ticks\": \"\"}, \"bgcolor\": \"#E5ECF6\", \"radialaxis\": {\"gridcolor\": \"white\", \"linecolor\": \"white\", \"ticks\": \"\"}}, \"scene\": {\"xaxis\": {\"backgroundcolor\": \"#E5ECF6\", \"gridcolor\": \"white\", \"gridwidth\": 2, \"linecolor\": \"white\", \"showbackground\": true, \"ticks\": \"\", \"zerolinecolor\": \"white\"}, \"yaxis\": {\"backgroundcolor\": \"#E5ECF6\", \"gridcolor\": \"white\", \"gridwidth\": 2, \"linecolor\": \"white\", \"showbackground\": true, \"ticks\": \"\", \"zerolinecolor\": \"white\"}, \"zaxis\": {\"backgroundcolor\": \"#E5ECF6\", \"gridcolor\": \"white\", \"gridwidth\": 2, \"linecolor\": \"white\", \"showbackground\": true, \"ticks\": \"\", \"zerolinecolor\": \"white\"}}, \"shapedefaults\": {\"line\": {\"color\": \"#2a3f5f\"}}, \"ternary\": {\"aaxis\": {\"gridcolor\": \"white\", \"linecolor\": \"white\", \"ticks\": \"\"}, \"baxis\": {\"gridcolor\": \"white\", \"linecolor\": \"white\", \"ticks\": \"\"}, \"bgcolor\": \"#E5ECF6\", \"caxis\": {\"gridcolor\": \"white\", \"linecolor\": \"white\", \"ticks\": \"\"}}, \"title\": {\"x\": 0.05}, \"xaxis\": {\"automargin\": true, \"gridcolor\": \"white\", \"linecolor\": \"white\", \"ticks\": \"\", \"title\": {\"standoff\": 15}, \"zerolinecolor\": \"white\", \"zerolinewidth\": 2}, \"yaxis\": {\"automargin\": true, \"gridcolor\": \"white\", \"linecolor\": \"white\", \"ticks\": \"\", \"title\": {\"standoff\": 15}, \"zerolinecolor\": \"white\", \"zerolinewidth\": 2}}}, \"width\": 600},\n",
       "                        {\"responsive\": true}\n",
       "                    ).then(function(){\n",
       "                            \n",
       "var gd = document.getElementById('9f0522d8-7f4c-4bd0-8c3f-a0759b9c05cd');\n",
       "var x = new MutationObserver(function (mutations, observer) {{\n",
       "        var display = window.getComputedStyle(gd).display;\n",
       "        if (!display || display === 'none') {{\n",
       "            console.log([gd, 'removed!']);\n",
       "            Plotly.purge(gd);\n",
       "            observer.disconnect();\n",
       "        }}\n",
       "}});\n",
       "\n",
       "// Listen for the removal of the full notebook cells\n",
       "var notebookContainer = gd.closest('#notebook-container');\n",
       "if (notebookContainer) {{\n",
       "    x.observe(notebookContainer, {childList: true});\n",
       "}}\n",
       "\n",
       "// Listen for the clearing of the current output cell\n",
       "var outputEl = gd.closest('.output');\n",
       "if (outputEl) {{\n",
       "    x.observe(outputEl, {childList: true});\n",
       "}}\n",
       "\n",
       "                        })\n",
       "                };\n",
       "                });\n",
       "            </script>\n",
       "        </div>"
      ]
     },
     "metadata": {},
     "output_type": "display_data"
    }
   ],
   "source": [
    "#generate table of the above results:\n",
    "colen = len(one_arr)\n",
    "col1 = np.repeat(phi, [colen/2,colen/2], axis=0)\n",
    "col2 = np.repeat([\"normal\",\"t\",\"normal\",\"t\"], 4, axis=0)\n",
    "col3 = np.repeat([2,5,2,5,2,5,2,5], 2, axis=0)\n",
    "col4 = [\"theo\",\"sample\",\"theo\",\"sample\",\"theo\",\"sample\",\"theo\",\"sample\",\"theo\",\"sample\",\"theo\",\"sample\",\"theo\",\"sample\",\"theo\",\"sample\"]\n",
    "fig = go.Figure(data=[go.Table(\n",
    "    header=dict(values=['Phi', 'Distributions', 'variance','autocor type','value'],\n",
    "                line_color='darkslategray',\n",
    "                fill_color='lightskyblue',\n",
    "                align='left'),\n",
    "    cells=dict(values=[col1,\n",
    "                       col2,\n",
    "                       col3,\n",
    "                       col4,\n",
    "                       one_arr],\n",
    "                  \n",
    "               line_color='darkslategray',\n",
    "               fill_color='lightcyan',\n",
    "               align='left'))\n",
    "])\n",
    "\n",
    "fig.update_layout(width=600, height=540)\n",
    "fig.show()"
   ]
  },
  {
   "cell_type": "markdown",
   "metadata": {},
   "source": [
    "### TS Q2:"
   ]
  },
  {
   "cell_type": "code",
   "execution_count": 140,
   "metadata": {},
   "outputs": [],
   "source": [
    "#Problem 2:\n",
    "#Simulate MA(q) with inputs of integer q and vectors theta and epsilon\n",
    "#Define function to generate MA process\n",
    "def MA(q,theta,epsilon):\n",
    "    X = [epsilon[0]]\n",
    "    for t in range(1,q):\n",
    "        xsum = epsilon[t]\n",
    "        for k in range(t):\n",
    "            xsum = xsum + theta[k]*epsilon[t-k-1]\n",
    "        X.append(xsum)\n",
    "    for t in range(q,len(epsilon)):\n",
    "        xsum = epsilon[t]\n",
    "        for k in range(q):\n",
    "            xsum = xsum + theta[k]*epsilon[t-k-1]\n",
    "        X.append(xsum)\n",
    "    return X"
   ]
  },
  {
   "cell_type": "code",
   "execution_count": 141,
   "metadata": {},
   "outputs": [
    {
     "name": "stdout",
     "output_type": "stream",
     "text": [
      "[-0.888959552433424, 0.3132715047555701, -10.71572392148593, 16.054239816319054, 6.271856043005142, -18.708557352767098, 1.6165584820852517, -9.044752270225745, -5.5579775009003995, 5.529370380811838, 0.02143509269214494, 13.74401639991694, -37.791349200168106, 25.512147495624887, 14.247348220113057, -18.739332442989884, -19.946407377653887, -57.74121900256601, -8.478543951112595, 7.197971228556656, 11.919820355236057, -6.285294103756141, 7.035310762672604, -2.67291170692899, -16.960084072600715, 17.868089623257934, -4.782023788626874, 7.532097869950839, -0.6668328519003515, -7.757093282993047, 24.203702179057814, -3.2279042663130335, -6.232218039046586, -14.128544772304648, -6.211570568604576, 25.05273624762903, 12.688719884581754, 34.409526680486806, 12.509066207922329, 4.84716309584298, -9.57893745587773, -24.843430994603164, 26.755222729106652, 2.803729472656709, 14.722494916325438, -24.751350351233487, 25.30349203500311, 11.625369525652921, -8.287603204055857, -31.4639016909303, -1.5197553023052364, -33.2377756258716, -34.131544295271425, 1.997265946289516, 0.16919724422888027, -8.119388167375309, 53.32878744022692, 21.30468371501906, 11.993385320301833, 7.993540878872908, 6.1079368196964685, 13.14460049526233, 31.921166112837177, 12.219866143664449, -16.69053172138578, 2.9425489196888766, -23.956132731677346, 19.575898328125245, -3.8420116258552683, 11.79334181401374, -11.175001793238556, -10.970855418429675, 5.257670606778617, 18.89152503078134, -12.909246163045307, 16.42730753225717, -5.580035144432509, 5.370734726506682, 3.2409250846074613, 16.96138509751389, 12.958922265707862, 18.420022083503476, 24.232429881431727, 16.460048740100962, 16.607634422227573, 21.874995784531844, 4.35434601165149, 18.51827581613427, 15.836378108276497, -2.96011756066445, -2.0820105964278435, 8.929909476902747, -11.276366872585713, -2.9643229708149574, -68.06615112593099, -0.7007995062082942, 8.263879832465339, 0.17122310266302398, 8.764888353268002, 6.678067604142233, 19.326719674894193, 2.474364468472404, -8.877684554429727, -0.2544015981655259, 12.494694618296126, -4.038523969896861, -26.916918473075246, 7.651594818924574, -33.10479389630046, 4.9528326364984885, -36.82658253026576, -12.233841397438319, -5.967868455229908, -25.28499308940387, -26.869704051440646, -7.0162198422917506, -23.49688324843312, -48.69897328374523, 27.952357513194233, -0.8482521883434551, -20.797910986630832, 10.457420192560722, -18.690972711209017, -11.38550612640751, -4.045083017994511, -9.862873386890673, 11.147465588315068, -16.79660246069427, -5.4756909868229755, 25.457546546870564, -32.72881930883879, 3.2628359515925105, -24.529866592064995, -15.840550839301384, 7.268831124469977, 4.729723798619927, -9.529905366833159, -2.593155667688032, 10.869812715694568, -34.22546096947328, 11.117379785030227, 19.24598461274302, -0.9839548403269607, 2.4912479992930314, 14.753554566965324, 9.602791432324947, -8.63905524564945, 25.861500729915573, -1.2836180189179698, -26.7347044437835, 11.045594454083787, -18.98002723589623, -11.631352526187442, 33.10403534205292, 0.5579553997950102, 40.51125928406092, 8.139559715609579, -12.924967071460022, -15.831607422581477, -5.009468176112055, -32.730946762898505, 41.597379906172115, 8.784546679122583, -19.922008156624383, 23.89183437381257, 0.42302042650400784, 2.4895577734718133, -1.8981227348719636, 20.900423969554403, -5.4326649458406875, -29.91654579467385, -28.36940260358194, -2.5487819972774974, -3.368798752316693, -8.999616732995191, 18.541125336470472, -6.580318091609776, -0.687048341325398, 26.808585789684244, 16.825787271570643, 7.164233095500423, -17.000732845126983, 24.986096711647267, -23.958505596167672, 15.514807468208653, 1.721522819485632, 2.78144509070365, -6.448133639059574, -7.075885011045887, 44.611723160323386, 17.766115405016063, -14.95784488624388, 24.41332214554393, 6.171121466846136, -1.8835326577664833, 13.507247689870907, -2.9253487320804092, -14.356509552297663, 7.001639309856074, 30.834492326538133, 18.418140805686228, 9.0941413797869, 22.2419251237367, -10.774127240968738, 1.3638045917146782, 15.772464329081716, 34.584700671953634, -12.239535730291674, 10.680122345851725, -26.725474537903693, -40.63915956458345, -31.074865620196356, 5.686206661516631, 5.250102697077359, -0.37178457936107145, -29.508651887632205, 0.6022529107394721, -28.536253205691043, 23.813635715126367, -12.295322513908761, 17.281298913852666, -14.433347156292033, 7.89453512196693, 10.709044596005057, -0.8500126042777227, 11.743046280157822, -14.40782904462239, -3.4819681297587604, 1.898867574104729, -18.177256396108596, 18.05708699674495, 9.406895034305983, 14.655069936647967, 2.722703782378195, 11.86128544617845, 15.252338224587222, 18.342220513855423, -8.490420641835719, 3.2899237094985923, 17.601875217607564, 8.348504728367482, 23.94177801615055, 12.992124888068668, -1.0708777350011793, 14.437782210346539, -82.70876947046217, -8.369472438141647, 4.740367841586389, -25.540870454667726, -12.755640182734894, -16.96761265248761, 1.0844865997991011, -70.45375645109692, -16.607740878820533, -1.3815787221530629, -1.085300813803192, -24.280065042719045, -58.77244810847583, 2.2227072217438097, 13.214644311864113, -16.150456757988767, 2.7609545491385323, 10.200592380524, 12.343257776210821, -32.24474257024633, 20.75262972858183, 0.6539207094646924, -12.960060652913137, 2.9447361477035887, -7.570399611921994, 22.78218201909925, -12.066168153343208, -15.151533041823507, 5.856829180558457, 2.520461012825185, 2.702790003603264, 1.1196292235659686, 37.62040795553272, 34.930978784275865, 6.065978995008408, 19.79333508741256, -21.145515704262856, 7.949275966324263, -49.58950905007017, -11.615537565684804, -5.388708598048854, 8.629594968240761, -16.122813136966208, 9.797573154636089, -19.293190720300867, -4.630170834133107, 17.609806248344363, 11.84673263007966, 8.130967212315158, 6.685862036862561, -3.032083927925383, 10.75818506871153, -17.09329529168976, -0.8065485070946448, 24.02415691096321, 16.24500664852983, -39.009008221403136, -4.236909748262088, -18.032514231678253, -6.818430858422881, -21.091186868429933, -5.714982274085114, -5.5450316314120265, -14.41914377571933, -7.68850566308368, 7.623365857220566, -13.998432704695382, -1.9945180566064153, -31.90663480589017, -41.65515067448174, -6.926591139844678, 2.07419061966545, 15.556464418928833, 14.374244799568874, 19.107792210809546, 11.423427487463252, 2.836366247837982, 12.289361009117581, -29.21274027440625, 21.2381013784903, 37.89012462624874, -16.961374196266934, 1.6368461727319965, -11.64385601551298, 6.399771705762891, -33.0518586725584, -10.96554849873708, -13.152966786698526, 10.62926795812582, -12.806275165895645, -22.776056522982014, 7.178485312955973, 6.91397499941187, -0.14832069823649865, 4.737249091637289, -5.541730083472438, 5.433602977641497, 44.967679038126654, 30.18678000663332, -7.490029935584868, 7.411967148159841, -26.32575431060633, -8.904202715579121, 7.090308432825752, 1.4239483111964328, 14.11693213661282, 3.2189631213949945, -22.83730641315122, 13.347981521496383, 3.2140315819028817, 5.225081586133727, -10.677977907386206, 24.41733729919769, 3.2988227481432904, 22.177654576692596, 10.888826288074876, -17.77966603818141, 19.498590768658573, 14.845867808275226, 11.380714002959692, 29.48592200248588, -15.542932177042358, -6.805231875067497, -10.706014704101161, -17.2112453169146, -5.617036763342634, 26.66456323300923, -2.8522625123307863, -11.941515232036243, 0.42812106467792777, 4.084870003782984, 20.37744686034813, 42.32560249967788, 5.961425529451352, -2.664484688440501, 15.601618347361764, -38.82175060916165, 2.3319846568942393, -6.70193382007096, 19.196935442173952, -9.020523960388568, 11.61918050023545, -30.62842749290465, 23.781159517173844, 63.720319688220506, -14.332710273158924, -37.24124334844102, -5.796796992641692, -12.634541451761072, 1.2187705716617216, 15.192638064252531, 137.65090699823438, 2.961756086680182, -0.09999765520073545, -6.332710978964505, 24.93783363068067, 57.14670415718474, 8.133488252470903, 29.103125294905915, -13.069471335202635, 12.13222286534571, 0.13011390362988007, -8.893167640861197, 7.757124929233976, 6.7373890007183945, 21.621454718726522, -4.138772765560746, 14.15944517144842, 20.122185419388583, -4.590041721513871, -22.8740055286996, 7.504321269581564, 2.1494279377677694, -1.2458529349707845, 4.116620593129622, -8.904073199735329, -2.1741535293992866, -34.856185447936, 7.141774251602311, 11.286609262680305, -4.039456684575451, 5.513645625637242, -8.985420831819965, 49.13029686415745, 7.473955807562981, 6.47503896120532, -17.897200813935136, 0.3753978374320779, -12.243039502451744, 2.9648135810554868, 24.153674634870274, -6.508054008297087, 6.681979611184474, -1.7828786139754564, 8.799505087457742, 12.026295251772769, -48.836645887572075, -2.8352068728843087, -18.41998228927839, -9.256614702398196, 3.4483690583663957, -39.4418477491076, -3.6471248149072415, -21.700560666092894, -6.653238089490529, -16.671742505319095, -24.634112527736285, 32.66949477861059, -32.64875707551714, -1.2185749376760926, -12.953423209165711, -6.37792694980212, 7.096485946032421, 3.2045838181377966, 3.193897311743254, -15.525515821091927, -1.3490611291478625, -13.073306869533024, 18.573820105755317, 12.836467875168807, -42.26972844200823, 3.4569230477122512, -15.2638350149353, -21.537696364554456, -4.245872179892231, 8.998382097864843, -1.5325538708425936, 61.38830231402469, 19.611464264190232, 10.861940780504607, -1.1684687475062474, 19.460227084150155, 3.6553191594247583, -18.921122536178807, -15.499573624673099, 14.39656838084652, 2.0413986481467705, -14.916115227789021, -26.956485489971616, 4.690581020293421, 4.477602253757615, -7.924263940276352, -8.309801636780417, -1.474391314758214, -5.294050798877503, -6.791043264451368, 21.535144114146636, -24.65339909331831, 9.676128079704116, 13.919709718553625, -3.719116466073972, -27.672671414768256, 8.876372616528219, 2.2376688032539462, 3.774721910042926, -10.110839707460915, 0.5574746863200906, -6.9920593165206535, -16.351653425501187, 20.413360982967877, 2.3870400691637, -6.212005315838451, -10.416468173470324, 18.072547758695578, -0.8585807517738218, 5.095423499641573, 3.292693101138108, -5.156680442343913, -11.249149413143197, -15.499436963516056, -3.488763955124245, -30.149467889421942, -13.043615994222653, -12.099984327437856, 7.230576972747915, -6.40438881729768, 5.841432310428739, -16.365100557202787, -7.046996477334995, -21.048236163892938, -6.100258900449243, -2.6430216372736464, 6.345987088259738, -8.370117900442098, 21.286929437348828, 13.826524492092853, -5.582478456026719, -9.013214487151687, -13.35186096173922, -11.989012382310664, -17.560574866198035, 4.923056988437301, 2.2270102488974945, -1.0366200426725793, -22.165678167450597, -22.61543216394323, -8.100514576584178, 15.266643400741007, 30.186453954222493, -0.6240061786603583, -9.887316759425605, 13.890581799985092, -59.48896775677512, 28.054435967344762, -0.8068836964373969, 0.4144707828123636, -3.9513325882869497, 10.492421974026007, -0.1581558136518344, 20.664739956729584, -16.071295588830807, 3.445992227912033, 2.9759084853739894, -15.0038726770837, 16.573872333185605, -4.422048062189064, 17.328246673799857, -46.28787159174476, 1.2902589070398933, 9.22802372474261, -28.89722970680308, -17.031223395760176, 19.825865602928637, 13.544715109905404, -30.29994067086576, 1.5937944270887707, -3.8639603613721913, -14.141965657605358, 28.221647574745898, -1.712493681032825, 16.523833572433904, -5.1827257236464455, 24.18147968720818, -12.525281863062135, 7.2125087408544015, -7.136592731995003, 0.46213551255029334, -3.9513234315543313, 18.544348931742842, 0.5598156780021961, 37.32502776471377, 3.4114361490214575, 7.427498929249999, -4.939035332003976, -5.761181708960664, 4.879685162557259, 3.6680871968107533, 11.83533120627634, -1.6911414769171982, 16.428656375683182, -14.680698628147086, -25.444095216525053, -20.97380548297325, -32.132972619165656, -30.65054714841188, -15.070673449705964, -25.29979075512901, 1.605481227210876, 17.032356830012272, 4.1401418544496424, 12.328281301930708, 60.46017707430533, -21.52467028111437, 29.742564745369766, -19.56891268277321, -12.058541190025647, 3.5592609792659093, 15.88836157625197, -14.49003992985581, -19.64139896653153, -0.06783491917321827, -13.77906907724851, 3.8006108360094055, -13.164979982074252, 25.93791688043884, -45.334399798084725, -7.370028534281967, -2.144941675147268, 16.265599989405324, -1.8295067064989228, 6.758580554164252, 2.5950370093496677, 28.254139890901733, 8.94509763961551, 12.38784899118875, -27.0466043798007, -13.237891615801953, -10.849509629003947, 17.860716685585096, 11.76240973838334, 18.43367361597817, 7.957463881448886, -2.3649652217764587, -1.2529106579700904, -7.079633470493315, -6.543594044984576, 11.95922660812071, 1.7895783036031805, 0.36616317101567564, 9.187652940973264, 17.291574362185237, 6.170768282625655, 11.188015842496776, 5.2774590785899385, -2.079855789753557, -57.13224399121415, -40.47614974706365, -3.086613732493356, 13.961910823348658, -1.2027033785688843, -7.784696516856274, -4.898777065734357, -1.3501625558927892, -12.517700942059811, -7.822593783054135, 1.1453891348578034, -34.958625577814146, 5.942480440171842, 4.208855683420397, 4.003616723528662, 15.027389139096742, 0.573579901715255, 20.78050744495047, 12.761267373838935, 15.218403189528996, -2.3778852929899825, 16.350629223969918, -5.921803991393373, 10.154896679014648, -13.820613673286772, 2.4647853531661523, -5.8383824046600195, -9.930150847065395, -1.3020754239508638, -8.27825061147367, 12.116541711229102, -10.407040483308275, -18.959795455077334, -4.244100835670576, 17.853826261771207, 31.370754119485166, 28.406488271126076, -17.654748328695483, -65.91324207536488, -15.44869944417788, -5.697471743561215, 4.2156984503130035, -76.67995652845539, -1.6967866682388104, 9.914995526948715, 9.911259183551033, -29.901156827239134, -9.82351637669907, -1.5622790736877317, 9.585249979041365, 17.785702398813157, -0.6276298578421347, 2.584345311152775, 26.123938047778235, 33.82991593418413, -25.891466167412997, 7.793152053638265, -9.64354368185667, -0.018225397558380818, 19.471526320235043, -4.39060047419712, -14.249219776732637, -15.627869929680768, -55.592122301728615, 32.34452646952134, -43.02467528036014, 4.778082207116061, -8.358347599508917, 1.1274569244865844, -20.950904913810792, 13.747165598100747, -4.5733491155505295, -8.906977587397492, -0.4110589216272351, -24.10282902190414, -4.760566742170266, 9.379168306229733, -29.246257157255833, -7.529732620062148, -43.04377352172726, 3.3447414062155243, 11.787533058531153, 10.116098343861102, 3.795575502921807, -48.50079807550621, 9.364312155872355, 1.8975216871928802, 9.288586066356576, 17.666179646249986, -7.411582775456035, -18.06936134412398, 9.688754038039395, 30.797129280968008, 43.5699880623715, 6.310798647203093, -10.420415660166228, -53.18021725134257, -30.928725070973286, 7.298369500662608, 25.557313118478305, -25.3654350522874, -20.180252569955247, -6.1885779802762055, 7.763024109270692, 13.678196635994128, 3.361658856131525, -0.09379552287018988, -3.260729594498314, -6.742483452210923, -4.317925990829405, 18.365676767480743, -20.291742049307906, -41.13753739046743, -8.06836387482566, 11.832745468045601, 10.269146786311412, -7.40958674218212, -24.457581895637382, 16.02289524249003, 5.959650920274086, 7.766081147528906, -13.266546689198318, 17.00453469089434, -8.129705332426292, 16.34413963483092, 0.09677948711359652, 6.602270083413021, -16.77466020495936, 5.0709225335760495, -11.337542039982333, 35.3705863531299, -31.885640479453816, -10.125733657861305, -32.60520288500028, -20.438474323530645, -4.37345035951856, -53.80781210571859, -18.455314107320334, 25.397305702279052, -16.028563707860954, -42.18538953565215, 4.929975804113184, 12.615594854683119, -12.471274603599614, 10.448113768228051, -81.12858666190075, -20.97205866426871, -11.299989712716606, 30.485387185152398, 22.60125823328834, -1.3819642953180935, -9.680966991084164, 9.637520532004977, -5.244841373636629, -7.778483063644724, 10.05066876995808, 17.79883755363681, 18.388678187973827, -17.483372525907384, 7.037441284912588, -9.036396797403405, -1.480789621670075, -73.82083554085564, 19.415084608900774, -6.28875783116391, 6.176965626983582, -1.7959948531246896, -46.295038014555786, 8.765992833368728, 6.455933592824214, -1.3282790831334408, 11.340020852362043, 4.776548352458231, 27.173266371173685, 23.250011312567572, 4.318266639459463, 23.521797470788265, 28.52368188542006, 6.6277238762496635, 24.26917960766411, -5.691786297501164, 2.459711738790051, -8.376227572497195, 6.743993840290163, -8.724043374868073, -17.96811061622617, -13.0279710887426, -3.106504881861685, 15.582755820482422, -11.170364284752093, -15.154704958183558, 34.44313140468827, 1.4350438474117801, -22.15940217595087, -26.43436553000292, -1.0117611727703948, 6.737707131035533, 21.369082452802154, 8.448896682162514, 5.139657210670769, -3.3234495415823684, 16.531932889384336, -34.55062862091909, -21.671198840587067, 69.56235935667016, 14.241246404344787, -12.336466810460369, -10.241362148824718, 15.171419391574863, -2.2226529032526257, 19.864806516076733, 16.945486195916914, -11.43289292356913, -4.148401187353785, -1.5546414387943237, -2.3522877621414287, 49.751880001677314, -24.557415264705984, -10.277267225939408, 3.5034041644994427, 3.374399556988964, -3.2610008161293953, -48.049903293955374, -6.598170381194735, -12.057084278852864, -0.2433488338281924, 21.46275101888901, 11.710272454336382, 5.847223150194391, -50.71168335538138, 6.072922724217135, 18.341377894760456, 3.6566599918571807, 3.145071027215054, 0.47425754076842813, 18.12797026689054, -6.485931448576479, 6.293119449899175, -16.517465906957096, -11.780512054485804, -2.253181101293271, 25.892394843348516, 1.338128006826115, 12.557937050192784, 3.2443538692052387, 87.34490045128778, 7.420347002742776, -6.087052179357186, -9.250507611502133, -28.239489131048344, 19.458610595757296, 28.68020568779926, -28.191652217777538, -22.584394171994447, 8.041220517916646, 7.532157725330435, 23.076589576735948, 31.94885043573644, 1.4783968588269312, -6.926740257157816, -0.8129469101037037, 13.259212753676707, 40.27909526353624, 15.638089082418892, -0.8872469188332692, -2.7093939517823316, -3.804176892032286, 3.7462167574672804, -8.679051265193312, 2.009251065514304, -35.06141481781609, 12.016564745146667, 0.9131075295036527, 31.54593811532713, -9.838438639105114, 7.309631795412035, 3.452043775663162, 14.186255712631013, 19.08687046006129, -12.337199142512066, -28.084900216001703, -15.047657923976303, -0.9148969419506447, -28.245336452652786, 6.890699525646306, -3.023024165337244, -29.521929795249346, 16.612267223777287, 5.006240743202438, 12.977016868682352, -5.398116608462911, -13.270759400002854, 2.680433355943931, 25.812600267808325, 11.349186078205255, 4.189825491426947, 3.8203396038674526, -14.789874575416983, -18.23853097981337, -3.3843926073410895, -21.608862187145, 15.687728077304524, -16.266747134810338, 8.289117920581107, 7.23419499697771, -17.082728689963982, 20.0985465693121, 8.419581251234654, 5.26328110825133, -38.51767661884402, -11.553391399890211, 14.693305166241906, 1.1756626529499976, -3.4660418008531986, 9.34432565145609, 2.342324825027254, -4.521610804350311, 0.2792617756272484, 2.8988695958678425, 17.22348528698214, -2.8667842757224555, 25.786088723183934, 19.519468069341105, 14.039483029683216, 5.8869964863350885, -24.94935553701826, 2.0412348030738965, 6.802866513012523, 6.025213104712986, -28.719488228490963, 1.6664932527151235, 5.020153761438515, 1.1754489221799196, 20.167534878685345, -7.808600996003597, -6.198488778527047, 2.0840653534226004, -103.02995248326545, 9.44589430545997, -8.958999085324123, -23.107540217542667, -11.859844693866785, -5.562715468915133, 3.8307888447402854, -41.36380155809906, 1.0730959973418028, -34.380858429106965, 0.7257612346847366, 7.492122322931607, -1.6030375471462746]\n"
     ]
    }
   ],
   "source": [
    "#Define parameters\n",
    "n =  1000\n",
    "q = 2\n",
    "theta = [1,14]\n",
    "if q != len(theta):\n",
    "    print('You must have exactly ',q,'values for vector theta')\n",
    "\n",
    "#if epsilon is normally distributed\n",
    "#epsilon = np.random.normal(0,1,n)\n",
    "\n",
    "#if epsilon is t-distrributed with df\n",
    "df = 4\n",
    "epsilon = np.random.standard_t(df,n)\n",
    "\n",
    "X = MA(q,theta,epsilon)\n",
    "print(X)"
   ]
  },
  {
   "cell_type": "code",
   "execution_count": 142,
   "metadata": {},
   "outputs": [],
   "source": [
    "#Define the autocorrolation and sample autocorrelation\n",
    "def autocorr_MA(h):\n",
    "    numsum = 0\n",
    "    densum = 0\n",
    "    for k in range(q-abs(h)+1):\n",
    "        if k == 0:\n",
    "            numsum = numsum + theta[abs(h)-1]\n",
    "        else:\n",
    "            numsum = numsum + theta[k-1]*theta[k+abs(h)-1]\n",
    "    for k in range(q+1):\n",
    "        if k == 0:\n",
    "            densum = densum + 1\n",
    "        else:\n",
    "            densum = densum + (theta[k-1])**2\n",
    "    return numsum/densum\n",
    "\n",
    "def sample_autocorr(h):\n",
    "    numsum = 0\n",
    "    densum = 0\n",
    "    Xbar = np.mean(X)\n",
    "    for t in range(len(X)-abs(h)):\n",
    "        numsum = numsum + (X[t+h]-Xbar)*(X[t]-Xbar)\n",
    "        densum = densum + (X[t]-Xbar)**2\n",
    "    return numsum/densum"
   ]
  },
  {
   "cell_type": "code",
   "execution_count": 143,
   "metadata": {},
   "outputs": [
    {
     "name": "stdout",
     "output_type": "stream",
     "text": [
      "0.07575757575757576\n",
      "0.049311579236499266\n"
     ]
    }
   ],
   "source": [
    "#Compare autocorrelation and sample autocorrelation\n",
    "h = 1\n",
    "if h > q:\n",
    "    print('h is too big. Choose a smaller value')\n",
    "print(autocorr_MA(h))\n",
    "print(sample_autocorr(h))"
   ]
  },
  {
   "cell_type": "markdown",
   "metadata": {},
   "source": [
    "### TS Q3"
   ]
  },
  {
   "cell_type": "code",
   "execution_count": 144,
   "metadata": {},
   "outputs": [],
   "source": [
    "#Project 2, Problem 3\n",
    "#Generate ARMA(1,1) process with inputs of phi, theta, and process epsilon\n",
    "#Define function to generate ARMA(1,1) series given inputs\n",
    "def ARMA11(phi,theta,epsilon):\n",
    "    X = [epsilon[0]]\n",
    "    for t in range(1,len(epsilon)):\n",
    "        X.append(epsilon[t]+phi*X[t-1]+theta*epsilon[t-1])\n",
    "    return X"
   ]
  },
  {
   "cell_type": "code",
   "execution_count": 145,
   "metadata": {},
   "outputs": [
    {
     "name": "stdout",
     "output_type": "stream",
     "text": [
      "[1.8577041224061812, -1.827008331999506, 1.5527629123057203, -1.86635985202661, 0.6001566182369107, -1.4044976616180205, 2.302607356276096, -1.5990363729250479, 0.8206080835988797, -2.0368097979883846, 1.9919523475051215, -1.3522061867189086, 1.2483383782694755, -1.9799176121710444, 1.6696120712556601, -3.6316596536159125, 2.3269691519420648, -0.0850357241667991, 0.3988788857521576, -0.6765023542211961, -0.2828024889499591, 0.30374073634715937, -0.436162431971961, 1.0024118978605574, -2.8778211693022087, 1.8119344224460323, 0.46917010738043774, 1.130761126243001, 0.3937253823366237, -0.26474678336011614, 0.6926273428169794, 0.2939407490464679, -0.2096366359520397, -1.0083722347951172, 1.2701598047991685, -0.12539555747366032, 2.2962774458752366, -1.5254348991734576, 0.0999073117785162, 0.35443803245984057, 0.37450341668461357, -1.0523625984172653, -0.22291292814676922, -1.5693451133673086, 1.5297217873285378, -0.6224444016655446, -1.6293838965492262, 0.7518719494054895, -2.292793501011645, 1.7836056871790538, -0.8321851916320819, -0.3670774573404336, 0.6205130426762253, -1.1739616318039714, 0.44581561013754445, 0.1909859051314467, -0.07759646136306066, 1.524792908854632, -2.1068164892851224, 2.4380996665443786, -0.4897025189832783, 0.2504150910604607, 0.4966113693448546, -0.33154306953333246, 0.3000826836321779, -1.250927057936001, -0.5391652162058671, -0.0269245748332273, 0.2174118343104819, 0.5776723327670507, 0.8701945640451689, -2.38856654296103, 0.9722296501127021, 0.10221024203195886, 0.28616077180960797, 0.5638325182843246, -0.9298192012565148, -0.9476094859251298, -1.2711599003274245, 0.1343566911305461, -0.3192981297773827, 0.02391438567985036, -0.9614282724644719, -0.371515728836705, -0.2573768434034236, 1.5507766517360049, -1.6489278815461679, 1.233371013194727, -1.8571720041764297, 1.52922552397361, -0.8960805751097027, 3.1018566697225847, -2.5484710813769818, 1.3853675561600904, -2.8233567988496566, 2.907652899511098, -2.237643030794847, 3.068542149052886, -3.2354437574162485, 3.6666057599920876, -2.662132790517747, 2.6165094871652355, -1.3898333108025684, 2.1217464946649116, -0.6087112347022515, 1.3463705125557581, -0.47438429724269254, 1.4698082541680237, -1.2327697724768447, 1.6187848434168841, -0.9435659672459269, -0.13066597057911933, 0.9604697846395087, -2.4313958934039563, 0.5611470046345436, -2.43599106200501, -0.20014708110507706, 0.6739309632269967, -0.233511680775287, -1.0896388397382035, 0.038718735960599576, 2.254625011233242, -0.19574882280792433, 1.234219893412429, -1.3744157676568638, -0.29903019333219155, 0.030058413073318052, -1.57720668058665, 2.0889949763021, -0.890543443666616, 0.9151508233082, -2.260295592918382, 1.975620380939623, -1.3393311424577528, 1.7426241255917365, -1.514111255155725, 1.1665911304822079, 1.7368201651204875, -0.5090771438331176, 2.117590930653164, -1.9272163731187077, 1.136354116731962, -2.2563166125719802, 2.9211776920766144, -0.6126824282511594, 0.6000741695818193, -0.6175173633501004, 0.6016963901120044, 0.8137792839443475, -0.8758548468462238, 2.179839734371753, -0.9511058832290513, 2.1617982863572074, -1.2435790649083855, 1.2267872091137302, -3.0929627820690997, 2.9387377493160804, -1.930517548147316, 3.199486792840052, -2.322936268930503, 2.410636282003643, -3.4640148532079484, 2.024627002715487, -1.620518611006178, 2.1400420913256277, -2.5663078068719076, 2.4984416038411354, -2.785704451440359, 1.8548118721355213, 0.004355321304652909, 2.111111257336009, -2.820481981056742, 3.083669900546658, -2.320358587356949, 0.9468410661143519, -1.280417737493134, 1.0095254738953297, -1.0124335105537237, 2.3932677139168255, 0.08106893400218543, 0.3471095264912068, -0.2054134385988994, -1.3699719407842506, 2.2294322651491973, -1.043988965798421, 2.035759545236392, -0.6198724878374038, -0.6867234397326321, -2.702237192261679, 2.176561654208379, -1.3629714729233267, 1.0218842600582134, -1.3930050778578191, 2.604660392669678, -1.1755362760793426, 0.8240922530226551, -2.6394779051057635, 3.653927036288154, -1.9797864734930535, 0.7199383752682255, -3.5493354357436075, 2.690276385399274, -1.3684685204550304, 0.7352410342680783, -1.5631695336437061, 1.4036673350971207, -0.8944787925612934, 1.4117094258038747, -2.4377871071199393, 1.8902920503849925, -1.7417042661008113, 1.9725793036075443, -2.376499466253408, 2.569688404316078, -1.4546750533999862, 0.47332627987969816, 0.3139783166360104, -0.1747738395270296, 0.8164765124403499, -1.6533673202559342, 0.024211054093720902, 0.7004629322427137, -1.5620536500774196, 0.8248435796193772, -0.9060981897836813, 1.7224019290706212, -0.9277083016842391, -1.886015224008941, 2.958949921669999, -2.8590169028589996, 1.6568561052614077, -1.6003859724632599, 0.1932511893242785, -0.19686207007546963, -0.5427844050784848, 0.6465969400786488, -0.9937855687379501, 0.10702430953767256, -2.0189060447037783, -0.10716644130321873, 1.5041784061682362, -1.378318434660733, 2.683764322449794, -1.240552420551385, 2.853869313145718, -2.0530520090080673, 0.3961380567576863, -2.2430599089187133, 3.0543291927311627, -2.8183825087531673, 2.536297792863941, -3.886178743176756, 4.063160298278355, -4.262953314737812, 4.96721261559927, -4.307261071105122, 2.3388284137926716, -1.0910862257568485, 1.8810492988121792, -0.5238998351380892, 2.0075074520427, -1.9786904313335234, 1.7834812637895152, -1.313459774607669, 0.43830570011595044, -1.0562596255733432, 1.0572012863603997, -0.06535423576739845, 0.7867967755882653, 0.2446215188081269, 0.03592013035364362, 0.861717559775988, 0.11768483307902003, -1.5324135824804683, 0.7625039220381175, -0.7195049962913601, 1.3833844304543306, -2.2103730049965007, 2.2653376057912795, -2.9192037880524317, 2.3630629512541432, -1.6304614164006377, 2.504127368923559, -1.434313253208225, 1.1267219218300364, -0.41689244063755276, 1.1035472317593484, 0.2927289882692804, -0.025241115309964146, 0.692003862084936, -1.7548810872498253, 1.1548593958976852, -2.6565799917733237, 2.7692431335711154, -1.8125383798379604, 3.8129468002593017, -4.057335666227925, 3.260744056938068, -2.397206864657232, 3.7616391739430663, -3.409747342284744, 3.1727902541622486, -2.837871714868617, 2.1573771036168776, -2.918212722713308, 3.5986242292564348, -3.601457069273061, 1.184566398091718, -0.5962450491500624, 1.5651131066132213, -2.0551767252807602, 0.3436741447143954, -0.4134082269980569, -0.1643482896347492, -0.491656118078097, 1.254526765127322, -0.5886658444543006, 1.721913626904065, -1.0029858593236616, 2.340260563572404, -3.4248867607182287, 2.6695466045899297, -1.5781324571651927, 1.0525280935833083, -1.5951222630404032, 3.487267973000461, -1.6037857780062537, 1.7898800008221891, -2.6185544084378467, 3.052129139587265, -2.82808606220352, 2.3676636568235856, -2.6526302377397486, 1.9660774846890445, -1.6193621248822325, 2.135499529937602, -0.7924710593745858, 0.08598880032128153, 0.3928398026016378, -0.4200257243709443, -0.05782843943666545, 0.9076615783155415, 0.9389701874084955, -1.2217836990763933, 0.7491226821237601, -1.4023583571908436, -0.5822908336207681, -0.7700206386010903, 0.2789010440971018, -0.12479156428663751, 0.07852807163998893, -0.0059725851028731135, -0.28544455162319016, -0.10866046870954796, 0.16091616604255427, -1.3930591179561134, 0.4390836720536079, 0.39361833358776643, 1.0792922887193979, -0.13510594844511847, -0.6661420617035119, 0.6124598862828015, -1.2258529842942099, 1.5493521221270194, -1.4622493588198309, 1.1404503779495396, -0.9460936726933278, 0.03822773304454385, 0.14635378534088747, 0.6898425491399158, -2.752059325498654, 2.051328245874192, -0.640964367978234, 0.33192532981083644, 0.7799900989655942, 0.5366714077054114, 0.021182517418892932, 1.2226548367827992, 0.4027921629988394, 0.9844143860410253, -0.4316891158230388, -1.1196788354953846, 0.5702886173027709, -1.052749823200461, 0.6329875442014761, -3.5728136860687894, 1.5396537481592771, -2.176579063112326, 0.927835014399404, -0.07354694048513884, -1.0193231479554394, 1.162796243352984, -2.680787760457779, 0.9976856892436812, 0.06937934578816593, 1.1122214657772638, -1.0648190362659062, 0.11810648107558724, -0.6424703962302215, 1.2072461722173369, -2.009340804941894, 0.47950541948962355, -0.9625414100709752, -1.5624944251947193, 1.8062364850700408, -0.6771935195598398, 1.559727755999487, -1.6894089964758887, 1.7004083997505748, -3.0401030043665984, 1.145081844553684, 0.07663315156627767, 0.9474498354111268, -0.5273538308477976, -0.27682954098258106, 1.4003168214550272, -2.2288446220987854, 0.40073828766752617, -0.29249108046615, 0.535343193344844, -0.953124593740171, 0.5328426282327636, -1.0671155784463628, -0.649227143207538, 1.1851279214177448, -2.562833124995661, 2.2623464071055124, -2.4104340487721987, 1.0827345789389147, -1.655245945755642, 1.728866874992122, -1.4524771887122052, 0.8054193602380113, -1.0842323121234776, 0.25894684145988983, -0.4496758881135382, 0.9117362175441356, 1.6377978420375048, 1.1945778889939966, -0.6499426769658925, 0.7794678825337684, -1.121433506723653, 0.9589396157903779, -1.4148497701706129, 1.7549868365575174, -0.2091572796510612, -0.10325793839439823, 0.8558289053369462, 0.0800148560478042, 0.6317473644966358, 1.2510440052660603, -0.025869692093185043, 0.42008758056286066, 0.7810875241962345, 0.007708607992613803, 2.194215471232698, -1.7635801760748944, 1.4781373939696105, -0.9786414461715134, 0.262854692911743, -1.2153553118345553, 2.3058039467999873, -2.541090032647446, 2.5898205051554997, -3.4531025299241493, 2.6638652342092937, -1.5093510220697994, 0.9555286655264372, -0.5950543055269466, 1.351476593328119, -1.0380006581640009, 2.3024450995617953, -0.04238261915986136, 0.10952608766472238, 1.05041707472077, -1.316879677355655, 2.6546629228775123, -2.845833189550006, 1.6885347477273245, -0.8657522470683694, -1.2625101434335944, 0.14550146124055258, 1.0825325435086162, -0.7205687404728239, 1.5286590127449522, -0.2978086292452408, -1.6797356229456206, 0.646641351196508, -1.2692263246915716, 0.19955497314964937, -2.225814020064911, 1.0380593501487252, -2.36318300884625, 1.1767044780225373, -0.17911543044011138, 0.594953513836503, -0.5808820050235445, 0.9834289020855375, 1.2859670426062468, -0.23998615682491425, 1.1639124471012072, -1.8707836032073373, 0.8621998216136116, -1.7731394136447083, 1.5203715673775913, -2.116678753818882, 2.243195708921628, -3.3745188340442116, 0.9621843595748644, -3.2645164279219085, 2.53535270922237, -3.995727226483005, 1.7518576488456512, -0.29434760724528486, -0.29647215271273974, -0.09247533204536337, -1.9067185189211164, 0.38317196430646, 0.5447284351115889, 1.1673798696548707, 1.2108334510143308, -1.1072781793746191, 0.3993274646105888, -0.4323452789527774, 0.7055209251825518, -1.0273138529436683, -0.12446129340507424, -1.6944383013730686, 1.1843929083517057, -2.5960500984471873, 2.867627796353372, -3.431930927201967, 2.446485180180086, -2.990085003193028, 2.361042454837193, -1.0393304204874585, 1.6405443692819577, -0.8363999791328309, 0.05617484420294483, -1.560292949179995, 0.5411188173790836, -1.2810856955101564, 1.381829229768874, -0.8135091468536735, 1.3079438062091588, -0.6485746969735697, -0.05999282952021012, -0.35056602117646996, 0.8648305377597586, 0.4266896998796334, -2.0049921815956253, 1.0426858502403547, -1.296705208899783, -1.0870904419176468, -0.03893365990669301, -1.0631036468313997, 2.959917207409306, -3.0641474040559684, 2.9450710471438715, -2.050131134544967, 1.5008426791076943, -0.7359161686293657, 0.1934100370855268, -1.1837407007240568, 1.4371533517516446, -1.7934450109007416, 1.979590568927373, -3.2408662223993048, 1.9426337865437802, 0.2727019565816696, 0.5943341786178573, 1.0260901249428815, -1.2179427225853745, 2.5451389146255807, -1.5201040265189405, 1.961677650995221, -0.6532471615465031, 1.6269580209839136, -0.48295540175655793, -0.07343265346914622, 0.9027787271664474, 0.020266787652347545, 0.5226597265230898, -1.5061218191727412, 0.414163927643314, -0.06730744023044109, 0.4601793614134652, 0.31707743465914784, -0.950732594413482, 0.054037561893083674, -1.9508946824230364, 0.441257460016474, -0.3654806068627165, 0.6361010476840883, -0.8683937245015809, 1.4485809280084616, -0.21675737918387877, -1.1903063381027381, 1.1160995390754969, -0.6280658620728452, -1.0564958318293542, 0.3575368482267902, -0.041767474903030614, 0.4645250401637877, -0.9890078150739209, 0.7715566305222071, -0.557202019159738, 1.2688177181373703, -1.740641230784255, 2.5868071904414847, -2.045173919812887, 1.5098237038548936, -2.4750803466073723, 2.7302095066946417, -2.182128459516136, 2.3570019321186546, -1.0247938615363366, -0.5775483343526299, 0.6423284810691907, 1.2170266981403826, -0.780519258653376, 0.3748177609512222, -1.7013816645026487, 1.42578996884809, -0.34368975271924024, 2.088943166214988, -1.7723870000174886, 1.913100790807015, 0.446657171187769, -0.9462299052588088, 1.2524027480014581, -0.42771194505278803, 0.28647083349541347, -0.833247350296709, 0.96282838697588, -1.4427326584651197, 0.31354659906455584, -1.6395767702757034, 1.0311426097937153, -1.2408788368387396, 2.696955854957295, -1.1361552354368465, 0.9584532187019418, 1.2240470790571476, 0.17491326511488386, -0.7955351205546258, -1.6371842152639524, 0.3931109478050269, -0.18589099326919617, 0.3329492313696135, 0.16314773900174748, -0.7333361172655636, 0.5177610779804888, 0.5881915370302447, 1.2647060068920837, -1.6123970462404478, 1.2111543940412328, -0.0007710095644567899, 1.0752628253842695, -1.5771845224765002, 0.05976605865207649, 1.6883403203165104, 1.8840506297356812, -1.648627164890556, 1.0340713105589077, -0.5586845962510336, 0.6888716874000003, 0.6653344401663303, -1.57364199880671, -0.8577837347036235, 0.5927435280784035, -1.9224510965320016, 0.45377759529168044, -0.08443893700372601, -0.13197021924286118, -0.11420574849397153, 0.02880800703391712, -1.3722054978946563, 0.8966944879284507, -1.975640001861076, 1.1757528134466537, -0.6609264228991227, 1.189210123576423, -0.5907847459337128, 0.25964064787026725, -0.17603469557498633, -0.4682739324121646, -0.5085533520639282, 1.617811183040185, -2.3142093935762422, 1.459159502376392, -0.8859824014463261, 1.268191459882044, -1.045694876927671, 2.6780102548422375, -3.6570633817037077, 1.8900979658174144, -0.574967220846085, 0.7309099741814378, -0.931919545520816, 0.18088894039540798, -0.7889468957013374, 1.0779820579143766, -1.7319326315609234, 1.6565079422183822, -2.3002745893491436, 2.510946205074454, -4.024733836130396, 3.91375253255548, -4.193344904222291, 1.2393589030000123, -1.142799624102563, 1.671224606998902, -1.0099675202886051, 0.5548211430446032, 0.3434926552064273, -1.752974500809209, 0.36217511954523296, -0.3056011417971797, -0.16447342352731875, 1.2320856529090713, 0.7384359788853064, -1.499999535293722, 0.3120258006911749, 0.4920524280906369, -1.5706688817951187, 2.6288581132820372, -3.5257099696681613, 2.409084890552949, -3.0441876942715194, 2.412858087378651, -1.6920118129892872, 0.5846213145742539, -1.9390689638719407, 2.0236766735467953, -0.6398677428639024, 0.8614099600746439, -1.6509369077319773, 2.735881060739343, -2.425004817196816, 0.5019634122402944, 0.06484725910876624, 0.6715949013266604, 0.13891265347647302, 0.9268017720800842, -2.1238433085310304, 2.096764421034462, -0.7978956437236365, 0.8558692471200191, -1.2884781377976464, 1.1655224898185386, -0.36326748636350636, -0.5599943753342509, 0.8129433142468119, -2.686444743375322, 1.5305664968480468, -0.9025964832529125, 2.2810246371592693, -1.116698050625946, 1.1054342691387364, -2.129162810604772, 1.4618976780393806, -1.071268747712061, 0.08868384341659624, -0.8992019209954036, -0.4887301292674618, 1.143708227906349, 0.3224881746505693, -1.2398007276612706, 2.6307664557023296, -0.896742103950973, 1.3376624102801293, -0.06785547332852837, -0.9769601204668191, 0.45945355706980595, -0.25177465908901525, 2.656323893839907, -1.6739048340625406, 1.5572119336142052, -2.3099059091980583, -0.2509821018974706, 0.279077637303044, -1.622930929256298, 2.880033218713587, -2.9272878389786183, 1.1779153511454772, -1.6035170265655179, 1.9223520241211263, -0.9252946708998682, 1.5203932199174945, -1.2223488197730856, 1.6678091574678673, -0.7673508678411567, -0.5802543998215485, 0.5993266644398613, -0.5355227146513717, 0.6060545580935169, -1.4205702717193986, 2.67572807641463, -2.5171515758050313, 1.9132866645702666, -3.6254667276872676, 2.6263173620505698, -2.9969559766440117, 1.4132052012017031, -1.7590104537115654, 0.6987866300690448, 0.8142068698021314, -1.0477139441761052, -0.1360007373099819, -0.029761493348806706, -0.8314216932501521, 0.24925497527290236, -0.03511023818703258, -1.2823959384341124, 1.5707842339837734, -0.9377339509752113, 1.5567287364101343, -0.579466184229661, 1.7430678718386092, -0.9697128335813832, 1.543810107721068, -2.6626380073211386, 2.736064267387763, -1.5407647492658676, 1.3576275539796143, -1.3425400982322881, -0.0007567152612209804, -1.4683504821456748, 0.1426805150162865, -1.149517178830627, 1.8702098922438395, 0.6701679778909742, 0.5667389579529203, -0.2517754559615699, 1.5914898889758329, 0.3437854563238402, 0.18353542526900127, 0.07925933730531931, 0.015747222696208263, -0.42979379352951497, 1.335954570186812, -1.2030387113725998, 0.6898366427253512, 1.2698472715656406, 0.8309969801875801, 0.45675905807318395, -0.3140862810580006, 1.4400428360862536, 0.3997378296969958, 0.28437388138365455, 0.20599746478142303, 0.507532565999558, -1.1553923830654629, 1.1877229528995223, -0.1810036542132969, -0.5218086077129188, 1.5098973573033039, 0.15793580292978804, -1.5498612204012592, 0.6571675171763413, -1.3141110872470771, 2.258302457378765, -1.9459521190243616, 2.026378948957298, -2.5274467797803166, 1.6402106218310615, -1.5244940738760877, 1.074068242512461, -2.676592652017829, 2.958343965927313, -2.3309330749138266, 1.5048749052368646, -1.304733065447933, 3.1313753110886386, -0.659085916484103, 1.1968680446988367, -0.24188595198238377, 0.16811891723338415, 0.5686608144117705, -0.042630098278208156, -0.12095207827354887, 1.0741844630295903, 0.28204741676745854, -1.514186260283974, 1.0543317385961322, -2.5060168959615226, 1.9543544599743048, -2.0704562684593886, 0.40381685615141083, -1.7460927483656077, 1.2926389041518929, -0.4954568572393787, 0.04624823923612113, -0.052413421197260925, 0.8414053568955915, -2.156470430095458, 2.2205177673416907, -3.9443553715898854, 4.501680656792926, -3.510271048715883, 4.397575538751186, -4.487042558655389, 1.7017487270271583, -1.5088482781114143, 0.9649683961487606, -0.9606992543623266, 2.2933952783476474, -1.8736454646547378, 0.5854138350416751, -0.9034675376397884, -0.8473133808833657, 0.554769083389671, -2.1147916367628685, 2.56555847183379, -1.4216922860270373, 0.18982210589576076, -0.0027309297139828936, 1.4957305603124733, -2.7529312814283013, 2.0006833005929328, -1.0924551228699864, -0.1540666695612552, 0.6210227741848994, -0.19791605725126038, 0.09477186847315483, -0.43063907610504804, 1.4880099162842109, -0.2007866416361253, 0.22715379975114802, -1.3900416901998642, 1.1432182234838992, -0.84188611923236, 0.3620724618239212, 0.12973978284375906, -0.6248971393097689, 0.6258334654684847, -0.4396786572269822, 0.8453678406621853, -0.90923224050097, 1.1536749850861323, -0.006404522925613769, -0.9555441577606282, 1.7736671212684085, -1.4242168565965607, -0.12419446942397316, 1.4378267232211572, -0.14662839622206322, 0.7104877293086849, 1.35486851696656, 0.3446388829147811, -1.2460596280131118, 0.7014656353901654, -1.0499450613564203, 1.733804488796339, -2.152047747058368, 0.9918461793227196, -1.006513634618196, 1.3831488872528566, -3.5799343770684833, 2.977097257945693, -4.320110262381868, 3.996133704551844, -4.0524481836283766, 2.694271145399591, -2.913346195055635, 3.936321816666243, -4.6318967561979605, 4.036316533115459, -5.224363744798083, 2.9405982464863927, -2.2724301461053145, 3.9117221552588646, -3.932913279517935, 2.114026807770363, -3.4164271284195937, 1.464637314012556, -1.449097770886297, -0.38755993217754275, -0.04511892085573985, -1.1745645474905675, 2.408191969938971, -2.1500980543419232, 2.529272330267478, -1.1376773262307456, 1.1889649349838858, 0.9006942791064299, -2.7742753956806587, 0.6734057905040709, -1.9118205225967406, 2.0871550763924347, -2.6707530613094015, 4.213464810581636, -4.4603244654350735, 5.0312493620027166, -4.339868548939487, 3.6775661901627617, -2.3559596597347237, 2.7107381424558685, -1.5519542578747048]\n"
     ]
    }
   ],
   "source": [
    "#Define parameters and generate process\n",
    "phi = 2*np.random.rand(1)[0]-1\n",
    "theta = np.random.rand(1)[0]\n",
    "epsilon = np.random.normal(0,1,1000)\n",
    "X = ARMA11(phi,theta,epsilon)\n",
    "print(X)"
   ]
  },
  {
   "cell_type": "code",
   "execution_count": 146,
   "metadata": {},
   "outputs": [],
   "source": [
    "#Define Autocorrelation function and sample Autocorrelation function\n",
    "def autocorr_ARMA11(h):\n",
    "    return (phi**(abs(h)-1)*(phi+theta-1)*(1+phi*theta))/(1+theta**2+2*theta*phi)\n",
    "\n",
    "def sample_autocorr(h):\n",
    "    numsum = 0\n",
    "    densum = 0\n",
    "    Xbar = np.mean(X)\n",
    "    for t in range(len(X)-abs(h)):\n",
    "        numsum = numsum + (X[t+h]-Xbar)*(X[t]-Xbar)\n",
    "        densum = densum + (X[t]-Xbar)**2\n",
    "    return numsum/densum"
   ]
  },
  {
   "cell_type": "code",
   "execution_count": 147,
   "metadata": {},
   "outputs": [],
   "source": [
    "#Define parameter h\n",
    "h = 10\n",
    "if h > len(epsilon):\n",
    "    print(\"h is too big. Choose a smaller value\")"
   ]
  },
  {
   "cell_type": "code",
   "execution_count": 148,
   "metadata": {},
   "outputs": [
    {
     "name": "stdout",
     "output_type": "stream",
     "text": [
      "0.5529761815192958\n",
      "0.20140914178413155\n"
     ]
    }
   ],
   "source": [
    "#Compare autocorrelation and sample autocorrelation\n",
    "print(autocorr_ARMA11(h))\n",
    "print(sample_autocorr(h))"
   ]
  },
  {
   "cell_type": "markdown",
   "metadata": {},
   "source": [
    "### TS Q4"
   ]
  },
  {
   "cell_type": "code",
   "execution_count": 163,
   "metadata": {},
   "outputs": [],
   "source": [
    "#Project 2, Problem 4\n",
    "#Fit generated process to an ARMA(1,1) model and compare estimated parameters to actual parameters\n",
    "my_arima = arima_model.ARMA(X,[1,1])\n",
    "arma_results = my_arima.fit()\n",
    "phi_star = arma_results.params[1]\n",
    "theta_star = arma_results.params[2]"
   ]
  },
  {
   "cell_type": "code",
   "execution_count": 164,
   "metadata": {},
   "outputs": [
    {
     "name": "stdout",
     "output_type": "stream",
     "text": [
      "phi =  -0.869085102084844\n",
      "Estimate for phi =  -0.873887534370221\n",
      "theta =  0.1376136276731632\n",
      "Estimate for theta =  0.20230104393291987\n"
     ]
    }
   ],
   "source": [
    "print('phi = ',phi)\n",
    "print('Estimate for phi = ',phi_star)\n",
    "print('theta = ',theta)\n",
    "print('Estimate for theta = ',theta_star)"
   ]
  },
  {
   "cell_type": "markdown",
   "metadata": {},
   "source": [
    "### TS Q5"
   ]
  },
  {
   "cell_type": "code",
   "execution_count": 156,
   "metadata": {},
   "outputs": [],
   "source": [
    "#Alpha is the vector [a0 a1], where alpha0>0 and alpha1>=0.\n",
    "#note for t distribution, we need variance to be larger than 1\n",
    "#currently it only applies to normal distribution\n",
    "def ARCH1(alpha, nsteps, x0):\n",
    "    alpha0 = alpha[0]\n",
    "    alpha1 = alpha[1]\n",
    "    variance = 1\n",
    "    #if (distribution == \"normal\"):\n",
    "    sd = np.sqrt(variance)\n",
    "    array_rand = np.random.normal(0, sd, nsteps)\n",
    "    \"\"\"\n",
    "    elif (distribution == \"t\"):\n",
    "        if (variance <= 1):\n",
    "            return(\"input variance should be larger than 1 for t distribution\")\n",
    "        else:\n",
    "            df = 2*variance/(variance-1)\n",
    "            array_rand = np.random.standard_t(df, nsteps)\n",
    "    \"\"\"\n",
    "    x = [x0]\n",
    "    for i in range(nsteps):\n",
    "        sigma = np.sqrt(alpha0 + alpha1 * x[i]**2)\n",
    "        x.append(sigma * array_rand[i])\n",
    "    return x     "
   ]
  },
  {
   "cell_type": "code",
   "execution_count": 160,
   "metadata": {},
   "outputs": [
    {
     "name": "stdout",
     "output_type": "stream",
     "text": [
      "[0, -0.6332165262308582, -0.547501241246117, 0.5149006625458321, 0.09605670853423645, -1.1024126063108715, -0.5340014768942121, 0.2364311764747331, -1.2636066401099946, 1.4658146812208026, -1.1497330622182755, 2.065694010364012, -3.207070049750401, -6.997300223338711, 1.0365569801575794, -2.951434865431568, 5.051814360010648, -14.61234231536556, -9.791099583204057, -24.415748022209073, -1.3313895003972895, -1.0375099033784392, 2.4326037157326152, 0.490240255643817, 0.9594319845359891, -0.3265112620022961, 1.4506070604266703, -3.8489115505705565, -4.83073720840625, 0.6846327374523773, -0.24238985521742654, 1.4115083954327914, 0.7729610569828652, -0.6808928568722705, 1.0363306414361735, -2.7642827385980593, 3.2908331701644564, -6.94171071722384, -15.835432184636005, 21.997464629416097, 16.861461080823222, -28.404372317707935, 10.480590819520117, 0.6116433861779818, -0.8834005714471962, 1.183692702180915, 0.05647734840630013, 0.35990695693966757, 0.7724480515965395, 0.056853767158072, -3.602226014369563, 7.537923877473895, -11.97185384953061, -33.94986938402583, 32.56553840856735, -29.850590660846592, 60.87201272413293, -93.77135179119333, -42.80923901930324, 4.32072913864803, -1.4282680859486712, 2.1550415897852453, -4.360859546548305, 6.868768047507078, 9.654857537678517, 2.027839856609095, 0.060357522338647746, 1.0699681044252884, 4.103483756305077, 1.4902072889219111, -2.200030951270781, 0.1441613206938011, -0.9932816331461353, 2.9376206492411723, 4.9313698721960275, -2.2925892044780785, 4.416095591279505, 3.114709679419182, 0.55677703652706, 1.065968541733772, 0.5732368170070983, 1.3967778295249635, -4.227501002258681, -2.688653857857376, -8.771231148229694, 8.66040710601597, 2.691010389126229, -1.3169122518967886, -0.643975094114423, -0.4351396525688246, 0.4548066143457245, -3.2621595014755047, 7.4240499348781706, -10.210300529501692, -14.434390032827535, -16.455080690524372, 10.373233229163292, -1.0917666741231662, -0.7088961241818726, -0.5197664045841675, 1.3546383608193573]\n"
     ]
    }
   ],
   "source": [
    "#testing\n",
    "y4 = ARCH1([2,2], 100, 0)\n",
    "print(y4)"
   ]
  },
  {
   "cell_type": "code",
   "execution_count": 158,
   "metadata": {},
   "outputs": [],
   "source": [
    "def GARCH_1_1(alpha0, alpha1, beta1, nsteps, x0, sigma0):\n",
    "    variance = 1\n",
    "    #generate an array of random number:**\n",
    "    sd = np.sqrt(variance)\n",
    "    array_rand = np.random.normal(0, sd, nsteps)\n",
    "    #initialize two arrays:\n",
    "    x = [x0]\n",
    "    sigma = [sigma0]\n",
    "    #calculate x in a loop:\n",
    "    for i in range(nsteps):\n",
    "        sigma.append(np.sqrt(alpha0 + alpha1 * math.pow(x[i],2) + beta1 * math.pow(sigma[i],2)))\n",
    "        x.append(sigma[i+1] * array_rand[i])# we need the updated sigma to calculate x. That's why index is i+1 \n",
    "    return x     "
   ]
  },
  {
   "cell_type": "code",
   "execution_count": 180,
   "metadata": {},
   "outputs": [
    {
     "name": "stdout",
     "output_type": "stream",
     "text": [
      "Iteration:      1,   Func. Count:      6,   Neg. LLF: 231.99681674050876\n",
      "Iteration:      2,   Func. Count:     12,   Neg. LLF: 213.37096368604676\n",
      "Iteration:      3,   Func. Count:     19,   Neg. LLF: 213.32966284526452\n",
      "Iteration:      4,   Func. Count:     25,   Neg. LLF: 213.29580156804667\n",
      "Iteration:      5,   Func. Count:     31,   Neg. LLF: 213.23363115200294\n",
      "Iteration:      6,   Func. Count:     37,   Neg. LLF: 213.16027919822153\n",
      "Iteration:      7,   Func. Count:     43,   Neg. LLF: 212.79723975201014\n",
      "Iteration:      8,   Func. Count:     49,   Neg. LLF: 211.1440269932966\n",
      "Iteration:      9,   Func. Count:     55,   Neg. LLF: 208.22766130224534\n",
      "Iteration:     10,   Func. Count:     61,   Neg. LLF: 208.11233515363602\n",
      "Iteration:     11,   Func. Count:     67,   Neg. LLF: 208.10717542556077\n",
      "Optimization terminated successfully.    (Exit mode 0)\n",
      "            Current function value: 208.1071754037717\n",
      "            Iterations: 11\n",
      "            Function evaluations: 67\n",
      "            Gradient evaluations: 11\n"
     ]
    },
    {
     "name": "stderr",
     "output_type": "stream",
     "text": [
      "/Users/LEOTHEFIRST/opt/anaconda3/lib/python3.7/site-packages/arch/univariate/base.py:293: DataScaleWarning:\n",
      "\n",
      "y is poorly scaled, which may affect convergence of the optimizer when\n",
      "estimating the model parameters. The scale of y is 6.195e+05. Parameter\n",
      "estimation work better when this value is between 1 and 1000. The recommended\n",
      "rescaling is 0.1 * y.\n",
      "\n",
      "This warning can be disabled by either rescaling y before initializing the\n",
      "model or by setting rescale=False.\n",
      "\n",
      "\n"
     ]
    },
    {
     "data": {
      "text/plain": [
       "                     Constant Mean - GARCH Model Results                      \n",
       "==============================================================================\n",
       "Dep. Variable:                      y   R-squared:                      -0.006\n",
       "Mean Model:             Constant Mean   Adj. R-squared:                 -0.006\n",
       "Vol Model:                      GARCH   Log-Likelihood:               -208.107\n",
       "Distribution:                  Normal   AIC:                           424.214\n",
       "Method:            Maximum Likelihood   BIC:                           429.950\n",
       "                                        No. Observations:                   31\n",
       "Date:                Tue, Mar 24 2020   Df Residuals:                       27\n",
       "Time:                        16:36:23   Df Model:                            4\n",
       "                               Mean Model                               \n",
       "========================================================================\n",
       "                 coef    std err          t      P>|t|  95.0% Conf. Int.\n",
       "------------------------------------------------------------------------\n",
       "mu            -2.1938      7.267     -0.302      0.763 [-16.436, 12.048]\n",
       "                              Volatility Model                              \n",
       "============================================================================\n",
       "                 coef    std err          t      P>|t|      95.0% Conf. Int.\n",
       "----------------------------------------------------------------------------\n",
       "omega      1.2389e+04   2692.490      4.601  4.195e-06 [7.112e+03,1.767e+04]\n",
       "alpha[1]       1.0000      0.349      2.865  4.169e-03     [  0.316,  1.684]\n",
       "beta[1]        0.0000  8.763e-02      0.000      1.000     [ -0.172,  0.172]\n",
       "============================================================================\n",
       "\n",
       "Covariance estimator: robust\n",
       "ARCHModelResult, id: 0x1c245e8a90"
      ]
     },
     "execution_count": 180,
     "metadata": {},
     "output_type": "execute_result"
    }
   ],
   "source": [
    "#testing\n",
    "y5 = GARCH_1_1(1, 1, 1, 30, 0, 1)\n",
    "model = arch_model(y5)\n",
    "model.fit()"
   ]
  },
  {
   "cell_type": "markdown",
   "metadata": {},
   "source": [
    "### TS Q6"
   ]
  },
  {
   "cell_type": "code",
   "execution_count": 173,
   "metadata": {},
   "outputs": [
    {
     "name": "stdout",
     "output_type": "stream",
     "text": [
      "Iteration:      1,   Func. Count:      6,   Neg. LLF: 277.27693922408145\n",
      "Iteration:      2,   Func. Count:     12,   Neg. LLF: 259.13564161783296\n",
      "Iteration:      3,   Func. Count:     18,   Neg. LLF: 259.1351275246968\n",
      "Iteration:      4,   Func. Count:     24,   Neg. LLF: 259.1325586657119\n",
      "Iteration:      5,   Func. Count:     30,   Neg. LLF: 259.11973726116474\n",
      "Iteration:      6,   Func. Count:     36,   Neg. LLF: 259.05624570934424\n",
      "Iteration:      7,   Func. Count:     42,   Neg. LLF: 258.75426598122925\n",
      "Iteration:      8,   Func. Count:     48,   Neg. LLF: 257.6238029305817\n",
      "Iteration:      9,   Func. Count:     54,   Neg. LLF: 256.9778613068931\n",
      "Iteration:     10,   Func. Count:     60,   Neg. LLF: 256.9545786287234\n",
      "Iteration:     11,   Func. Count:     66,   Neg. LLF: 256.9545476661529\n",
      "Optimization terminated successfully.    (Exit mode 0)\n",
      "            Current function value: 256.9545476024603\n",
      "            Iterations: 11\n",
      "            Function evaluations: 66\n",
      "            Gradient evaluations: 11\n",
      "Estimate for phi from a ARMA11 model =  0.634568167625032\n",
      "Estimate for theta from a ARMA11 model =  -0.6964078863907434\n",
      "Estimate for alpha0 from a GARCH11 model =  311855.72410156985\n",
      "Estimate for alpha1 from a GARCH11 model =  0.9999999999999988\n",
      "Estimate for beta1 from a GARCH11 model =  0.0\n"
     ]
    },
    {
     "name": "stderr",
     "output_type": "stream",
     "text": [
      "/Users/LEOTHEFIRST/opt/anaconda3/lib/python3.7/site-packages/arch/univariate/base.py:293: DataScaleWarning:\n",
      "\n",
      "y is poorly scaled, which may affect convergence of the optimizer when\n",
      "estimating the model parameters. The scale of y is 1.559e+07. Parameter\n",
      "estimation work better when this value is between 1 and 1000. The recommended\n",
      "rescaling is 0.01 * y.\n",
      "\n",
      "This warning can be disabled by either rescaling y before initializing the\n",
      "model or by setting rescale=False.\n",
      "\n",
      "\n"
     ]
    }
   ],
   "source": [
    "#Problem 6\n",
    "start_date = '1992-01-01'\n",
    "end_date = '2019-12-31'\n",
    "SP500 = data.get_data_yahoo('^GSPC', start_date, end_date)\n",
    "SP500 = np.array(list(SP500['Adj Close']))\n",
    "\n",
    "## log-return\n",
    "LSP500 = np.diff(np.log(SP500))\n",
    "LSP500 = LSP500[~np.isnan(LSP500)]\n",
    "\n",
    "#calibrate according to ARMA(1,1) model:\n",
    "my_arima = arima_model.ARMA(LSP500,[1,1])\n",
    "arma_results = my_arima.fit()\n",
    "phi_star = arma_results.params[1]\n",
    "theta_star = arma_results.params[2]\n",
    "#calibarte according to GARCH(1,1) model\n",
    "my_garch = arch_model(LSP500)\n",
    "garch_results = model.fit()\n",
    "alpha_0 = garch_results.params[1]\n",
    "alpha_1 = garch_results.params[2]\n",
    "beta_1 = garch_results.params[3]\n",
    "print('Estimate for phi from a ARMA11 model = ', phi_star)\n",
    "print('Estimate for theta from a ARMA11 model = ', theta_star)\n",
    "print('Estimate for alpha0 from a GARCH11 model = ', alpha_0)\n",
    "print('Estimate for alpha1 from a GARCH11 model = ', alpha_1)\n",
    "print('Estimate for beta1 from a GARCH11 model = ', beta_1)"
   ]
  },
  {
   "cell_type": "markdown",
   "metadata": {},
   "source": [
    "### TS Q7"
   ]
  },
  {
   "cell_type": "code",
   "execution_count": 174,
   "metadata": {},
   "outputs": [],
   "source": [
    "#Project 2 Problem 7\n",
    "#Define function\n",
    "def Prob7(URL,Sheet_Name,Columns_Range,Rows_Range):\n",
    "    xl_data = pd.read_excel(URL,sheet_name=Sheet_Name)\n",
    "    df = pd.DataFrame(xl_data,columns = Columns_Range)\n",
    "    info = []\n",
    "    for col in Columns_Range:\n",
    "        info_col = []\n",
    "        for row in range(Rows_Range[0],Rows_Range[1]+1):\n",
    "            info_col.append(df[col][row])\n",
    "        info.append(info_col)\n",
    "    d = {Columns_Range[i]: info[i] for i in range(len(Columns_Range))}\n",
    "    df = pd.DataFrame(data=d)\n",
    "    data = np.array(df)\n",
    "    X = []\n",
    "    for i in range(len(data)):\n",
    "        X.append(data[i][0])\n",
    "    return X"
   ]
  },
  {
   "cell_type": "code",
   "execution_count": 176,
   "metadata": {},
   "outputs": [
    {
     "ename": "SyntaxError",
     "evalue": "invalid syntax (<ipython-input-176-c76dce870b35>, line 5)",
     "output_type": "error",
     "traceback": [
      "\u001b[0;36m  File \u001b[0;32m\"<ipython-input-176-c76dce870b35>\"\u001b[0;36m, line \u001b[0;32m5\u001b[0m\n\u001b[0;31m    Rows_Range = [,]\u001b[0m\n\u001b[0m                  ^\u001b[0m\n\u001b[0;31mSyntaxError\u001b[0m\u001b[0;31m:\u001b[0m invalid syntax\n"
     ]
    }
   ],
   "source": [
    "#Define parameters and store process\n",
    "URL = ''\n",
    "Sheet_Name = ''\n",
    "Columns_Range = ['']\n",
    "Rows_Range = [,]\n",
    "X = Prob7(URL,Sheet_Name,Columns_Range,Rows_Range)\n",
    "print(X)"
   ]
  },
  {
   "cell_type": "markdown",
   "metadata": {},
   "source": [
    "### Multivariate part:"
   ]
  },
  {
   "cell_type": "code",
   "execution_count": 80,
   "metadata": {},
   "outputs": [],
   "source": [
    "# Multivatiate Distributions\n",
    "##problem 1\n",
    "def sim_multi_normal(mu,Sigma,samplesize):\n",
    "    \n",
    "    #dimension\n",
    "    d = len(mu)\n",
    "    \n",
    "    #make sure in good form\n",
    "    mu = np.array(mu).reshape((d,1))\n",
    "    Sigma = np.array(Sigma)\n",
    "    \n",
    "    \n",
    "    #construction\n",
    "    A = scipy.linalg.cholesky(Sigma, lower=True)\n",
    "    np.random.seed(0)\n",
    "    x = mu + np.dot(A,np.random.randn(samplesize,d).T)\n",
    "    \n",
    "    #here the return is a d*samplesize matrix\n",
    "    return x"
   ]
  },
  {
   "cell_type": "code",
   "execution_count": 81,
   "metadata": {},
   "outputs": [],
   "source": [
    "##problem 2\n",
    "#our input are supposed to be a d*samplesize matrix x\n",
    "def est_multi_normal(x):\n",
    "    \n",
    "    #get dim\n",
    "    x = np.array(x)\n",
    "    d = np.shape(x)[0]\n",
    "    samplesize = np.shape(x)[1]\n",
    "    \n",
    "    #est mean\n",
    "    mu = np.mean(x,axis=1)\n",
    "    \n",
    "    #est var\n",
    "    Sigma = np.cov(x)\n",
    "    \n",
    "    #est A\n",
    "    A = scipy.linalg.cholesky(Sigma, lower=True)\n",
    "    \n",
    "    return mu,Sigma,A"
   ]
  },
  {
   "cell_type": "code",
   "execution_count": 89,
   "metadata": {},
   "outputs": [
    {
     "name": "stdout",
     "output_type": "stream",
     "text": [
      "mean vector:  \n",
      " [-0.13082355 -0.11850337] \n",
      " covariance matrix:  \n",
      " [[ 0.04727262 -0.00187866]\n",
      " [-0.00187866  0.05342793]] \n",
      " A:  \n",
      " [[ 0.21742269  0.        ]\n",
      " [-0.0086406   0.23098326]]\n"
     ]
    },
    {
     "data": {
      "text/plain": [
       "array([[ 0.25272146,  0.0819763 ,  0.27522593, ..., -0.21952587,\n",
       "        -0.05416061, -0.0452798 ],\n",
       "       [-0.04131622,  0.39064857, -0.36037502, ..., -0.42237168,\n",
       "        -0.24579241, -0.05572204]])"
      ]
     },
     "execution_count": 89,
     "metadata": {},
     "output_type": "execute_result"
    }
   ],
   "source": [
    "data1 = np.array(data_sheet1)\n",
    "data2 = np.array(data_sheet2)\n",
    "data_1 = []\n",
    "data_2 = []\n",
    "for i in range(len(data1)):\n",
    "    data_1.append(data1[i][0])\n",
    "    data_2.append(data2[i][0])\n",
    "data = np.array([data_1, data_2])\n",
    "mu,sigma,A = est_multi_normal(data)\n",
    "print('mean vector: ','\\n',mu,'\\n','covariance matrix: ','\\n',sigma,'\\n','A: ','\\n',A)\n",
    "\n",
    "sim_multi_normal(mu,sigma,len(data1))"
   ]
  },
  {
   "cell_type": "code",
   "execution_count": 113,
   "metadata": {},
   "outputs": [],
   "source": [
    "##problem 3\n",
    "\n",
    "#distr_of_W is a string decides which distribution that W obeys, param is an parameter array for simulating W\n",
    "def sim_norm_var(mu,Sigma,samplesize,distr_of_W,param):\n",
    "    \n",
    "    mu = np.array(mu)\n",
    "    Sigma = np.array(Sigma)\n",
    "    param = np.array(param)\n",
    "    \n",
    "    if distr_of_W == 'beta':\n",
    "        w = np.random.beta(param[0],param[1],samplesize)\n",
    "    elif distr_of_W == 'inversegamma':\n",
    "        w = param[0] / np.random.chisquare(param[0],samplesize)\n",
    "    elif distr_of_W == 'exp':\n",
    "        w = np.random.exponential(param[0],samplesize)\n",
    "    \n",
    "    #construction\n",
    "    A = scipy.linalg.cholesky(Sigma, lower=True)\n",
    "    AZ = np.dot(A,np.random.randn(samplesize,len(mu)).T)\n",
    "    \n",
    "    x = []\n",
    "    for i in range(samplesize):\n",
    "        x.append(mu + np.sqrt(w[i]) * AZ[:,i])\n",
    "    \n",
    "    x = np.array(x)\n",
    "    return x.T"
   ]
  },
  {
   "cell_type": "code",
   "execution_count": 117,
   "metadata": {},
   "outputs": [
    {
     "name": "stdout",
     "output_type": "stream",
     "text": [
      "[[ 0.05311273 -0.13934783  0.58116505 ... -0.34032052  0.059784\n",
      "  -0.12561713]\n",
      " [-0.63557738 -0.20144783 -0.74361114 ... -0.17792845 -0.06625963\n",
      "  -0.01659362]]\n"
     ]
    }
   ],
   "source": [
    "X = sim_norm_var(mu,sigma,len(data1),'inversegamma',[6])\n",
    "print(X)"
   ]
  },
  {
   "cell_type": "code",
   "execution_count": 87,
   "metadata": {},
   "outputs": [],
   "source": [
    "##problem 4\n",
    "\n",
    "#using project 1\n",
    "#Here a is an array of historical data\n",
    "#alpha is the given quantile between 0 and 1.\n",
    "#alternative function for VaR\n",
    "def VaR2(a,alpha):\n",
    "    a = a[a.argsort()]\n",
    "    n = len(a)\n",
    "    index = alpha*n-1 #-1 comes from the index in python\n",
    "    rindex = float(np.rint(index))\n",
    "    if (rindex == index):\n",
    "        r = int(rindex)\n",
    "        v = a[r]\n",
    "    elif (rindex < index):\n",
    "        r = int(rindex)\n",
    "        v = (a[r] + a[r+1])/2\n",
    "    else:\n",
    "        r = int(rindex)\n",
    "        v = (a[r-1] + a[r])/2\n",
    "    return v\n",
    "\n",
    "\n",
    "#Here a is the given historical data,\n",
    "#alpha is the quantile, valued between 0 and 1\n",
    "#Note: to use this formula, we need to first check continuity:\n",
    "def ES_sim(a,alpha): #here we employ the formula for TCE\n",
    "    a_select = a[a>=VaR2(a,alpha)]\n",
    "    v = np.mean(a_select)\n",
    "    return v"
   ]
  },
  {
   "cell_type": "code",
   "execution_count": 139,
   "metadata": {},
   "outputs": [
    {
     "data": {
      "image/png": "[encoded data removed]",
      "text/plain": [
       "<Figure size 1080x720 with 4 Axes>"
      ]
     },
     "metadata": {
      "needs_background": "light"
     },
     "output_type": "display_data"
    }
   ],
   "source": [
    "##problem 4\n",
    "\n",
    "#multi_normal\n",
    "N = 1000 #number of correlation\n",
    "samplesize = 1000 #simulation size\n",
    "alpha = 0.99 #significance level\n",
    "rho = [-1+2*(i+1)/N for i in range(N-1)]\n",
    "npts = 4 #number of plots\n",
    "sigma1 = 2\n",
    "sigma2 = 2\n",
    "mu = [-50,1000]\n",
    "\n",
    "#multi_t\n",
    "nu = 5\n",
    "\n",
    "\n",
    "VaR_X_1_2 = []\n",
    "VaR_X_12 = []\n",
    "ES_X_1_2 = []\n",
    "ES_X_12 = []\n",
    "VaR_Y_1_2 = []\n",
    "VaR_Y_12 = []\n",
    "ES_Y_1_2 = []\n",
    "ES_Y_12 = []\n",
    "for j in range(N-1):\n",
    "    sigma = np.array([[sigma1**2,rho[j]*sigma1*sigma2],[rho[j]*sigma1*sigma2,sigma2**2]])\n",
    "    X = sim_multi_normal(mu,sigma,samplesize)\n",
    "    X1 = np.array(X[0,:])\n",
    "    X2 = np.array(X[1,:])\n",
    "    X_12 = np.array(X1+X2)\n",
    "    VaR_X_1_2.append(VaR(X1,alpha)+VaR(X2,alpha))\n",
    "    VaR_X_12.append(VaR(X_12,alpha))\n",
    "    ES_X_1_2.append(ES_sim(X1,alpha)+ES_sim(X2,alpha))\n",
    "    ES_X_12.append(ES_sim(X_12,alpha))\n",
    "    \n",
    "    Y = sim_norm_var(mu,sigma,samplesize,'inversegamma',[nu])\n",
    "    Y1 = np.array(Y[0,:])\n",
    "    Y2 = np.array(Y[1,:])\n",
    "    Y_12 = Y1+Y2\n",
    "    VaR_Y_1_2.append(VaR(Y1,alpha)+VaR(Y2,alpha))\n",
    "    VaR_Y_12.append(VaR(Y_12,alpha))\n",
    "    ES_Y_1_2.append(ES_sim(Y1,alpha)+ES_sim(Y2,alpha))\n",
    "    ES_Y_12.append(ES_sim(Y_12,alpha))\n",
    "    \n",
    "plt.figure(figsize = (15,10))\n",
    "ax1 = plt.subplot(2,2,1)\n",
    "plt.title('V@R for Normal-distr')\n",
    "ax2 = plt.subplot(2,2,2)\n",
    "plt.title('ES for Normal-distr')\n",
    "ax3 = plt.subplot(2,2,3)\n",
    "plt.title('V@R for t-distr')\n",
    "ax4 = plt.subplot(2,2,4)\n",
    "plt.title('ES for t-distr')\n",
    "\n",
    "plt.sca(ax1)\n",
    "plt.plot(rho,VaR_X_1_2,label = 'V@R(X1)+V@R(X2)')\n",
    "plt.plot(rho,VaR_X_12,label = 'V@R(X1+X2)')\n",
    "plt.sca(ax2)\n",
    "plt.plot(rho,ES_X_1_2,label = 'ES(X1)+ES(X2)')\n",
    "plt.plot(rho,ES_X_12,label = 'ES(X1+X2)')\n",
    "plt.sca(ax3)\n",
    "plt.plot(rho,VaR_Y_1_2,label = 'V@R(Y1)+V@R(Y2)')\n",
    "plt.plot(rho,VaR_Y_12,label = 'V@R(Y1+Y2)')\n",
    "plt.sca(ax4)\n",
    "plt.plot(rho,ES_Y_1_2,label = 'ES(Y1)+ES(Y2)')\n",
    "plt.plot(rho,ES_Y_12,label = 'ES(Y1+Y2)')\n",
    "\n",
    "ax1.legend(loc='best')\n",
    "ax2.legend(loc='best')\n",
    "ax3.legend(loc='best')\n",
    "ax4.legend(loc='best')\n",
    "\n",
    "plt.show()"
   ]
  },
  {
   "cell_type": "code",
   "execution_count": null,
   "metadata": {},
   "outputs": [],
   "source": [
    "######THIS PART IS ONLY FOR TEST!!!!!!!!!!!!!!!!!!!!!!!!!!!!!!\n",
    "\n",
    "mu = [0,0,0]\n",
    "sigma = [[1,0,0],[0,1,0],[0,0,1]]\n",
    "X = sim_multi_normal(mu,sigma,1000)\n",
    "# print(np.shape(sigma)[0])\n",
    "a,b,c = est_multi_normal(X)\n",
    "# print(a,'\\n',b,'\\n',c,'\\n')\n",
    "print(sim_norm_var(mu,sigma,1,'normal',[0,1]))"
   ]
  },
  {
   "cell_type": "markdown",
   "metadata": {},
   "source": [
    "### Note:\n",
    "#### Time series part    \n",
    "1.\n",
    "For this probelem, we wrote the following functions: \n",
    "AR1:\n",
    "phi is a number strictly between -1 and 1\n",
    "distribution has option normal and t distribution, and the input should have \"\" with it.\n",
    "variance is a positive number. And for t distribution, we require variance to be larger than 1\n",
    "nsteps is an integer indicating the number of steps we want for simulation\n",
    "x0 is the initial value of the time series.\n",
    "\n",
    "autocor_AR1:\n",
    "phi1 is a value stricly between -1 and 1.\n",
    "h is an integer\n",
    "\n",
    "autocor_sample:\n",
    "x is a time series\n",
    "h is an integer whose value is less than length of x and larger or equal to 0\n",
    "\n",
    "2. \n",
    "\n",
    "\n",
    "3. \n",
    "\n",
    "\n",
    "4. \n",
    "\n",
    "5. \n",
    "For this problem, we wrote the follow functions:\n",
    "ARCH1: \n",
    "This function is used to simulate data from ARCH1 model. \n",
    "alpha is an array contains alpha0 and alpha1, where alpha0 is positive and alpha1 is nonnegative\n",
    "nsteps is the number how many time step we want for the process\n",
    "x0 is the initial value of the series\n",
    "\n",
    "GARCH_1_1:\n",
    "This function is used to simulate data from GARCH11 model \n",
    "alpha0 , alpha1 and beta1 are parameters for GARCH11 model\n",
    "nsteps is the number how many time steps we want for the process\n",
    "x0 is the initial value of the series\n",
    "sigma0 is the initial value of sigma.\n",
    "\n",
    "6. \n",
    "For this problem, we applied ARMA(1,1) and GARCH(1,1) model to the log returns from LSP500 from 1992-01-01 to\n",
    "2019-12-31. Parameters are showed above.\n",
    "\n",
    "7. \n",
    "For this problem, we wrote a function to download data from a given URL.\n",
    "Then we can use previous code from Q6 to estimate the parameters with respect to diffent models.\n",
    "Details of input format is in Q7 below."
   ]
  },
  {
   "cell_type": "markdown",
   "metadata": {},
   "source": [
    "#### Multivariate Distributions part\n",
    "\n",
    "1. For this problem we wrote a function called sim_multi_normal(mu,Sigma,samplesize). The input mu represents the mean vector $\\mu$ for multivatiate normal random vector X; and the input Sigma means the covariance matrix $\\Sigma$ for X, samplesize is the number of random vectors we want to simulate. The output for this function is a d*samplesize array, where d is the dimension for random vector.\n",
    "\n",
    "2. For this problem we wrote a function called est_multi_normal(x). The input x is a d*samplesize array where d denotes the dimension for random vector and samplesize is the number of random vector we have. The output for this function is mu, Sigma and A where mu denotes the estimated mean vector $\\mu$ and Sigma represents the estimated covariance matrix $\\Sigma$. A is the lower triangular matrix satisfying $AA'=\\Sigma$.\n",
    "\n",
    "3. For this problem we wrote a function called sim_norm_var(mu,Sigma,samplesize,distr_of_W,param). The input for mu, Sigma and samplesize is similar to the meaning with problem 1. The input distr_of_W is a string type with 4 expected distribution names: beta, inversegamma, exp(for exponential) and normal. And the input param means the needed parameter list for different kinds of expected distributions. This two inputs is for computing W. Since for Normal Variance Distribution, the distribution for W is user defined. In particular, if W has distribution of inversegamma, we are simulating multivariate t-distribution, and the input parameter is the degree of freedom $\\nu$ for t-distribution. Again, the output x is a d*samplesize array similar to meaning in problem 1.\n",
    "\n",
    "4. For this problem we tried with different choices of significant level $\\alpha$ and mean vector $\\mu$ and covariance matrix $\\Sigma$, And although sometimes V@R may be not subadditive, the sign for both V@R and ES, and no matter for multi normal disribution or multi t-distribution, still hold the same. I think it makes sense since if the combination of two stocks has positive(or negative) risk, it's unlikely that the sum of two risk has negative(or positive) risk."
   ]
  }
 ],
 "metadata": {
  "kernelspec": {
   "display_name": "Python 3",
   "language": "python",
   "name": "python3"
  },
  "language_info": {
   "codemirror_mode": {
    "name": "ipython",
    "version": 3
   },
   "file_extension": ".py",
   "mimetype": "text/x-python",
   "name": "python",
   "nbconvert_exporter": "python",
   "pygments_lexer": "ipython3",
   "version": "3.7.4"
  }
 },
 "nbformat": 4,
 "nbformat_minor": 2
}
