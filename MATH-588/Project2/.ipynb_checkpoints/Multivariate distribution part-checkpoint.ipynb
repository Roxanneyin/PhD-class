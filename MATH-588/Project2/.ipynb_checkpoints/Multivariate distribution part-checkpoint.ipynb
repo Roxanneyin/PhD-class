{
 "cells": [
  {
   "cell_type": "code",
   "execution_count": 1,
   "metadata": {},
   "outputs": [],
   "source": [
    "#Import module:\n",
    "import numpy as np\n",
    "import scipy\n",
    "import scipy.linalg\n",
    "import scipy.stats as stats\n",
    "import statsmodels.api as sm"
   ]
  },
  {
   "cell_type": "code",
   "execution_count": 51,
   "metadata": {},
   "outputs": [],
   "source": [
    "# Multivatiate Distributions\n",
    "##problem 1\n",
    "def sim_multi_normal(mu,Sigma,samplesize):\n",
    "    \n",
    "    #dimension\n",
    "    d = len(mu)\n",
    "    \n",
    "    #make sure in good form\n",
    "    mu = np.array(mu).reshape((d,1))\n",
    "    Sigma = np.array(Sigma)\n",
    "    \n",
    "\n",
    "    \n",
    "    #construction\n",
    "    A = scipy.linalg.cholesky(Sigma, lower=True)\n",
    "    np.random.seed(0)\n",
    "    x = mu + np.dot(A,np.random.randn(samplesize,d).T)\n",
    "    \n",
    "    #here the return is a d*samplesize matrix\n",
    "    return x"
   ]
  },
  {
   "cell_type": "code",
   "execution_count": 52,
   "metadata": {},
   "outputs": [],
   "source": [
    "##problem 2\n",
    "#our input are supposed to be a d*samplesize matrix x\n",
    "def est_multi_normal(x):\n",
    "    \n",
    "    #get dim\n",
    "    x = np.array(x)\n",
    "    d = np.shape(x)[0]\n",
    "    samplesize = np.shape(x)[1]\n",
    "    \n",
    "    #est mean\n",
    "    mu = np.mean(X,axis=1)\n",
    "    \n",
    "    #est var\n",
    "    Sigma = np.cov(X)\n",
    "    \n",
    "    #est A\n",
    "    A = scipy.linalg.cholesky(Sigma, lower=True)\n",
    "    \n",
    "    return mu,Sigma,A"
   ]
  },
  {
   "cell_type": "code",
   "execution_count": 83,
   "metadata": {},
   "outputs": [],
   "source": [
    "##problem 3\n",
    "\n",
    "#distr_of_W is a string decides which distribution that W obeys, param is an parameter array for simulating W\n",
    "def sim_norm_var(mu,Sigma,samplesize,distr_of_W,param):\n",
    "    \n",
    "    Sigma = np.array(Sigma)\n",
    "    param = np.array(param)\n",
    "    \n",
    "    if distr_of_W == 'beta':\n",
    "        w = np.random.beta(param[0],param[1])\n",
    "    elif distr_of_W == 'inversegamma':\n",
    "        w = param[0] / np.random.chisquare(param[0])\n",
    "    elif distr_of_W == 'exp':\n",
    "        w = np.random.exponential(param[0])\n",
    "    elif distr_of_W == 'normal':\n",
    "        w = np.random.normal(param[0],param[1])\n",
    "    \n",
    "    x = sim_multi_normal(mu,w*Sigma,samplesize)\n",
    "    \n",
    "    return x"
   ]
  },
  {
   "cell_type": "code",
   "execution_count": 85,
   "metadata": {},
   "outputs": [],
   "source": [
    "##problem 4\n",
    "\n",
    "#using project 1\n",
    "#Here a is an array of historical data\n",
    "#alpha is the given quantile between 0 and 1.\n",
    "def VaR(a,alpha):\n",
    "    alpha = alpha*100;\n",
    "    v = np.percentile(a,alpha)\n",
    "    return v;\n",
    "\n",
    "\n",
    "#Here a is the given historical data,\n",
    "#alpha is the quantile, valued between 0 and 1\n",
    "#npts is number of points involved in computing integral term in ES.\n",
    "def ES_sim(a,alpha,npts):\n",
    "    alpha_vec = np.linspace(alpha,1,npts,endpoint=True)\n",
    "    stepsize = (1-alpha)/(npts-1)\n",
    "    b = np.zeros(npts);\n",
    "    for i in range(0,npts):\n",
    "        b[i]=VaR(a,alpha_vec[i])\n",
    "    y = stepsize*sum(b)/(1-alpha)\n",
    "    return y;"
   ]
  },
  {
   "cell_type": "code",
   "execution_count": 116,
   "metadata": {},
   "outputs": [
    {
     "name": "stdout",
     "output_type": "stream",
     "text": [
      "Multi normal: \n",
      "\n",
      "V@R(X1+X2) =  -0.006227858291906863 \n",
      "\n",
      "V@R(X1)+V@R(X2) =  -0.010193827115054788 \n",
      "\n",
      "ES(X1+X2) =  1.8738076872223561 \n",
      "\n",
      "ES(X1)+ES(X2) =  2.154467102793088 \n",
      "\n",
      "Multi t: \n",
      "\n",
      "V@R(Y1+Y2) =  -0.012681798517391485 \n",
      "\n",
      "V@R(Y1)+V@R(Y2) =  -0.020757707631567257 \n",
      "\n",
      "ES(Y1+Y2) =  3.815637806109461 \n",
      "\n",
      "ES(Y1)+ES(Y2) =  4.387145055222982 \n",
      "\n"
     ]
    }
   ],
   "source": [
    "##problem 4\n",
    "\n",
    "#multi_normal\n",
    "samplesize = 1000 #simulation size\n",
    "alpha = 0.5 #significance level\n",
    "npts = 1000\n",
    "mu = [-10,10]\n",
    "sigma = [[2,1],[1,2]]\n",
    "X = sim_multi_normal(mu,sigma,samplesize)\n",
    "\n",
    "X1 = X[0,:]\n",
    "X2 = X[1,:]\n",
    "X_12 = X1+X2\n",
    "print('Multi normal:', '\\n')\n",
    "print('V@R(X1+X2) = ', VaR(X_12,alpha), '\\n')\n",
    "print('V@R(X1)+V@R(X2) = ', VaR(X1,alpha)+VaR(X2,alpha),'\\n')\n",
    "print('ES(X1+X2) = ', ES_sim(X_12,alpha,npts), '\\n')\n",
    "print('ES(X1)+ES(X2) = ', ES_sim(X1,alpha,npts)+ES_sim(X2,alpha,npts), '\\n')\n",
    "\n",
    "\n",
    "#multi_t\n",
    "nu = 5\n",
    "Y = sim_norm_var(mu,sigma,samplesize,'inversegamma',[nu])\n",
    "Y1 = Y[0,:]\n",
    "Y2 = Y[1,:]\n",
    "Y_12 = Y1+Y2\n",
    "print('Multi t:', '\\n')\n",
    "print('V@R(Y1+Y2) = ', VaR(Y_12,alpha), '\\n')\n",
    "print('V@R(Y1)+V@R(Y2) = ', VaR(Y1,alpha)+VaR(Y2,alpha),'\\n')\n",
    "print('ES(Y1+Y2) = ', ES_sim(Y_12,alpha,npts), '\\n')\n",
    "print('ES(Y1)+ES(Y2) = ', ES_sim(Y1,alpha,npts)+ES_sim(Y2,alpha,npts), '\\n')"
   ]
  },
  {
   "cell_type": "markdown",
   "metadata": {},
   "source": [
    "Multivariate Distributions\n",
    "\n",
    "1. For this problem I write a function called sim_multi_normal(mu,Sigma,samplesize). The input mu represents the mean vector $\\mu$ for multivatiate normal random vector X; and the input Sigma means the covariance matrix $\\Sigma$ for X, samplesize is the number of random vectors we want to simulate. The output for this function is a d*samplesize array, where d is the dimension for random vector.\n",
    "\n",
    "2. For this problem I write a function called est_multi_normal(x). The input x is a d*samplesize array where d denotes the dimension for random vector and samplesize is the number of random vector we have. The output for this function is mu, Sigma and A where mu denotes the estimated mean vector $\\mu$ and Sigma represents the estimated covariance matrix $\\Sigma$. A is the lower triangular matrix satisfying $AA'=\\Sigma$.\n",
    "\n",
    "3. For this problem I write a function called sim_norm_var(mu,Sigma,samplesize,distr_of_W,param). The input for mu, Sigma and samplesize is similar to the meaning with problem 1. The input distr_of_W is a string type with 4 expected distribution names: beta, inversegamma, exp(for exponential) and normal. And the input param means the needed parameter list for different kinds of expected distributions. This two inputs is for computing W. Since for Normal Variance Distribution, the distribution for W is user defined. In particular, if W has distribution of inversegamma, we are simulating multivariate t-distribution, and the input parameter is the degree of freedom $\\nu$ for t-distribution. Again, the output x is a d*samplesize array similar to meaning in problem 1.\n",
    "\n",
    "4. For this problem I tried with different choices of significant level $\\alpha$ and mean vector $\\mu$ and covariance matrix $\\Sigma$, And although sometimes V@R may be not subadditive, the sign for both V@R and ES, and no matter for multi normal disribution or multi t-distribution, still hold the same. I think it makes sense since if the combination of two stocks has positive(or negative) risk, it's unlikely that the sum of two risk has negative(or positive) risk."
   ]
  },
  {
   "cell_type": "code",
   "execution_count": 84,
   "metadata": {},
   "outputs": [
    {
     "name": "stdout",
     "output_type": "stream",
     "text": [
      "[[2.22667406]\n",
      " [0.50509821]\n",
      " [1.23541146]]\n"
     ]
    }
   ],
   "source": [
    "######THIS PART IS ONLY FOR TEST!!!!!!!!!!!!!!!!!!!!!!!!!!!!!!\n",
    "\n",
    "mu = [0,0,0]\n",
    "sigma = [[1,0,0],[0,1,0],[0,0,1]]\n",
    "X = sim_multi_normal(mu,sigma,1000)\n",
    "# print(np.shape(sigma)[0])\n",
    "a,b,c = est_multi_normal(X)\n",
    "# print(a,'\\n',b,'\\n',c,'\\n')\n",
    "print(sim_norm_var(mu,sigma,1,'normal',[0,1]))"
   ]
  }
 ],
 "metadata": {
  "kernelspec": {
   "display_name": "Python 3",
   "language": "python",
   "name": "python3"
  },
  "language_info": {
   "codemirror_mode": {
    "name": "ipython",
    "version": 3
   },
   "file_extension": ".py",
   "mimetype": "text/x-python",
   "name": "python",
   "nbconvert_exporter": "python",
   "pygments_lexer": "ipython3",
   "version": "3.7.4"
  }
 },
 "nbformat": 4,
 "nbformat_minor": 2
}
