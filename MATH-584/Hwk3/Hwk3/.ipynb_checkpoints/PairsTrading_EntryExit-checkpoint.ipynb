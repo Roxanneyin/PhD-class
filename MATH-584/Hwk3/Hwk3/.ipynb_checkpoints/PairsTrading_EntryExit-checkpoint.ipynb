{
 "cells": [
  {
   "cell_type": "code",
   "execution_count": 1,
   "metadata": {},
   "outputs": [],
   "source": [
    "import numpy as np \n",
    "import matplotlib.pyplot as plt\n",
    "import math\n",
    "import scipy.integrate\n",
    "import scipy.special"
   ]
  },
  {
   "cell_type": "code",
   "execution_count": 16,
   "metadata": {},
   "outputs": [
    {
     "name": "stdout",
     "output_type": "stream",
     "text": [
      "3.544406025041677\n"
     ]
    }
   ],
   "source": [
    "# Input parameters\n",
    "rho = 0.01\n",
    "sigma = 0.5\n",
    "sigma_tilde = sigma/((1-(1-rho)**2)**0.5)\n",
    "print(sigma_tilde)"
   ]
  },
  {
   "cell_type": "code",
   "execution_count": 17,
   "metadata": {},
   "outputs": [],
   "source": [
    "def expd_tau(lmbd, _rho, _sigma): \n",
    "    #expected input: lmbd -- list of length 2, lmbd[0]<=lmbd[1], _rho, _sigma -- positive scalar parameters    \n",
    "    result = scipy.integrate.quad(lambda x: math.exp((x**2)*_rho/(_sigma**2))*(1+scipy.special.erf(x*(_rho**0.5)/_sigma)), lmbd[0], lmbd[1])\n",
    "    return result[0]*(np.pi**0.5)/(_sigma*(_rho**0.5))"
   ]
  },
  {
   "cell_type": "code",
   "execution_count": 18,
   "metadata": {},
   "outputs": [
    {
     "data": {
      "text/plain": [
       "[<matplotlib.lines.Line2D at 0x1515521b38>]"
      ]
     },
     "execution_count": 18,
     "metadata": {},
     "output_type": "execute_result"
    },
    {
     "data": {
      "image/png": "[encoded data removed]",
      "text/plain": [
       "<matplotlib.figure.Figure at 0x1514fbee48>"
      ]
     },
     "metadata": {},
     "output_type": "display_data"
    }
   ],
   "source": [
    "#compute expected return time to lambda2, starting from lambda1<lambda2 \n",
    "lambda1 = -sigma_tilde\n",
    "lambda2 = [lambda1 + i*sigma_tilde/1000 for i in range(1000)]\n",
    "Etau = []\n",
    "for i in range(len(lambda2)):\n",
    "    Etau.append(expd_tau([lambda1,lambda2[i]],rho,sigma))\n",
    "plt.plot(lambda2,Etau)"
   ]
  },
  {
   "cell_type": "code",
   "execution_count": 81,
   "metadata": {},
   "outputs": [
    {
     "name": "stdout",
     "output_type": "stream",
     "text": [
      "     fun: -0.11741653482901462\n",
      "     jac: array([6.00060448e-05])\n",
      " message: 'Optimization terminated successfully.'\n",
      "    nfev: 12\n",
      "     nit: 4\n",
      "    njev: 4\n",
      "  status: 0\n",
      " success: True\n",
      "       x: array([-3.99621241])\n",
      "-5.3166090375625155\n",
      "0.013009915768113172\n",
      "20.97484281052778\n",
      "0.11741653482901462\n"
     ]
    }
   ],
   "source": [
    "# maximization of the risk-return objective\n",
    "P = 40 #price of the asset on the long side of the pair\n",
    "c = P*4*0.005 #T-cost of opening and closing the pair\n",
    "lambda1 = -3*sigma_tilde/2 #current position, at which the pair is now\n",
    "#gamma = 0.00005 #reciprocal of risk tolerance\n",
    "T = 30 #upper limit on the holding time\n",
    "#obj = lambda lam: -(lam-lambda1-c)/P + gamma*(expd_tau([lambda1,lam],rho,sigma))**2\n",
    "obj = lambda lam: -(lam-lambda1-c)*(T-expd_tau([lambda1,lam],rho,sigma))/P\n",
    "cons = ({'type': 'ineq', 'fun': lambda lmbd: lmbd-lambda1-c}) # inequality means that it is to be non-negative\n",
    "lmbd0 = lambda1/2\n",
    "opt = scipy.optimize.minimize(obj,lmbd0,constraints=cons) \n",
    "print(opt)\n",
    "print(lambda1)\n",
    "print((opt.x[0]-lambda1-c)/P)\n",
    "print(expd_tau([lambda1,opt.x[0]],rho,sigma))\n",
    "print(-obj(opt.x[0]))"
   ]
  },
  {
   "cell_type": "code",
   "execution_count": null,
   "metadata": {},
   "outputs": [],
   "source": []
  }
 ],
 "metadata": {
  "kernelspec": {
   "display_name": "Python 3",
   "language": "python",
   "name": "python3"
  },
  "language_info": {
   "codemirror_mode": {
    "name": "ipython",
    "version": 3
   },
   "file_extension": ".py",
   "mimetype": "text/x-python",
   "name": "python",
   "nbconvert_exporter": "python",
   "pygments_lexer": "ipython3",
   "version": "3.7.4"
  }
 },
 "nbformat": 4,
 "nbformat_minor": 2
}
