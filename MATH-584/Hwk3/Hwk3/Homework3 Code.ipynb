{
 "cells": [
  {
   "cell_type": "code",
   "execution_count": 2,
   "metadata": {},
   "outputs": [],
   "source": [
    "import pandas as pd\n",
    "import numpy as np \n",
    "import csv\n",
    "import matplotlib.pyplot as plt\n",
    "import math\n",
    "from pandas_datareader import data\n",
    "import scipy.optimize\n",
    "from scipy import stats\n",
    "import scipy.integrate\n",
    "import scipy.special\n",
    "from statsmodels.tsa import stattools\n",
    "from statsmodels.tsa import arima_model\n",
    "from statsmodels.graphics import gofplots\n",
    "from statsmodels.regression import linear_model"
   ]
  },
  {
   "cell_type": "code",
   "execution_count": 3,
   "metadata": {},
   "outputs": [
    {
     "data": {
      "text/plain": [
       "<function TextIOWrapper.close()>"
      ]
     },
     "execution_count": 3,
     "metadata": {},
     "output_type": "execute_result"
    }
   ],
   "source": [
    "#read tickers from csv file\n",
    "tickers_file = 'TechTickers.csv'\n",
    "tickers = [];\n",
    "f = open(tickers_file, \"r\", encoding='utf-8-sig')\n",
    "for line in csv.reader(f):\n",
    "    tickers.append(str(line[0]))\n",
    "f.close\n",
    "#print(tickers)"
   ]
  },
  {
   "cell_type": "code",
   "execution_count": 4,
   "metadata": {},
   "outputs": [],
   "source": [
    "#download price data from Yahoo\n",
    "start_date = '2009-01-01'\n",
    "end_date = '2019-12-31'\n",
    "stock_data = data.get_data_yahoo(tickers, start_date, end_date)"
   ]
  },
  {
   "cell_type": "code",
   "execution_count": 5,
   "metadata": {},
   "outputs": [
    {
     "name": "stdout",
     "output_type": "stream",
     "text": [
      "['AAPL', 'MSFT', 'TSM', 'INTC', 'CSCO', 'ORCL', 'SAP', 'ADBE', 'CRM', 'NVDA', 'ACN', 'ASML', 'TXN', 'IBM', 'QCOM', 'FIS', 'SNE', 'INTU', 'MU', 'VMW', 'AMAT', 'AMD', 'ADI', 'LRCX', 'INFY', 'ADSK', 'CTSH', 'TEL', 'APH', 'HPQ']\n"
     ]
    }
   ],
   "source": [
    "#create a list of tickers whose adjusted closing prices in the first month of the first year\n",
    "#do not have any missing values\n",
    "stockArray = []\n",
    "for ticker in tickers:\n",
    "    stockArray.append(list(stock_data['Adj Close'][ticker]))\n",
    "stockArray=np.array(stockArray)\n",
    "tickers_liq = []\n",
    "for i in range(len(tickers)):\n",
    "    temp=0\n",
    "    for j in range(len(stockArray[i,:])):\n",
    "        if math.isnan(stockArray[i,j]):\n",
    "            temp=1\n",
    "    if (temp==0):\n",
    "        tickers_liq.append(tickers[i])\n",
    "print(tickers_liq)"
   ]
  },
  {
   "cell_type": "code",
   "execution_count": 6,
   "metadata": {},
   "outputs": [],
   "source": [
    "#save the list of tickers without any initial missing values\n",
    "tickers = list(tickers_liq) #use \"list\" when assigning a list to a new list in case mistakes\n",
    "np.savetxt(\"TechTickers_liq.csv\",np.array(tickers),fmt='%1s',delimiter=',')"
   ]
  },
  {
   "cell_type": "code",
   "execution_count": 7,
   "metadata": {},
   "outputs": [],
   "source": [
    "#for the given range of years, download and save all adjusted closing prices for the tickers\n",
    "#from the list of those without missing initial values\n",
    "stockArray = []\n",
    "for ticker in tickers_liq:\n",
    "    stockArray.append(list(stock_data['Adj Close'][ticker]))\n",
    "stockArray=np.array(stockArray)\n",
    "np.savetxt(\"AdjustedClosingPrices_2009To2019.csv\",np.transpose(stockArray),delimiter=',')"
   ]
  },
  {
   "cell_type": "code",
   "execution_count": 16,
   "metadata": {},
   "outputs": [],
   "source": [
    "#some initialization\n",
    "\n",
    "# d = np.shape(stockArray)[0]\n",
    "d = 2\n",
    "\n",
    "AdjPrice_file = \"AdjustedClosingPrices_2009To2019.csv\"\n",
    "f = open(AdjPrice_file,\"r\",encoding='utf-8-sig')\n",
    "AdjPrice = pd.read_csv('AdjustedClosingPrices_2009To2019.csv', header=None)\n",
    "AdjPrice = np.array(AdjPrice)\n",
    "\n",
    "#calibrition settings\n",
    "N = 100 #estimation window size\n",
    "T_bar = 40 #max holding time\n",
    "T = 30 #upper bound time for computing expd tau\n",
    "p_star = 0.05 #significant level for DF test\n",
    "T_lam = 0 #transaction cost\n",
    "lambda_bar = 3 #stop-loss lower bound\n",
    "C_bar = 1000000 #investment money on long side"
   ]
  },
  {
   "cell_type": "code",
   "execution_count": 17,
   "metadata": {},
   "outputs": [],
   "source": [
    "def expd_tau(lmbd, _rho, _sigma): \n",
    "    #expected input: lmbd -- list of length 2, lmbd[0]<=lmbd[1], _rho, _sigma -- positive scalar parameters    \n",
    "    result = scipy.integrate.quad(lambda x: math.exp((x**2)*_rho/(_sigma**2))*(1+scipy.special.erf(x*(_rho**0.5)/_sigma)), lmbd[0], lmbd[1])\n",
    "    return result[0]*(np.pi**0.5)/(_sigma*(_rho**0.5))"
   ]
  },
  {
   "cell_type": "code",
   "execution_count": 18,
   "metadata": {},
   "outputs": [],
   "source": [
    "#this is not necessary, I just want to check the progress and ignore warnings\n",
    "from __future__ import division\n",
    " \n",
    "import sys,time\n",
    "from progressbar import *\n",
    "total = 1000\n",
    "\n",
    "# progress = ProgressBar()\n",
    "# for i in progress(range(total)):\n",
    "#   time.sleep(0.01)\n",
    "\n",
    "import warnings\n",
    "\n",
    "warnings.filterwarnings('ignore')"
   ]
  },
  {
   "cell_type": "code",
   "execution_count": 19,
   "metadata": {},
   "outputs": [
    {
     "name": "stderr",
     "output_type": "stream",
     "text": [
      "100% |########################################################################|\n"
     ]
    }
   ],
   "source": [
    "#1(a) invest with C_bar\n",
    "lambda2 = np.zeros((d,d)) #lam2* for pair i,j\n",
    "ifopen = np.zeros((d,d)) #if open the position\n",
    "iflong = np.zeros((d,d)) #if long the pair\n",
    "P_matrix = np.zeros((d,d)) #for computing shares\n",
    "c_matrix = np.zeros((d,d)) #coeff matrix for pair i,j\n",
    "mean_matrix = np.zeros((d,d)) #mean of process for pairs\n",
    "sigma_tilde_matrix = np.zeros((d,d)) #for stop-loss mech\n",
    "open_time_matrix = np.zeros((d,d)) #for stop-loss mech\n",
    "port1 = np.zeros((len(AdjPrice[:,0]),d)) #num of shares with time and asset\n",
    "\n",
    "pbar = ProgressBar().start()\n",
    "for k in range(len(AdjPrice[:,0])-N):\n",
    "    pbar.update(int((k/(len(AdjPrice[:,0])-N-1))*100))\n",
    "    time.sleep(0.01)\n",
    "#we are standing at day k+N actually\n",
    "    port1[k+N,:] = port1[k+N-1,:]\n",
    "    for i in range(d):\n",
    "        for j in range(i+1,d):\n",
    "            \n",
    "            #not open, tell if should open\n",
    "            if ifopen[i,j] == 0:\n",
    "                Calibri_Pri_i = AdjPrice[k:k+N,i]\n",
    "                Calibri_Pri_j = AdjPrice[k:k+N,j]\n",
    "                \n",
    "                #regression\n",
    "                my_arima = arima_model.ARMA(Calibri_Pri_i,[1,0],Calibri_Pri_j)\n",
    "                arma_results = my_arima.fit()\n",
    "                c_ij = arma_results.params[1]\n",
    "                \n",
    "                #construct the pair\n",
    "                Z = np.array(Calibri_Pri_i)-np.array(Calibri_Pri_j)*c_ij\n",
    "                mean_Z = np.mean(Z)\n",
    "                Z = Z-np.mean(Z)\n",
    "                \n",
    "                #run DF test\n",
    "                my_DF = stattools.adfuller(Z,1,'c',None)\n",
    "                \n",
    "                #if cointegrated, open position\n",
    "                if my_DF[1] <= p_star:\n",
    "                    ifopen[i,j] = 1\n",
    "                    open_time_matrix[i,j] = k+N\n",
    "                    c_matrix[i,j] = c_ij\n",
    "                    mean_matrix[i,j] = mean_Z\n",
    "                    phi, sigma = linear_model.yule_walker(Z, order=1)\n",
    "                    rho = 1-phi[0]\n",
    "                    \n",
    "                    sigma_tilde = sigma/((1-phi[0]**2)**0.5)\n",
    "                    sigma_tilde_matrix[i,j] = sigma_tilde\n",
    "                    \n",
    "                    lambda1 = AdjPrice[k+N,i]-AdjPrice[k+N,j]*c_ij-mean_Z\n",
    "                    P = AdjPrice[k+N,i]\n",
    "                    P_matrix[i,j] = P\n",
    "                    c = P*4*T_lam\n",
    "                    \n",
    "                    if lambda1 <= 0:\n",
    "                        iflong[i,j] = 1\n",
    "                        port1[k+N,i] += C_bar / P\n",
    "                        port1[k+N,j] += C_bar / P * (-c_ij)\n",
    "                        obj = lambda lam: -(lam-lambda1-c)*(T-expd_tau([lambda1,lam],rho,sigma))/P\n",
    "                        cons = ({'type': 'ineq', 'fun': lambda lmbd: lmbd-lambda1-c},\n",
    "                               {'type': 'ineq', 'fun': lambda lmbd: T-expd_tau([lambda1,lmbd],rho,sigma)}) # inequality means that it is to be non-negative\n",
    "                        lmbd0 = lambda1/2\n",
    "                        opt = scipy.optimize.minimize(obj,lmbd0,constraints=cons)\n",
    "                        lambda2[i,j] = opt.x[0]\n",
    "                    else:\n",
    "                        iflong[i,j] = 0\n",
    "                        port1[k+N,i] += -C_bar / P\n",
    "                        port1[k+N,j] += C_bar / P * c_ij\n",
    "                        obj = lambda lam: -(lambda1-lam-c)*(T-expd_tau([-lambda1,-lam],rho,sigma))/P\n",
    "                        cons = ({'type': 'ineq', 'fun': lambda lmbd: lambda1-lmbd-c},\n",
    "                               {'type': 'ineq', 'fun': lambda lmbd: T-expd_tau([-lambda1,-lmbd],rho,sigma)}) # inequality means that it is to be non-negative\n",
    "                        lmbd0 = lambda1/2\n",
    "                        opt = scipy.optimize.minimize(obj,lmbd0,constraints=cons)\n",
    "                        lambda2[i,j] = opt.x[0]\n",
    "                        \n",
    "            #already open, tell if close            \n",
    "            elif ifopen[i,j] == 1:\n",
    "                #tell if we should close\n",
    "                if iflong[i,j] == 1:\n",
    "                    if AdjPrice[k+N,i]-c_matrix[i,j]*AdjPrice[k+N,j]-mean_matrix[i,j] >= lambda2[i,j] or AdjPrice[k+N,i]-c_matrix[i,j]*AdjPrice[k+N,j]-mean_matrix[i,j] <= -lambda_bar*sigma_tilde_matrix[i,j] or k + N - open_time_matrix[i,j] > T_bar:\n",
    "                        ifopen[i,j] = 0\n",
    "                        port1[k+N,i] -= C_bar / P_matrix[i,j]\n",
    "                        port1[k+N,j] -= C_bar / P_matrix[i,j] * (-c_matrix[i,j])\n",
    "                        \n",
    "                elif iflong[i,j] == 0:\n",
    "                    if AdjPrice[k+N,i]-c_matrix[i,j]*AdjPrice[k+N,j]-mean_matrix[i,j] <= lambda2[i,j] or AdjPrice[k+N,i]-c_matrix[i,j]*AdjPrice[k+N,j]-mean_matrix[i,j] >= lambda_bar*sigma_tilde_matrix[i,j] or k + N - open_time_matrix[i,j] > T_bar:\n",
    "                        ifopen[i,j] = 0\n",
    "                        port1[k+N,i] -= -C_bar / P_matrix[i,j]\n",
    "                        port1[k+N,j] -= C_bar / P_matrix[i,j] * c_matrix[i,j]\n",
    "\n",
    "pbar.finish()"
   ]
  },
  {
   "cell_type": "code",
   "execution_count": 21,
   "metadata": {},
   "outputs": [
    {
     "name": "stdout",
     "output_type": "stream",
     "text": [
      "Sharpe Ratio for absolute PnL is: -0.028858250792814597\n",
      "Sharpe Ratio for relative PnL is: nan\n"
     ]
    }
   ],
   "source": [
    "#1(a) continue\n",
    "#compute total long and short\n",
    "Total_Amount = np.multiply(port1,AdjPrice[:,:d])\n",
    "L1 = np.sum((Total_Amount>0)*Total_Amount,axis=1)\n",
    "S1 = -np.sum((Total_Amount<0)*Total_Amount,axis=1)\n",
    "\n",
    "#compute absolute PnL process\n",
    "abs_PnL1 = []\n",
    "for i in range(d):\n",
    "    temp = []\n",
    "    for k in range(len(AdjPrice[:,0])-N):\n",
    "        if k == 0:\n",
    "            temp.append(AdjPrice[k+N-1,i])\n",
    "        else:\n",
    "            temp.append(temp[-1]+port1[k+N-1,i]*(AdjPrice[k+N,i]-AdjPrice[k+N-1,i])-np.abs(port1[k+N-1,i]-port1[k+N-2,i])*AdjPrice[k+N-1,i]*T_lam)\n",
    "    \n",
    "    abs_PnL1.append(temp)\n",
    "    \n",
    "abs_PnL1 = np.sum(abs_PnL1, axis=0)\n",
    "abs_PnL1 = np.array(abs_PnL1)\n",
    "\n",
    "#compute relative PnL process\n",
    "rel_PnL1 = []\n",
    "for k in range(len(AdjPrice[:,0])-N):\n",
    "    if k == 0:\n",
    "        rel_PnL1.append(1)\n",
    "    else:\n",
    "        rel_PnL1.append(temp[-1]*(1+(abs_PnL1[k]-abs_PnL1[k-1])/(L1[k+N-1]-S1[k+N-1])))\n",
    "    \n",
    "rel_PnL1 = np.array(rel_PnL1)\n",
    "\n",
    "#sharpe ratio for absolute PnL\n",
    "print(\"Sharpe Ratio for absolute PnL is:\", np.mean(np.diff(abs_PnL1)) / np.sqrt(np.var(np.diff(abs_PnL1))))\n",
    "\n",
    "#sharpe ratio for relative PnL\n",
    "print(\"Sharpe Ratio for relative PnL is:\", np.mean(np.diff(rel_PnL1) / rel_PnL1[:-1]) / np.sqrt(np.var(np.diff(abs_PnL1) / rel_PnL1[:-1])))"
   ]
  },
  {
   "cell_type": "code",
   "execution_count": 22,
   "metadata": {},
   "outputs": [
    {
     "data": {
      "image/png": "[encoded data removed]",
      "text/plain": [
       "<Figure size 432x288 with 1 Axes>"
      ]
     },
     "metadata": {
      "needs_background": "light"
     },
     "output_type": "display_data"
    }
   ],
   "source": [
    "np.savetxt(\"absolute_PnL1.csv\",np.array(abs_PnL1),fmt='%1s',delimiter=',')\n",
    "np.savetxt(\"relative_PnL1.csv\",np.array(rel_PnL1),fmt='%1s',delimiter=',')\n",
    "x_axis = [i for i in range(len(AdjPrice[:,0])-N)]\n",
    "plt.plot(x_axis,abs_PnL1,label=\"absolute PnL\")\n",
    "plt.plot(x_axis,rel_PnL1,label=\"relative PnL\")\n",
    "\n",
    "plt.legend(bbox_to_anchor=(1.0, 1), loc=1, borderaxespad=0.)\n",
    "\n",
    "plt.show()"
   ]
  },
  {
   "cell_type": "code",
   "execution_count": null,
   "metadata": {},
   "outputs": [],
   "source": [
    "## Change the transaction cost above into 0 for test"
   ]
  },
  {
   "cell_type": "code",
   "execution_count": 23,
   "metadata": {},
   "outputs": [
    {
     "name": "stderr",
     "output_type": "stream",
     "text": [
      "100% |########################################################################|\n"
     ]
    }
   ],
   "source": [
    "#1(b) invest with C_bar*V\n",
    "lambda2b = np.zeros((d,d)) #lam2* for pair i,j\n",
    "ifopenb = np.zeros((d,d)) #if open the position\n",
    "iflongb = np.zeros((d,d)) #if long the pair\n",
    "P_matrixb = np.zeros((d,d)) #for computing shares\n",
    "c_matrixb = np.zeros((d,d)) #coeff matrix for pair i,j\n",
    "V_matrix = np.zeros((d,d)) #opt result for obj function\n",
    "mean_matrixb = np.zeros((d,d)) #mean of process for pairs\n",
    "sigma_tilde_matrixb = np.zeros((d,d)) #for stop-loss mech\n",
    "open_time_matrixb = np.zeros((d,d)) #for stop-loss mech\n",
    "port1b = np.zeros((len(AdjPrice[:,0]),d)) #num of shares with time and asset\n",
    "\n",
    "pbar = ProgressBar().start()\n",
    "for k in range(len(AdjPrice[:,0])-N):\n",
    "    pbar.update(int((k/(len(AdjPrice[:,0])-N-1))*100))\n",
    "    time.sleep(0.01)\n",
    "#we are standing at day k+N actually\n",
    "    port1b[k+N,:] = port1b[k+N-1,:]\n",
    "    for i in range(d):\n",
    "        for j in range(i+1,d):\n",
    "            \n",
    "            #not open, tell if should open\n",
    "            if ifopen[i,j] == 0:\n",
    "                Calibri_Pri_i = AdjPrice[k:k+N,i]\n",
    "                Calibri_Pri_j = AdjPrice[k:k+N,j]\n",
    "                \n",
    "                #regression\n",
    "                my_arima = arima_model.ARMA(Calibri_Pri_i,[1,0],Calibri_Pri_j)\n",
    "                arma_results = my_arima.fit()\n",
    "                c_ij = arma_results.params[1]\n",
    "                \n",
    "                #construct the pair\n",
    "                Z = np.array(Calibri_Pri_i)-np.array(Calibri_Pri_j)*c_ij\n",
    "                mean_Z = np.mean(Z)\n",
    "                Z = Z-np.mean(Z)\n",
    "                \n",
    "                #run DF test\n",
    "                my_DF = stattools.adfuller(Z,1,'c',None)\n",
    "                \n",
    "                #if cointegrated, open position\n",
    "                if my_DF[1] <= p_star:\n",
    "                    ifopenb[i,j] = 1\n",
    "                    open_time_matrixb[i,j] = k+N\n",
    "                    c_matrixb[i,j] = c_ij\n",
    "                    mean_matrixb[i,j] = mean_Z\n",
    "                    phi, sigma = linear_model.yule_walker(Z, order=1)\n",
    "                    rho = 1-phi[0]\n",
    "                    \n",
    "                    sigma_tilde = sigma/((1-phi[0]**2)**0.5)\n",
    "                    sigma_tilde_matrixb[i,j] = sigma_tilde\n",
    "                    \n",
    "                    lambda1 = AdjPrice[k+N,i]-AdjPrice[k+N,j]*c_ij-mean_Z\n",
    "                    P = AdjPrice[k+N,i]\n",
    "                    P_matrixb[i,j] = P\n",
    "                    c = P*4*T_lam\n",
    "                    \n",
    "                    if lambda1 <= 0:\n",
    "                        iflongb[i,j] = 1\n",
    "                        obj = lambda lam: -(lam-lambda1-c)*(T-expd_tau([lambda1,lam],rho,sigma))/P\n",
    "                        cons = ({'type': 'ineq', 'fun': lambda lmbd: lmbd-lambda1-c},\n",
    "                               {'type': 'ineq', 'fun': lambda lmbd: T-expd_tau([lambda1,lmbd],rho,sigma)}) # inequality means that it is to be non-negative\n",
    "                        lmbd0 = lambda1/2\n",
    "                        opt = scipy.optimize.minimize(obj,lmbd0,constraints=cons)\n",
    "                        lambda2b[i,j] = opt.x[0]\n",
    "                        V = -obj(opt.x[0])\n",
    "                        V_matrix[i,j] = V\n",
    "                        port1b[k+N,i] += C_bar / P\n",
    "                        port1b[k+N,j] += C_bar / P * (-c_ij)\n",
    "                    else:\n",
    "                        iflongb[i,j] = 0\n",
    "                        obj = lambda lam: -(lambda1-lam-c)*(T-expd_tau([-lambda1,-lam],rho,sigma))/P\n",
    "                        cons = ({'type': 'ineq', 'fun': lambda lmbd: lambda1-lmbd-c},\n",
    "                               {'type': 'ineq', 'fun': lambda lmbd: T-expd_tau([-lambda1,-lmbd],rho,sigma)}) # inequality means that it is to be non-negative\n",
    "                        lmbd0 = lambda1/2\n",
    "                        opt = scipy.optimize.minimize(obj,lmbd0,constraints=cons)\n",
    "                        lambda2b[i,j] = opt.x[0]\n",
    "                        V = -obj(opt.x[0])\n",
    "                        V_matrix[i,j] = V\n",
    "                        port1b[k+N,i] += -C_bar / P\n",
    "                        port1b[k+N,j] += C_bar / P * c_ij\n",
    "                        \n",
    "            #already open, tell if close            \n",
    "            elif ifopenb[i,j] == 1:\n",
    "                #tell if we should close\n",
    "                if iflongb[i,j] == 1:\n",
    "                    if AdjPrice[k+N,i]-c_matrixb[i,j]*AdjPrice[k+N,j]-mean_matrixb[i,j] >= lambda2b[i,j] or AdjPrice[k+N,i]-c_matrixb[i,j]*AdjPrice[k+N,j]-mean_matrixb[i,j] <= -lambda_bar*sigma_tilde_matrixb[i,j] or k + N - open_time_matrixb[i,j] > T_bar:\n",
    "                        ifopenb[i,j] = 0\n",
    "                        port1b[k+N,i] -= C_bar*V_matrix[i,j] / P_matrixb[i,j]\n",
    "                        port1b[k+N,j] -= C_bar*V_matrix[i,j] / P_matrixb[i,j] * (-c_matrixb[i,j])\n",
    "                        \n",
    "                elif iflongb[i,j] == 0:\n",
    "                    if AdjPrice[k+N,i]-c_matrixb[i,j]*AdjPrice[k+N,j]-mean_matrixb[i,j] <= lambda2b[i,j] or AdjPrice[k+N,i]-c_matrixb[i,j]*AdjPrice[k+N,j]-mean_matrixb[i,j] >= lambda_bar*sigma_tilde_matrixb[i,j] or k + N - open_time_matrixb[i,j] > T_bar:\n",
    "                        ifopenb[i,j] = 0\n",
    "                        port1b[k+N,i] -= -C_bar*V_matrix[i,j] / P_matrixb[i,j]\n",
    "                        port1b[k+N,j] -= C_bar*V_matrix[i,j] / P_matrixb[i,j] * c_matrixb[i,j]\n",
    "\n",
    "pbar.finish()"
   ]
  },
  {
   "cell_type": "code",
   "execution_count": 24,
   "metadata": {},
   "outputs": [
    {
     "name": "stdout",
     "output_type": "stream",
     "text": [
      "Sharpe Ratio for absolute PnL is: -0.018348849866976644\n",
      "Sharpe Ratio for relative PnL is: nan\n"
     ]
    }
   ],
   "source": [
    "#1(b) continue\n",
    "#compute total long and short\n",
    "Total_Amountb = np.multiply(port1b,AdjPrice[:,:d])\n",
    "L1b = np.sum((Total_Amountb>0)*Total_Amountb,axis=1)\n",
    "S1b = -np.sum((Total_Amountb<0)*Total_Amountb,axis=1)\n",
    "\n",
    "#compute absolute PnL process\n",
    "abs_PnL1b = []\n",
    "for i in range(d):\n",
    "    temp = []\n",
    "    for k in range(len(AdjPrice[:,0])-N):\n",
    "        if k == 0:\n",
    "            temp.append(AdjPrice[k+N-1,i])\n",
    "        else:\n",
    "            temp.append(temp[-1]+port1b[k+N-1,i]*(AdjPrice[k+N,i]-AdjPrice[k+N-1,i])-np.abs(port1b[k+N-1,i]-port1b[k+N-2,i])*AdjPrice[k+N-1,i]*T_lam)\n",
    "    \n",
    "    abs_PnL1b.append(temp)\n",
    "    \n",
    "abs_PnL1b = np.sum(abs_PnL1b, axis=0)\n",
    "abs_PnL1b =  np.array(abs_PnL1b)\n",
    "\n",
    "#compute relative PnL process\n",
    "rel_PnL1b = []\n",
    "for k in range(len(AdjPrice[:,0])-N):\n",
    "    if k == 0:\n",
    "        rel_PnL1b.append(1)\n",
    "    else:\n",
    "        rel_PnL1b.append(temp[-1]*(1+(abs_PnL1b[k]-abs_PnL1b[k-1])/(L1b[k+N-1]-S1b[k+N-1])))\n",
    "    \n",
    "rel_PnL1b = np.array(rel_PnL1b)\n",
    "\n",
    "#sharpe ratio for absolute PnL\n",
    "print(\"Sharpe Ratio for absolute PnL is:\", np.mean(np.diff(abs_PnL1b)) / np.sqrt(np.var(np.diff(abs_PnL1b))))\n",
    "\n",
    "#sharpe ratio for relative PnL\n",
    "print(\"Sharpe Ratio for relative PnL is:\", np.mean(np.diff(rel_PnL1b) / rel_PnL1b[:-1]) / np.sqrt(np.var(np.diff(abs_PnL1b) / rel_PnL1b[:-1])))"
   ]
  },
  {
   "cell_type": "code",
   "execution_count": 26,
   "metadata": {},
   "outputs": [
    {
     "data": {
      "image/png": "[encoded data removed]",
      "text/plain": [
       "<Figure size 432x288 with 1 Axes>"
      ]
     },
     "metadata": {
      "needs_background": "light"
     },
     "output_type": "display_data"
    }
   ],
   "source": [
    "np.savetxt(\"absolute_PnL1b.csv\",np.array(abs_PnL1b),fmt='%1s',delimiter=',')\n",
    "np.savetxt(\"relative_PnL1b.csv\",np.array(rel_PnL1b),fmt='%1s',delimiter=',')\n",
    "x_axis = [i for i in range(len(AdjPrice[:,0])-N)]\n",
    "plt.plot(x_axis,abs_PnL1b,label=\"absolute PnL\")\n",
    "plt.plot(x_axis,rel_PnL1b,label=\"relative PnL\")\n",
    "\n",
    "plt.legend(bbox_to_anchor=(1.0,1), loc=1, borderaxespad=0.)\n",
    "\n",
    "plt.show()"
   ]
  },
  {
   "cell_type": "code",
   "execution_count": 31,
   "metadata": {},
   "outputs": [],
   "source": [
    "#2 adding new settings\n",
    "C_hat = 50000000 #total size of investment on the long side of the pairs\n",
    "gamma = 1\n",
    "d = 5"
   ]
  },
  {
   "cell_type": "code",
   "execution_count": 32,
   "metadata": {},
   "outputs": [],
   "source": [
    "A = np.zeros((d,d))\n",
    "temp = 0\n",
    "for i in range(d):\n",
    "    for j in range(d):\n",
    "        if i < j:\n",
    "            A[i,j] = temp\n",
    "            temp += 1"
   ]
  },
  {
   "cell_type": "code",
   "execution_count": 33,
   "metadata": {},
   "outputs": [],
   "source": [
    "def return_pair(x):\n",
    "    return np.argwhere(A == x)"
   ]
  },
  {
   "cell_type": "code",
   "execution_count": 34,
   "metadata": {},
   "outputs": [
    {
     "name": "stderr",
     "output_type": "stream",
     "text": [
      "100% |########################################################################|\n"
     ]
    }
   ],
   "source": [
    "#2 continue\n",
    "log_price = np.log(AdjPrice)\n",
    "\n",
    "port2 = np.zeros((len(log_price[:,0]),d)) #num of shares with time and asset\n",
    "\n",
    "pbar = ProgressBar().start()\n",
    "for k in range(len(log_price[:,0])-N):\n",
    "    pbar.update(int((k/(len(AdjPrice[:,0])-N-1))*100))\n",
    "    time.sleep(0.01)\n",
    "#we are standing at day k+N actually\n",
    "    ifopen2 = np.zeros(int(d*(d-1)/2))\n",
    "    c_matrix2 = np.zeros(int(d*(d-1)/2))\n",
    "    res_matrix = np.zeros((N-1,int(d*(d-1)/2)))\n",
    "    mu_matrix = np.zeros(int(d*(d-1)/2))\n",
    "    for i in range(d):\n",
    "        for j in range(i+1,d):\n",
    "            \n",
    "            #don't care if already open, just check if cointegrated\n",
    "            Calibri_Pri_i = log_price[k:k+N,i]\n",
    "            Calibri_Pri_j = log_price[k:k+N,j]\n",
    "                \n",
    "            #regression\n",
    "            my_arima = arima_model.ARMA(Calibri_Pri_i,[1,0],Calibri_Pri_j)\n",
    "            arma_results = my_arima.fit()\n",
    "            c_ij = arma_results.params[1]\n",
    "            c_matrix2[int(A[i,j])] = c_ij\n",
    "                \n",
    "            #construct the pair\n",
    "            Z = np.array(Calibri_Pri_i)-np.array(Calibri_Pri_j)*c_ij\n",
    "            mean_Z = np.mean(Z)\n",
    "                \n",
    "            #run DF test\n",
    "            my_DF = stattools.adfuller(Z,1,'c',None)\n",
    "                \n",
    "            #if cointegrated, save pairs\n",
    "            if my_DF[1] <= p_star:\n",
    "                ifopen2[int(A[i,j])] = 1\n",
    "                phi, sigma = linear_model.yule_walker(Z, order=1)\n",
    "                rho = 1-phi[0]\n",
    "                \n",
    "                #compute mu and cov matrix\n",
    "                res = []\n",
    "                for t in range(len(Z)-1):\n",
    "                    res.append(Z[t+1]-Z[t]*phi[0])\n",
    "                res_matrix[:,int(A[i,j])] = res\n",
    "                mu_matrix[int(A[i,j])] = -rho*(Z[-1]-mean_Z)\n",
    "    \n",
    "    #now we have save all cointegrated pairs, compute strategy\n",
    "    trading_inx = []\n",
    "    for inx in range(int(d*(d-1)/2)):\n",
    "        if ifopen2[inx] == 1:\n",
    "            trading_inx.append(inx)\n",
    "#     print(trading_inx)\n",
    "    #getting cov matrix\n",
    "    cov_matrix = np.cov(res_matrix.T)\n",
    "    \n",
    "    if trading_inx:\n",
    "        def kappa(i,j,l):\n",
    "            if l==i:\n",
    "                return 1\n",
    "            elif l==j:\n",
    "                return -c_matrix2[int(A[i,j])]\n",
    "            else:\n",
    "                return 0\n",
    "            \n",
    "        def my_obj(x):\n",
    "            term1 = np.dot(x[trading_inx].T,mu_matrix[trading_inx])\n",
    "            \n",
    "            term2 = 0\n",
    "            for l in range(d):\n",
    "                temp = 0\n",
    "                for ij in trading_inx:\n",
    "                    temp += kappa(return_pair(ij)[0][0],return_pair(ij)[0][1],l) * x[ij]\n",
    "                temp -= port2[k+N-1,l]*AdjPrice[k+N,l]\n",
    "                temp = np.abs(temp)\n",
    "                term2 += temp\n",
    "            term2 *= T_lam\n",
    "#             print(term2)\n",
    "            \n",
    "            term3 = 0\n",
    "            for ij in trading_inx:\n",
    "                for ij_prime in trading_inx:\n",
    "                    term3 += cov_matrix[ij,ij_prime]*x[ij]*x[ij_prime]\n",
    "            term3 = np.sqrt(term3)*gamma\n",
    "#             print(term3)\n",
    "            \n",
    "            return term1 - term2 - term3\n",
    "        \n",
    "        def my_constr1(x):\n",
    "            return np.sum(np.abs(x[trading_inx])) - C_hat\n",
    "#         def my_constr2(x):\n",
    "#             for ij in trading_inx:\n",
    "#                 x[ij] -= x[ij]\n",
    "#             return np.sum(np.abs(x))\n",
    "        \n",
    "#         constr = ({'type': 'eq', 'fun': my_constr1},{'type': 'eq', 'fun': my_constr2})\n",
    "        constr = {'type': 'eq', 'fun': my_constr1}\n",
    "        \n",
    "        x0 = np.zeros(int(d*(d-1)/2)); x0[trading_inx][0] = C_hat\n",
    "        opt2 = scipy.optimize.minimize(my_obj, x0, constraints=constr, options={'maxiter':1e6})\n",
    "#         print(opt2.x)\n",
    "        \n",
    "        for ij in trading_inx:\n",
    "            port2[k+N,return_pair(ij)[0][0]] += opt2.x[ij]\n",
    "            port2[k+N,return_pair(ij)[0][1]] += opt2.x[ij]*(-c_matrix2[ij])\n",
    "pbar.finish()"
   ]
  },
  {
   "cell_type": "code",
   "execution_count": 35,
   "metadata": {},
   "outputs": [
    {
     "name": "stdout",
     "output_type": "stream",
     "text": [
      "Sharpe Ratio for absolute PnL is: 0.060693118141089165\n",
      "Sharpe Ratio for relative PnL is: nan\n"
     ]
    }
   ],
   "source": [
    "#2 continue\n",
    "#compute total long and short\n",
    "Total_Amount2 = np.multiply(port2,AdjPrice[:,:d])\n",
    "L2 = np.sum((Total_Amount2>0)*Total_Amount2,axis=1)\n",
    "S2 = -np.sum((Total_Amount2<0)*Total_Amount2,axis=1)\n",
    "\n",
    "#compute absolute PnL process\n",
    "abs_PnL2 = []\n",
    "for i in range(d):\n",
    "    temp = []\n",
    "    for k in range(len(log_price[:,0])-N):\n",
    "        if k == 0:\n",
    "            temp.append(AdjPrice[k+N-1,i])\n",
    "        else:\n",
    "            temp.append(temp[-1]+port2[k+N-1,i]*(AdjPrice[k+N,i]-AdjPrice[k+N-1,i])-np.abs(port2[k+N-1,i]-port2[k+N-2,i])*AdjPrice[k+N-1,i]*T_lam)\n",
    "    \n",
    "    abs_PnL2.append(temp)\n",
    "    \n",
    "abs_PnL2 = np.sum(abs_PnL2, axis=0)\n",
    "abs_PnL2 = np.array(abs_PnL2)\n",
    "\n",
    "#compute relative PnL process\n",
    "rel_PnL2 = []\n",
    "for k in range(len(log_price[:,0])-N):\n",
    "    if k == 0:\n",
    "        rel_PnL2.append(1)\n",
    "    else:\n",
    "        rel_PnL2.append(rel_PnL2[-1]*(1+(abs_PnL2[k]-abs_PnL2[k-1])/(L2[k+N-1]-S2[k+N-1])))\n",
    "    \n",
    "rel_PnL2 = np.array(rel_PnL2)\n",
    "\n",
    "\n",
    "#sharpe ratio for absolute PnL\n",
    "print(\"Sharpe Ratio for absolute PnL is:\", np.mean(np.diff(abs_PnL2)) / np.sqrt(np.var(np.diff(abs_PnL2))))\n",
    "\n",
    "#sharpe ratio for relative PnL\n",
    "print(\"Sharpe Ratio for relative PnL is:\", np.mean(np.diff(rel_PnL2) / rel_PnL2[:-1]) / np.sqrt(np.var(np.diff(abs_PnL2) / rel_PnL2[:-1])))"
   ]
  },
  {
   "cell_type": "code",
   "execution_count": 39,
   "metadata": {},
   "outputs": [
    {
     "data": {
      "image/png": "[encoded data removed]",
      "text/plain": [
       "<Figure size 432x288 with 1 Axes>"
      ]
     },
     "metadata": {
      "needs_background": "light"
     },
     "output_type": "display_data"
    }
   ],
   "source": [
    "np.savetxt(\"absolute_PnL2.csv\",np.array(abs_PnL2),fmt='%1s',delimiter=',')\n",
    "np.savetxt(\"relative_PnL2.csv\",np.array(rel_PnL2),fmt='%1s',delimiter=',')\n",
    "x_axis = [i for i in range(len(AdjPrice[:,0])-N)]\n",
    "plt.plot(x_axis,abs_PnL2,label=\"absolute PnL\")\n",
    "plt.plot(x_axis,rel_PnL2,label=\"relative PnL\")\n",
    "\n",
    "plt.legend(bbox_to_anchor=(1.0, 1), loc=1, borderaxespad=0.)\n",
    "\n",
    "plt.show()"
   ]
  },
  {
   "cell_type": "code",
   "execution_count": null,
   "metadata": {},
   "outputs": [],
   "source": []
  }
 ],
 "metadata": {
  "kernelspec": {
   "display_name": "Python 3",
   "language": "python",
   "name": "python3"
  },
  "language_info": {
   "codemirror_mode": {
    "name": "ipython",
    "version": 3
   },
   "file_extension": ".py",
   "mimetype": "text/x-python",
   "name": "python",
   "nbconvert_exporter": "python",
   "pygments_lexer": "ipython3",
   "version": "3.7.4"
  }
 },
 "nbformat": 4,
 "nbformat_minor": 2
}
