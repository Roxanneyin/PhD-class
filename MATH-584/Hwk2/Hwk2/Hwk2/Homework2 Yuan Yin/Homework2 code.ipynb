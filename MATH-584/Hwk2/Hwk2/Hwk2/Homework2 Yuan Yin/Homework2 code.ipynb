{
 "cells": [
  {
   "cell_type": "code",
   "execution_count": 12,
   "metadata": {},
   "outputs": [],
   "source": [
    "import pandas as pd\n",
    "import numpy as np \n",
    "import csv\n",
    "import matplotlib.pyplot as plt\n",
    "import math\n",
    "from pandas_datareader import data\n",
    "import scipy.optimize\n",
    "from scipy import stats\n",
    "from scipy.optimize import LinearConstraint\n",
    "from scipy.interpolate import InterpolatedUnivariateSpline\n",
    "from scipy.interpolate import griddata"
   ]
  },
  {
   "cell_type": "code",
   "execution_count": 14,
   "metadata": {},
   "outputs": [
    {
     "data": {
      "text/plain": [
       "<function TextIOWrapper.close()>"
      ]
     },
     "execution_count": 14,
     "metadata": {},
     "output_type": "execute_result"
    }
   ],
   "source": [
    "#read tickers from csv file\n",
    "tickers_file = 'TechTickers.csv'\n",
    "tickers = [];\n",
    "f = open(tickers_file, \"r\", encoding='utf-8-sig')\n",
    "for line in csv.reader(f):\n",
    "    tickers.append(str(line[0]))\n",
    "f.close\n",
    "#print(tickers)"
   ]
  },
  {
   "cell_type": "code",
   "execution_count": 15,
   "metadata": {},
   "outputs": [],
   "source": [
    "#download price data from Yahoo\n",
    "start_date = '2009-01-01'\n",
    "end_date = '2019-12-31'\n",
    "stock_data = data.get_data_yahoo(tickers, start_date, end_date)"
   ]
  },
  {
   "cell_type": "code",
   "execution_count": 17,
   "metadata": {},
   "outputs": [
    {
     "name": "stdout",
     "output_type": "stream",
     "text": [
      "64\n"
     ]
    }
   ],
   "source": [
    "#create a list of tickers whose adjusted closing prices in the first month of the first year\n",
    "#do not have any missing values\n",
    "stockArray = []\n",
    "for ticker in tickers:\n",
    "    stockArray.append(list(stock_data['Adj Close'][ticker]))\n",
    "stockArray=np.array(stockArray)\n",
    "tickers_liq = []\n",
    "for i in range(len(tickers)):\n",
    "    temp=0\n",
    "    for j in range(len(stockArray[i,:])):\n",
    "        if math.isnan(stockArray[i,j]):\n",
    "            temp=1\n",
    "    if (temp==0):\n",
    "        tickers_liq.append(tickers[i])\n",
    "#print(len(tickers_liq))"
   ]
  },
  {
   "cell_type": "code",
   "execution_count": 8,
   "metadata": {},
   "outputs": [],
   "source": [
    "#save the list of tickers without any initial missing values\n",
    "tickers = list(tickers_liq) #use \"list\" when assigning a list to a new list in case mistakes\n",
    "np.savetxt(\"TechTickers_liq.csv\",np.array(tickers),fmt='%1s',delimiter=',')"
   ]
  },
  {
   "cell_type": "code",
   "execution_count": 9,
   "metadata": {},
   "outputs": [],
   "source": [
    "#for the given range of years, download and save all adjusted closing prices for the tickers\n",
    "#from the list of those without missing initial values\n",
    "stockArray = []\n",
    "for ticker in tickers_liq:\n",
    "    stockArray.append(list(stock_data['Adj Close'][ticker]))\n",
    "stockArray=np.array(stockArray)\n",
    "np.savetxt(\"AdjustedClosingPrices_2009To2019.csv\",np.transpose(stockArray),delimiter=',')"
   ]
  },
  {
   "cell_type": "code",
   "execution_count": 18,
   "metadata": {},
   "outputs": [],
   "source": [
    "#some initialization\n",
    "\n",
    "AnnualizedDay = 250; d = np.shape(stockArray)[0]\n",
    "AdjPrice_file = \"AdjustedClosingPrices_2009To2019.csv\"\n",
    "f = open(AdjPrice_file,\"r\",encoding='utf-8-sig')\n",
    "AdjPrice = pd.read_csv('AdjustedClosingPrices_2009To2019.csv', header=None)\n",
    "AdjPrice = np.array(AdjPrice)\n",
    "\n",
    "#compute daily return\n",
    "Ret = AdjPrice[1:,:] / AdjPrice[:-1,:] - 1\n",
    "\n",
    "R0 = 0.01/AnnualizedDay #riskless asset daily return\n",
    "gamma = 1/2 #parameter in utility function\n",
    "\n",
    "#asset number\n",
    "num_asset = 0\n",
    "\n",
    "#trading settings\n",
    "N = 250 #window size\n",
    "T = 100 #trading time horizon"
   ]
  },
  {
   "cell_type": "code",
   "execution_count": 64,
   "metadata": {
    "scrolled": false
   },
   "outputs": [
    {
     "name": "stdout",
     "output_type": "stream",
     "text": [
      "Annualized mean and variance: \n",
      "1.740221402373899 0.06943642447261976\n",
      "\n",
      "\n",
      "Sharpe Ratio is: \n",
      "6.60405727172277\n"
     ]
    }
   ],
   "source": [
    "#(a) we construct a moving window and compute dynamic opt-strategy\n",
    "d = 2\n",
    "mod = (len(Ret[:,0]) - N) // 100\n",
    "PnL1 = []\n",
    "for i in range(mod+1):\n",
    "    \n",
    "    Calibri_Ret = Ret[i*T:i*T+N,num_asset]\n",
    "    \n",
    "    if i == mod:\n",
    "        Trading_Ret = Ret[i*T+N:,num_asset]\n",
    "    else:\n",
    "        Trading_Ret = Ret[i*T+N:(i+1)*T+N,num_asset]\n",
    "        \n",
    "    mu = np.mean(Calibri_Ret)\n",
    "    sigma = np.sqrt(np.var(Calibri_Ret))\n",
    "    \n",
    "    def my_obj1(x):\n",
    "        return -((1-x)*R0 + x*mu + ((gamma-1)/2)*(x**2)*(sigma**2))\n",
    "    \n",
    "    opt1 = scipy.optimize.minimize_scalar(my_obj1)\n",
    "    #opt_strategy1.append(opt1.x)\n",
    "    #print(opt1.x,i)\n",
    "    \n",
    "    if i == 0:\n",
    "        temp = 1\n",
    "    else:\n",
    "        temp = PnL1[-1]\n",
    "    for j in range(len(Trading_Ret)):\n",
    "        temp *= 1 + (1-opt1.x)*R0 + opt1.x*Trading_Ret[j]\n",
    "        \n",
    "    for j in range(len(Trading_Ret)):\n",
    "        PnL1.append(temp)\n",
    "    \n",
    "#print(np.shape(PnL1))\n",
    "#save data\n",
    "np.savetxt(\"PnL_in_a.csv\",PnL1,fmt='%1s',delimiter=',')\n",
    "\n",
    "#output\n",
    "print(\"Annualized mean and variance: \")\n",
    "print(np.mean(PnL1)*AnnualizedDay, np.var(PnL1)*AnnualizedDay)\n",
    "print('\\n')\n",
    "print(\"Sharpe Ratio is: \")\n",
    "print(np.mean(PnL1)*AnnualizedDay / np.sqrt(np.var(PnL1)*AnnualizedDay))"
   ]
  },
  {
   "cell_type": "code",
   "execution_count": 75,
   "metadata": {},
   "outputs": [],
   "source": [
    "#(b)adding predictive factors\n",
    "VolumeArray = []\n",
    "for ticker in tickers_liq:\n",
    "    VolumeArray.append(list(stock_data['Volume'][ticker]))\n",
    "VolumeArray=np.array(VolumeArray).T\n",
    "\n",
    "\n",
    "rho = 1\n",
    "Exp_WAve_Ret = []\n",
    "Exp_Coeff = np.array([np.exp(-rho*i) for i in range(len(Ret[:,0]))])\n",
    "for i in range(len(Ret[:,0])):\n",
    "    Ret_Reverse = Ret[:,num_asset][i::-1]\n",
    "    Vol_Reverse = VolumeArray[:,num_asset][i::-1]\n",
    "    Exp_WAve_Ret.append(np.dot(Exp_Coeff[:i+1].T, np.multiply(Vol_Reverse, Ret_Reverse)))\n",
    "\n",
    "slope, intercept, r_value, p_value, std_err = stats.linregress(Exp_WAve_Ret[:-1],Ret[1:,num_asset])\n",
    "\n",
    "c = slope; a = intercept"
   ]
  },
  {
   "cell_type": "code",
   "execution_count": 90,
   "metadata": {},
   "outputs": [
    {
     "name": "stdout",
     "output_type": "stream",
     "text": [
      "0\n",
      "1\n",
      "2\n",
      "3\n",
      "4\n",
      "5\n",
      "6\n",
      "7\n",
      "8\n",
      "9\n",
      "10\n",
      "11\n",
      "12\n",
      "13\n",
      "14\n",
      "15\n",
      "16\n",
      "17\n",
      "18\n",
      "19\n",
      "20\n",
      "21\n",
      "22\n",
      "23\n",
      "24\n",
      "25\n"
     ]
    }
   ],
   "source": [
    "#(b)\n",
    "PnL2 = []\n",
    "for i in range(mod+1):\n",
    "    \n",
    "    Calibri_Ret = Ret[i*T:i*T+N,num_asset]\n",
    "    Calibri_Fac = Exp_WAve_Ret[i*T:i*T+N]\n",
    "    Calibri_Vol = VolumeArray[i*T:i*T+N,num_asset]\n",
    "    \n",
    "    if i == mod:\n",
    "        Trading_Ret = Ret[i*T+N:,num_asset]\n",
    "        Trading_Fac = Exp_WAve_Ret[i*T+N:]\n",
    "        Trading_Vol = VolumeArray[i*T+N:,num_asset]\n",
    "    else:\n",
    "        Trading_Ret = Ret[i*T+N:(i+1)*T+N,num_asset]\n",
    "        Trading_Fac = Exp_WAve_Ret[i*T+N:(i+1)*T+N]\n",
    "        Trading_Vol = VolumeArray[i*T+N:(i+1)*T+N,num_asset]\n",
    "        \n",
    "    mu = np.mean(Calibri_Ret)\n",
    "    sigma = np.sqrt(np.var(Calibri_Ret))\n",
    "    mu_hat = np.mean(Calibri_Vol)\n",
    "    sigma_hat = np.sqrt(np.var(Calibri_Vol))\n",
    "    mu_tilda = np.mean(Calibri_Fac)\n",
    "    sigma_tilda = np.sqrt(np.var(Calibri_Fac))\n",
    "\n",
    "    \n",
    "    #the factor in the grid\n",
    "    grid_f = [mu_tilda-3*sigma_tilda+k*0.01*6*sigma_tilda for k in range(100)]\n",
    "    #grid_f = np.linspace(mu_tilda-3*sigma_tilda, mu_tilda+3*sigma_tilda,100)\n",
    "    \n",
    "    def value_v(x):\n",
    "        return 1/gamma\n",
    "    \n",
    "    my_opt_strategy2 = []\n",
    "    \n",
    "    for t in range(len(Trading_Ret)-1,-1,-1):\n",
    "        Interpol_Y = []; opt_stra_at_t = []\n",
    "        for f in grid_f:\n",
    "            def my_obj2(x):\n",
    "                return -((1 + x*(a+c*f+sigma) + (1-x)*R0)**gamma * value_v(np.exp(-rho)*f + (mu_hat+sigma_hat)*(a+c*f+sigma))\n",
    "                         + (1 + x*(a+c*f+sigma) + (1-x)*R0)**gamma * value_v(np.exp(-rho)*f + (mu_hat-sigma_hat)*(a+c*f+sigma))\n",
    "                         + (1 + x*(a+c*f-sigma) + (1-x)*R0)**gamma * value_v(np.exp(-rho)*f + (mu_hat+sigma_hat)*(a+c*f-sigma))\n",
    "                         + (1 + x*(a+c*f-sigma) + (1-x)*R0)**gamma * value_v(np.exp(-rho)*f + (mu_hat-sigma_hat)*(a+c*f-sigma))) / 4\n",
    "            \n",
    "            opt2 = scipy.optimize.minimize_scalar(my_obj2)\n",
    "            \n",
    "            Interpol_Y.append(((1 + opt2.x*(a+c*f+sigma) + (1-opt2.x)*R0)**gamma * value_v(np.exp(-rho)*f + (mu_hat+sigma_hat)*(a+c*f+sigma))\n",
    "            + (1 + opt2.x*(a+c*f+sigma) + (1-opt2.x)*R0)**gamma * value_v(np.exp(-rho)*f + (mu_hat-sigma_hat)*(a+c*f+sigma))\n",
    "            + (1 + opt2.x*(a+c*f-sigma) + (1-opt2.x)*R0)**gamma * value_v(np.exp(-rho)*f + (mu_hat+sigma_hat)*(a+c*f-sigma))\n",
    "            + (1 + opt2.x*(a+c*f-sigma) + (1-opt2.x)*R0)**gamma * value_v(np.exp(-rho)*f + (mu_hat-sigma_hat)*(a+c*f-sigma))) / 4)\n",
    "            \n",
    "            opt_stra_at_t.append(opt2.x)    \n",
    "        \n",
    "        value_v = InterpolatedUnivariateSpline(grid_f, Interpol_Y, None, [grid_f[0], grid_f[-1]], 1)\n",
    "        my_opt_strategy2.append(opt_stra_at_t)\n",
    "        \n",
    "    #print(my_opt_strategy2)\n",
    "    my_opt_strategy2 = np.array(my_opt_strategy2)\n",
    "    \n",
    "    #now computing the PnL forwardly\n",
    "    if i == 0:\n",
    "        temp = 1\n",
    "    else:\n",
    "        temp = PnL2[-1]\n",
    "    for j in range(len(Trading_Ret)):\n",
    "        alpha2 = InterpolatedUnivariateSpline(grid_f, my_opt_strategy2[len(Trading_Ret)-j-1,:], None, [grid_f[0], grid_f[-1]], 1)\n",
    "        opt_alpha2 = alpha2(Trading_Fac[j])\n",
    "        temp *= 1 + (1-opt_alpha2)*R0 + opt_alpha2*Trading_Ret[j]\n",
    "        \n",
    "    for j in range(len(Trading_Ret)):\n",
    "        PnL2.append(temp)\n",
    "        \n",
    "    print(i)"
   ]
  },
  {
   "cell_type": "code",
   "execution_count": 91,
   "metadata": {
    "scrolled": true
   },
   "outputs": [
    {
     "name": "stdout",
     "output_type": "stream",
     "text": [
      "Annualized mean and variance: \n",
      "39.051502045438575 34.885695320810775\n",
      "\n",
      "\n",
      "Sharpe Ratio is: \n",
      "6.611713876937684\n"
     ]
    }
   ],
   "source": [
    "#(b) continuing\n",
    "#save data\n",
    "np.savetxt(\"PnL_in_b.csv\",PnL2,fmt='%1s',delimiter=',')\n",
    "\n",
    "#output\n",
    "print(\"Annualized mean and variance: \")\n",
    "print(np.mean(PnL2)*AnnualizedDay, np.var(PnL2)*AnnualizedDay)\n",
    "print('\\n')\n",
    "print(\"Sharpe Ratio is: \")\n",
    "print(np.mean(PnL2)*AnnualizedDay / np.sqrt(np.var(PnL2)*AnnualizedDay))"
   ]
  },
  {
   "cell_type": "code",
   "execution_count": 111,
   "metadata": {
    "scrolled": true
   },
   "outputs": [
    {
     "name": "stdout",
     "output_type": "stream",
     "text": [
      "0\n"
     ]
    },
    {
     "name": "stderr",
     "output_type": "stream",
     "text": [
      "D:\\APPLICATIONS\\Anaconda\\lib\\site-packages\\ipykernel_launcher.py:30: RuntimeWarning: invalid value encountered in double_scalars\n"
     ]
    },
    {
     "name": "stdout",
     "output_type": "stream",
     "text": [
      "1\n",
      "2\n",
      "3\n",
      "4\n",
      "5\n",
      "6\n",
      "7\n"
     ]
    },
    {
     "name": "stderr",
     "output_type": "stream",
     "text": [
      "D:\\APPLICATIONS\\Anaconda\\lib\\site-packages\\ipykernel_launcher.py:35: RuntimeWarning: invalid value encountered in double_scalars\n"
     ]
    },
    {
     "name": "stdout",
     "output_type": "stream",
     "text": [
      "8\n",
      "9\n",
      "10\n",
      "11\n",
      "12\n",
      "13\n",
      "14\n",
      "15\n",
      "16\n",
      "17\n",
      "18\n",
      "19\n",
      "20\n",
      "21\n",
      "22\n",
      "23\n",
      "24\n",
      "25\n"
     ]
    }
   ],
   "source": [
    "#(c)\n",
    "lambda_ = 0.01\n",
    "PnL3 = []\n",
    "for i in range(mod+1):\n",
    "    \n",
    "    Calibri_Ret = Ret[i*T:i*T+N,num_asset]\n",
    "    \n",
    "    if i == mod:\n",
    "        Trading_Ret = Ret[i*T+N:,num_asset]\n",
    "    else:\n",
    "        Trading_Ret = Ret[i*T+N:(i+1)*T+N,num_asset]\n",
    "        \n",
    "    mu = np.mean(Calibri_Ret)\n",
    "    sigma = np.sqrt(np.var(Calibri_Ret))\n",
    "    \n",
    "    \n",
    "    #the factor in the grid\n",
    "    grid_A = [-2+k*0.04 for k in range(100)]\n",
    "    #grid_A = np.linspace(-2,2,100)\n",
    "    \n",
    "    def value_v2(x):\n",
    "        return 1/gamma\n",
    "    \n",
    "    my_opt_strategy3 = []\n",
    "    \n",
    "    for t in range(len(Trading_Ret)-1,-1,-1):\n",
    "        Interpol_Y2 = []; opt_stra_at_t2 = []\n",
    "        for A in grid_A:\n",
    "            def my_obj3(x):\n",
    "                return -((1 + x*(mu+sigma) + (1-x)*R0 - lambda_*np.abs(x-A))**gamma * value_v2(x*(1+mu+sigma) / (1+x*(mu+sigma)+(1-x)*R0))\n",
    "                         + (1 + x*(mu-sigma) + (1-x)*R0 - lambda_*np.abs(x-A))**gamma * value_v2(x*(1+mu-sigma) / (1+x*(mu-sigma)+(1-x)*R0))) / 2\n",
    "            \n",
    "            opt3 = scipy.optimize.minimize_scalar(my_obj3)\n",
    "            \n",
    "            Interpol_Y2.append(((1 + opt3.x*(mu+sigma) + (1-opt3.x)*R0 - lambda_*np.abs(opt3.x-A))**gamma * value_v2(opt3.x*(1+mu+sigma) / (1+opt3.x*(mu+sigma)+(1-opt3.x)*R0))\n",
    "                               + (1 + opt3.x*(mu-sigma) + (1-opt3.x)*R0 - lambda_*np.abs(opt3.x-A))**gamma * value_v2(opt3.x*(1+mu-sigma) / (1+opt3.x*(mu-sigma)+(1-opt3.x)*R0))) / 2)\n",
    "            \n",
    "            opt_stra_at_t2.append(opt3.x)    \n",
    "        \n",
    "        value_v2 = InterpolatedUnivariateSpline(grid_A, Interpol_Y2, None, [grid_A[0], grid_A[-1]], 1)\n",
    "        my_opt_strategy3.append(opt_stra_at_t2)\n",
    "    \n",
    "    #if i==0:\n",
    "        #print(my_opt_strategy3)\n",
    "    #print('\\n')\n",
    "    my_opt_strategy3 = np.array(my_opt_strategy3)\n",
    "    \n",
    "    #now computing the PnL forwardly\n",
    "    if i == 0:\n",
    "        temp = 1\n",
    "    else:\n",
    "        temp = PnL3[-1]\n",
    "    \n",
    "    opt_A = 0\n",
    "    for j in range(len(Trading_Ret)):\n",
    "        alpha3 = InterpolatedUnivariateSpline(grid_A, my_opt_strategy3[len(Trading_Ret)-j-1,:], None, [grid_A[0], grid_A[-1]], 1)\n",
    "        opt_alpha3 = alpha3(opt_A)\n",
    "        #print(opt_alpha3)\n",
    "        temp *= 1 + (1-opt_alpha3)*R0 + opt_alpha3*Trading_Ret[j] - lambda_*np.abs(opt_alpha3 - opt_A)\n",
    "        if j < len(Trading_Ret)-1:\n",
    "            opt_A = opt_alpha3*(1+Trading_Ret[j+1]) / (1+opt_alpha3*Trading_Ret[j+1]+(1-opt_alpha3)*R0)\n",
    "        \n",
    "    for j in range(len(Trading_Ret)):\n",
    "        PnL3.append(temp)\n",
    "        \n",
    "    print(i)"
   ]
  },
  {
   "cell_type": "code",
   "execution_count": 112,
   "metadata": {},
   "outputs": [
    {
     "name": "stdout",
     "output_type": "stream",
     "text": [
      "Annualized mean and variance: \n",
      "0.28153354173492134 0.006363812582328052\n",
      "\n",
      "\n",
      "Sharpe Ratio is: \n",
      "3.5291608544159025\n"
     ]
    }
   ],
   "source": [
    "#(c) continuing\n",
    "#save data\n",
    "np.savetxt(\"PnL_in_c.csv\",PnL3,fmt='%1s',delimiter=',')\n",
    "\n",
    "#output\n",
    "print(\"Annualized mean and variance: \")\n",
    "print(np.mean(PnL3)*AnnualizedDay, np.var(PnL3)*AnnualizedDay)\n",
    "print('\\n')\n",
    "print(\"Sharpe Ratio is: \")\n",
    "print(np.mean(PnL3)*AnnualizedDay / np.sqrt(np.var(PnL3)*AnnualizedDay))"
   ]
  },
  {
   "cell_type": "code",
   "execution_count": null,
   "metadata": {},
   "outputs": [],
   "source": []
  }
 ],
 "metadata": {
  "kernelspec": {
   "display_name": "Python 3",
   "language": "python",
   "name": "python3"
  },
  "language_info": {
   "codemirror_mode": {
    "name": "ipython",
    "version": 3
   },
   "file_extension": ".py",
   "mimetype": "text/x-python",
   "name": "python",
   "nbconvert_exporter": "python",
   "pygments_lexer": "ipython3",
   "version": "3.7.4"
  }
 },
 "nbformat": 4,
 "nbformat_minor": 2
}
