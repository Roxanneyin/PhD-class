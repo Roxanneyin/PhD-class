{
 "cells": [
  {
   "cell_type": "code",
   "execution_count": 19,
   "metadata": {},
   "outputs": [],
   "source": [
    "# import packages\n",
    "\n",
    "import scipy.io as sio  # for loading matlab data\n",
    "\n",
    "import numpy as np      # for numerical libs\n",
    "\n",
    "from matplotlib.ticker import FuncFormatter # for custom bar plot labels\n",
    "\n",
    "import matplotlib.pyplot as plt  # for plotting\n",
    "\n",
    "import matplotlib.pylab as pylab\n",
    "params = {'legend.fontsize': 'x-large',\n",
    "          'figure.figsize': (15, 5),\n",
    "         'axes.labelsize': 'x-large',\n",
    "         'axes.titlesize':'x-large',\n",
    "         'xtick.labelsize':'x-large',\n",
    "         'ytick.labelsize':'x-large'}\n",
    "pylab.rcParams.update(params)\n",
    "from statsmodels.tsa import stattools"
   ]
  },
  {
   "cell_type": "markdown",
   "metadata": {},
   "source": [
    "# load data"
   ]
  },
  {
   "cell_type": "code",
   "execution_count": 20,
   "metadata": {
    "scrolled": true
   },
   "outputs": [],
   "source": [
    "data = sio.loadmat('MSFT_20141103.mat')"
   ]
  },
  {
   "cell_type": "code",
   "execution_count": 32,
   "metadata": {},
   "outputs": [
    {
     "name": "stdout",
     "output_type": "stream",
     "text": [
      "0.1\n",
      "[0.1 0.2 0.3 0.4 0.5 0.6 0.7 0.8 0.9 1. ]\n",
      "234000\n",
      "234000\n",
      "23400.0\n",
      "[[4242. 1201.]\n",
      " [2726.  400.]\n",
      " [ 748.    0.]\n",
      " ...\n",
      " [   0.    0.]\n",
      " [   0.    0.]\n",
      " [   0.  107.]]\n"
     ]
    }
   ],
   "source": [
    "LOB=data['LOB']\n",
    "\n",
    "t = (np.array((LOB['EventTime'][0][0][:,0]))-3600000*9.5)*1e-3#time in seconds, measured from NASDAQ opening at 9:30am\n",
    "bid = np.array(LOB['BuyPrice'][0][0]*1e-4)\n",
    "bidvol = np.array(LOB['BuyVolume'][0][0]*1.0)\n",
    "ask = np.array(LOB['SellPrice'][0][0]*1e-4)\n",
    "askvol = np.array(LOB['SellVolume'][0][0]*1.0)\n",
    "nMO = np.array(LOB['NumberMO'][0][0]*1.0)#total number of MOs submitted in the given 0.1 second interval\n",
    "vMO = np.array(LOB['VolumeMO'][0][0]*1.0)#total volume of MOs submitted in the given 0.1 second interval\n",
    "MO=np.array(LOB['MO'][0][0]*1.0)#information about market orders\n",
    "dt = t[1]-t[0]\n",
    "print(dt)\n",
    "print(t[0:10])\n",
    "print(len(t))\n",
    "print(len(bid[:,0]))\n",
    "print(t[-1])\n",
    "\n",
    "# print(bid[:,0])\n",
    "# print(ask)\n",
    "print(vMO)"
   ]
  },
  {
   "cell_type": "code",
   "execution_count": 18,
   "metadata": {},
   "outputs": [
    {
     "name": "stdout",
     "output_type": "stream",
     "text": [
      "234000\n",
      "(7981, 50)\n"
     ]
    }
   ],
   "source": [
    "print(len(t))\n",
    "print(np.shape(MO))"
   ]
  },
  {
   "cell_type": "markdown",
   "metadata": {},
   "source": [
    "# LOB"
   ]
  },
  {
   "cell_type": "code",
   "execution_count": 4,
   "metadata": {},
   "outputs": [
    {
     "name": "stdout",
     "output_type": "stream",
     "text": [
      "23400\n",
      "[1300. 2947. 2661. 4297. 3403. 4129. 2971. 2506. 1206. 2500.  100. 1200.\n",
      "   50.  800.  253.  100. 2550. 4833. 1800.  150.]\n",
      "[1600. 5571. 2398. 2770. 2606. 2200. 1600. 6800.  400. 1000.  330. 6607.\n",
      "  800. 1100.  920. 2164.  200. 1880.  260. 2785.]\n"
     ]
    },
    {
     "data": {
      "text/plain": [
       "<function matplotlib.pyplot.show>"
      ]
     },
     "execution_count": 4,
     "metadata": {},
     "output_type": "execute_result"
    },
    {
     "data": {
      "image/png": "[encoded data removed]",
      "text/plain": [
       "<matplotlib.figure.Figure at 0x114378080>"
      ]
     },
     "metadata": {},
     "output_type": "display_data"
    }
   ],
   "source": [
    "tcur = 10*60*39\n",
    "print(tcur)\n",
    "print(bidvol[tcur,:])\n",
    "print(askvol[tcur,:])\n",
    "plt.bar(bid[tcur,:],bidvol[tcur,:],width=0.005)\n",
    "plt.bar(ask[tcur,:],askvol[tcur,:],width=0.005)\n",
    "plt.show"
   ]
  },
  {
   "cell_type": "code",
   "execution_count": 5,
   "metadata": {},
   "outputs": [
    {
     "name": "stdout",
     "output_type": "stream",
     "text": [
      "[1. 0.]\n",
      "[300.   0.]\n"
     ]
    },
    {
     "data": {
      "text/plain": [
       "<function matplotlib.pyplot.show>"
      ]
     },
     "execution_count": 5,
     "metadata": {},
     "output_type": "execute_result"
    },
    {
     "data": {
      "image/png": "[encoded data removed]",
      "text/plain": [
       "<matplotlib.figure.Figure at 0x10dbb1e10>"
      ]
     },
     "metadata": {},
     "output_type": "display_data"
    }
   ],
   "source": [
    "print(nMO[tcur])\n",
    "print(vMO[tcur])\n",
    "#print(nMO[tcur+1])\n",
    "#print(vMO[tcur+1])\n",
    "plt.bar(bid[tcur+1,:],bidvol[tcur+1,:],width=0.005)\n",
    "plt.bar(ask[tcur+1,:],askvol[tcur+1,:],width=0.005)\n",
    "plt.show"
   ]
  },
  {
   "cell_type": "code",
   "execution_count": 6,
   "metadata": {},
   "outputs": [
    {
     "data": {
      "image/png": "[encoded data removed]",
      "text/plain": [
       "<matplotlib.figure.Figure at 0x114358518>"
      ]
     },
     "metadata": {},
     "output_type": "display_data"
    }
   ],
   "source": [
    "midprice = 0.5*(bid[:,0]+ask[:,0])\n",
    "spread = ask[:,0]-bid[:,0]\n",
    "plt.plot(t[tcur:(tcur+100)],midprice[tcur:(tcur+100)])\n",
    "plt.plot(t[tcur:(tcur+100)],bid[tcur:(tcur+100),0])\n",
    "plt.plot(t[tcur:(tcur+100)],ask[tcur:(tcur+100),0])\n",
    "plt.title('Midprice, best ask, and best bid')\n",
    "plt.ylabel('price')\n",
    "plt.xlabel('time (seconds from trading start)')\n",
    "plt.show()"
   ]
  },
  {
   "cell_type": "code",
   "execution_count": 7,
   "metadata": {},
   "outputs": [
    {
     "data": {
      "text/plain": [
       "[<matplotlib.lines.Line2D at 0x1c19f05ef0>]"
      ]
     },
     "execution_count": 7,
     "metadata": {},
     "output_type": "execute_result"
    },
    {
     "data": {
      "image/png": "[encoded data removed]",
      "text/plain": [
       "<matplotlib.figure.Figure at 0x114358d30>"
      ]
     },
     "metadata": {},
     "output_type": "display_data"
    }
   ],
   "source": [
    "plt.plot(spread[tcur:(tcur+5000)])"
   ]
  },
  {
   "cell_type": "code",
   "execution_count": 8,
   "metadata": {},
   "outputs": [
    {
     "name": "stdout",
     "output_type": "stream",
     "text": [
      "[[300.   0.]\n",
      " [  0.   0.]\n",
      " [  0.   0.]\n",
      " [  0.   0.]\n",
      " [  0.   0.]\n",
      " [  0.   0.]\n",
      " [  0.   0.]\n",
      " [  0.   0.]\n",
      " [  0.   0.]\n",
      " [  0.   0.]\n",
      " [  0.   0.]\n",
      " [  0.   0.]\n",
      " [  0.   0.]\n",
      " [  0.   0.]\n",
      " [  0.   0.]\n",
      " [  0.   0.]\n",
      " [  0.   0.]\n",
      " [  0.   0.]\n",
      " [  0.   0.]\n",
      " [  0.   0.]\n",
      " [  0. 206.]\n",
      " [  0.   0.]\n",
      " [  0.   0.]\n",
      " [  0.   0.]\n",
      " [  0.   0.]]\n",
      "[39756.0, 39856.0, 39856.0, 39556.0, 39026.0, 39026.0, 38926.0, 38926.0, 38926.0, 38926.0, 38926.0, 38926.0, 38926.0, 38926.0, 38926.0, 38926.0, 38926.0, 38926.0, 38926.0, 38926.0, 38926.0, 38226.0, 38026.0, 38026.0, 38426.0]\n",
      "[43991.0, 44891.0, 44691.0, 44591.0, 44379.0, 44379.0, 44379.0, 44179.0, 44179.0, 43979.0, 44079.0, 44079.0, 44079.0, 44079.0, 44079.0, 44079.0, 44079.0, 44079.0, 44079.0, 44079.0, 43979.0, 43095.0, 43095.0, 42795.0, 42695.0]\n"
     ]
    }
   ],
   "source": [
    "print(vMO[tcur:(tcur+25)])\n",
    "print([np.sum(bidvol[i,:]) for i in range(tcur,tcur+25)])\n",
    "#print(askvol[tcur+1,:]-askvol[tcur,:])\n",
    "print([np.sum(askvol[i,:]) for i in range(tcur,tcur+25)])"
   ]
  },
  {
   "cell_type": "code",
   "execution_count": 11,
   "metadata": {},
   "outputs": [
    {
     "name": "stdout",
     "output_type": "stream",
     "text": [
      "4782.0\n"
     ]
    },
    {
     "data": {
      "image/png": "[encoded data removed]",
      "text/plain": [
       "<matplotlib.figure.Figure at 0x1c1367ffd0>"
      ]
     },
     "metadata": {},
     "output_type": "display_data"
    }
   ],
   "source": [
    "plt.hist(nMO[:,0]+nMO[:,1],20,(-0.1,5))\n",
    "print(np.sum(nMO[:,0]))"
   ]
  },
  {
   "cell_type": "code",
   "execution_count": 12,
   "metadata": {},
   "outputs": [
    {
     "name": "stdout",
     "output_type": "stream",
     "text": [
      "4782.0\n"
     ]
    },
    {
     "data": {
      "image/png": "[encoded data removed]",
      "text/plain": [
       "<matplotlib.figure.Figure at 0x1a10943128>"
      ]
     },
     "metadata": {},
     "output_type": "display_data"
    }
   ],
   "source": [
    "plt.hist(nMO[:,0]+nMO[:,1],20,(0.1,5))\n",
    "print(np.sum(nMO[:,0]))"
   ]
  },
  {
   "cell_type": "markdown",
   "metadata": {},
   "source": [
    "# Market Orders"
   ]
  },
  {
   "cell_type": "code",
   "execution_count": 13,
   "metadata": {},
   "outputs": [
    {
     "name": "stdout",
     "output_type": "stream",
     "text": [
      "7981\n",
      "-4422.693\n",
      "[2.926 3.883 3.933 4.096 4.204 4.601 4.702 4.704 4.904 5.078]\n",
      "[46.76 46.76 46.76 46.76 46.76 46.76 46.76 46.76 46.76 46.76]\n",
      "[46.79 46.78 46.78 46.78 46.79 46.79 46.79 46.79 46.78 46.78]\n",
      "[ 475. 1100. 2000.  300.  100.  300.  600.  400.  200.  200.]\n",
      "[-1. -1.  1. -1.  1.  1.  1.  1.  1. -1.]\n",
      "[10400. 10000. 10200.  8200.  8400.  7900.  7600.  7000.  6600.  6400.]\n",
      "[ 949. 1100.  300.  300.  100. 1500. 1500. 1500.  200.  200.]\n"
     ]
    }
   ],
   "source": [
    "print(len(MO))\n",
    "print((MO[0,0]-3600000*9.5)*1e-3)#time from exchange opening, in seconds\n",
    "print((MO[100:110,0]-3600000*9.5)*1e-3)#time from exchange opening, in seconds\n",
    "print(MO[100:110,1]*1e-4)#best bid price\n",
    "print(MO[100:110,2]*1e-4)#best ask price\n",
    "print(MO[100:110,6])#volume of MO\n",
    "print(MO[100:110,7])#type of MO (-1=buy +1=sell)\n",
    "print(MO[100:110,3])#volume at best bid price\n",
    "print(MO[100:110,4])#volume at best ask price"
   ]
  },
  {
   "cell_type": "code",
   "execution_count": 16,
   "metadata": {},
   "outputs": [
    {
     "data": {
      "text/plain": [
       "(array([5., 8., 2., 8., 3., 3., 2., 4., 4., 0., 3., 4., 2., 1., 2., 3., 5.,\n",
       "        4., 6., 0., 0., 4., 5., 5., 4., 5., 5., 3., 5., 0., 1., 3., 2., 2.,\n",
       "        3., 1., 4., 6., 4., 0., 1., 6., 3., 3., 0., 2., 4., 2., 0., 0., 7.,\n",
       "        2., 3., 5., 4., 4., 1., 3., 5., 0., 2., 2., 1., 1., 3., 3., 2., 1.,\n",
       "        5., 0., 3., 0., 3., 2., 1., 2., 1., 1., 4., 0., 0., 3., 5., 5., 1.,\n",
       "        3., 1., 1., 3., 0., 2., 4., 1., 2., 1., 1., 0., 1., 4., 0., 4., 5.,\n",
       "        4., 4., 4., 1., 2., 1., 0., 0., 6., 2., 2., 0., 1., 2., 2., 0., 1.,\n",
       "        0., 1., 2., 3., 3., 4., 2., 0., 2., 5., 0., 0., 2., 3., 1., 2., 2.,\n",
       "        2., 1., 0., 0., 4., 1., 2., 3., 0., 2., 2., 3., 1., 0., 1., 2., 0.,\n",
       "        1., 3., 2., 1., 0., 0., 0., 1., 0., 2., 1., 0., 1., 0., 1., 0., 0.,\n",
       "        2., 3., 3., 0., 5., 2., 2., 0., 1., 0., 0., 0., 1., 4., 3., 1., 3.,\n",
       "        2., 0., 0., 0., 6., 1., 4., 2., 2., 3., 1., 5., 0., 1., 1., 2., 4.,\n",
       "        0., 0., 3., 1., 4., 0., 2., 1., 1., 3., 3., 4., 1., 1., 1., 0., 2.,\n",
       "        1., 3., 1., 2., 2., 2., 2., 2., 0., 0., 3., 0., 1., 1., 1., 4., 3.,\n",
       "        4., 0., 1., 0., 4., 2., 0., 2., 2., 0., 0., 0., 2., 1., 2., 0., 2.,\n",
       "        2., 2., 0., 2., 0., 3., 2., 1., 3., 2., 1., 0., 1., 1., 0., 2., 4.,\n",
       "        4., 0., 0., 1., 0., 0., 2., 0., 1., 1., 1., 0., 4., 0., 1., 2., 2.,\n",
       "        0., 2., 1., 0., 1., 3., 0., 3., 1., 0., 0., 2., 0., 1., 2., 2., 2.,\n",
       "        1., 0., 0., 0., 1., 2., 4., 3., 1., 0., 2., 0., 3., 0., 1., 0., 1.,\n",
       "        0., 1., 0., 2., 1., 2., 0., 3., 1., 0., 0., 2., 1., 0., 2., 0., 0.,\n",
       "        0., 3., 3., 0., 2., 0., 1., 2., 1., 0., 2., 0., 1., 0., 1., 2., 3.,\n",
       "        1., 1., 0., 0., 1., 1., 1., 1., 1., 1., 0., 1., 0., 0., 0., 0., 0.,\n",
       "        1., 1., 2., 4., 3., 0., 0., 0., 3., 0., 1., 0., 1., 2., 1., 0., 1.,\n",
       "        0., 1., 1., 2., 2., 0., 1., 1., 0., 1., 0., 1., 0., 1., 2., 2., 1.,\n",
       "        1., 0., 2., 4., 1., 0., 0., 1., 2., 1., 2., 0., 1., 1., 1., 2., 0.,\n",
       "        3., 1., 1., 0., 0., 2., 2., 3., 1., 2., 1., 1., 0., 1., 0., 1., 1.,\n",
       "        3., 2., 3., 0., 1., 1., 1., 0., 0., 1., 0., 1., 2., 1., 2., 1., 0.,\n",
       "        0., 1., 1., 1., 0., 0., 3., 1., 2., 1., 0., 1., 0., 1., 0., 1., 0.,\n",
       "        0., 2., 0., 0., 4., 1., 1., 2., 4., 5., 1., 1., 2., 0., 1., 1., 0.,\n",
       "        0., 2., 2., 4., 1., 1., 0., 1., 0., 1., 1., 0., 1., 0., 1., 1., 0.,\n",
       "        0., 0., 0., 0., 1., 3., 0., 1., 0., 0., 0., 2., 2., 0., 0., 3., 3.,\n",
       "        1., 2., 0., 2., 1., 0., 3., 0., 1., 0., 0., 0., 0., 2., 5., 1., 1.,\n",
       "        2., 1., 1., 0., 1., 0., 0., 0., 1., 1., 4., 1., 1., 1., 0., 0., 2.,\n",
       "        2., 2., 2., 0., 1., 0., 0., 0., 0., 1., 1., 0., 0., 3., 2., 2., 0.,\n",
       "        0., 0., 2., 1., 2., 2., 1., 1., 1., 0., 1., 0., 3., 1., 0., 1., 0.,\n",
       "        1., 0., 0., 0., 0., 3., 2., 0., 3., 0., 1., 1., 2., 0., 0., 1., 1.,\n",
       "        1., 0., 0., 2., 0., 1., 2., 0., 0., 1., 0., 0., 1., 2., 0., 0., 1.,\n",
       "        0., 1., 0., 4., 1., 0., 2., 0., 1., 1., 0., 2., 1., 0., 0., 0., 2.,\n",
       "        2., 0., 0., 0., 3., 3., 1., 2., 0., 1., 0., 0., 0., 0., 1., 2., 2.,\n",
       "        1., 1., 2., 0., 1., 4., 0., 3., 0., 2., 1., 1., 1., 0., 1., 0., 0.,\n",
       "        1., 3., 3., 0., 2., 0., 1., 0., 2., 0., 2., 1., 0., 4., 0., 1., 0.,\n",
       "        1., 3., 0., 1., 0., 1., 1., 2., 0., 1., 1., 2., 0., 0., 0., 0., 1.,\n",
       "        1., 0., 0., 1., 1., 0., 1., 1., 1., 0., 3., 0., 0., 1., 1., 0., 1.,\n",
       "        0., 2., 2., 0., 1., 3., 1., 3., 0., 1., 1., 1., 3., 1., 2., 0., 0.,\n",
       "        1., 0., 1., 0., 0., 1., 1., 1., 0., 0., 0., 0., 1., 1., 0., 2., 1.,\n",
       "        0., 2., 2., 1., 0., 0., 0., 1., 2., 0., 2., 0., 0., 0., 0., 0., 1.,\n",
       "        0., 1., 2., 0., 1., 0., 2., 0., 0., 1., 1., 0., 0., 0., 0., 0., 1.,\n",
       "        0., 0., 3., 1., 0., 2., 0., 1., 0., 0., 0., 1., 0., 2., 1., 1., 0.,\n",
       "        1., 2., 0., 0., 1., 2., 0., 1., 0., 0., 1., 1., 2., 0., 1., 0., 0.,\n",
       "        1., 0., 0., 0., 1., 0., 0., 3., 1., 1., 1., 0., 0., 0., 0., 0., 0.,\n",
       "        2., 2., 1., 0., 0., 3., 1., 0., 2., 0., 2., 2., 0., 0., 0., 1., 1.,\n",
       "        4., 0., 0., 2., 0., 0., 2., 1., 1., 1., 1., 0., 0., 0., 2., 3., 0.,\n",
       "        0., 0., 0., 1., 0., 0., 0., 0., 1., 0., 2., 3., 4., 0., 0., 0., 1.,\n",
       "        1., 1., 1., 2., 1., 0., 0., 1., 0., 0., 0., 0., 0., 0., 2., 1., 0.,\n",
       "        0., 0., 1., 2., 0., 0., 0., 0., 2., 0., 1., 0., 3., 1., 0., 2., 0.,\n",
       "        2., 2., 0., 1., 0., 2., 1., 0., 1., 0., 0., 0., 0., 0., 0., 0., 2.,\n",
       "        1., 0., 0., 0., 0., 0., 0., 0., 1., 2., 0., 0., 1., 2., 0., 1., 1.,\n",
       "        0., 1., 0., 0., 0., 0., 1., 0., 0., 1., 0., 2., 1., 0., 3., 1., 1.,\n",
       "        1., 0., 1., 0., 0., 2., 2., 0., 1., 6., 3., 2., 7., 7.]),\n",
       " array([ 100. ,  100.9,  101.8, ...,  998.2,  999.1, 1000. ]),\n",
       " <a list of 1000 Patch objects>)"
      ]
     },
     "execution_count": 16,
     "metadata": {},
     "output_type": "execute_result"
    },
    {
     "data": {
      "image/png": "[encoded data removed]",
      "text/plain": [
       "<matplotlib.figure.Figure at 0x1c1a261400>"
      ]
     },
     "metadata": {},
     "output_type": "display_data"
    }
   ],
   "source": [
    "plt.hist(np.diff(MO[:,0]),1000,(100,1000))"
   ]
  }
 ],
 "metadata": {
  "kernelspec": {
   "display_name": "Python 3",
   "language": "python",
   "name": "python3"
  },
  "language_info": {
   "codemirror_mode": {
    "name": "ipython",
    "version": 3
   },
   "file_extension": ".py",
   "mimetype": "text/x-python",
   "name": "python",
   "nbconvert_exporter": "python",
   "pygments_lexer": "ipython3",
   "version": "3.7.4"
  }
 },
 "nbformat": 4,
 "nbformat_minor": 2
}
