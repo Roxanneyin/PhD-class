{
 "cells": [
  {
   "cell_type": "code",
   "execution_count": 165,
   "metadata": {
    "collapsed": true
   },
   "outputs": [],
   "source": [
    "import pandas as pd\n",
    "import numpy as np \n",
    "import csv\n",
    "import matplotlib.pyplot as plt\n",
    "import math\n",
    "from pandas_datareader import data\n",
    "import scipy.optimize\n",
    "from scipy import stats"
   ]
  },
  {
   "cell_type": "code",
   "execution_count": 166,
   "metadata": {},
   "outputs": [
    {
     "data": {
      "text/plain": [
       "<function TextIOWrapper.close>"
      ]
     },
     "execution_count": 166,
     "metadata": {},
     "output_type": "execute_result"
    }
   ],
   "source": [
    "#read tickers from csv file\n",
    "tickers_file = 'TechTickers.csv'\n",
    "tickers = [];\n",
    "f = open(tickers_file, \"r\", encoding='utf-8-sig')\n",
    "for line in csv.reader(f):\n",
    "    tickers.append(str(line[0]))\n",
    "f.close\n",
    "#print(tickers)"
   ]
  },
  {
   "cell_type": "code",
   "execution_count": 167,
   "metadata": {
    "collapsed": true
   },
   "outputs": [],
   "source": [
    "#download price data from Yahoo\n",
    "start_date = '2009-01-01'\n",
    "end_date = '2019-12-31'\n",
    "stock_data = data.get_data_yahoo(tickers, start_date, end_date)"
   ]
  },
  {
   "cell_type": "code",
   "execution_count": 168,
   "metadata": {
    "scrolled": true
   },
   "outputs": [
    {
     "name": "stdout",
     "output_type": "stream",
     "text": [
      "64\n",
      "['AAPL', 'MSFT', 'TSM', 'INTC', 'CSCO', 'ORCL', 'SAP', 'ADBE', 'CRM', 'NVDA', 'ACN', 'ASML', 'TXN', 'IBM', 'QCOM', 'FIS', 'SNE', 'INTU', 'MU', 'VMW', 'AMAT', 'AMD', 'ADI', 'LRCX', 'INFY', 'ADSK', 'CTSH', 'TEL', 'APH', 'HPQ', 'CAJ', 'ERIC', 'MSI', 'KLAC', 'MCHP', 'XLNX', 'STM', 'VRSN', 'GLW', 'GIB', 'ANSS', 'SNPS', 'WDC', 'SWKS', 'CDNS', 'GRMN', 'MRVL', 'CHKP', 'MXIM', 'STX', 'CTXS', 'AKAM', 'NTAP', 'BR', 'IT', 'LDOS', 'ZBRA', 'TDY', 'OTEX', 'TYL', 'TER', 'FICO', 'JKHY', 'ASX']\n"
     ]
    }
   ],
   "source": [
    "#create a list of tickers whose adjusted closing prices in the first month of the first year\n",
    "#do not have any missing values\n",
    "stockArray = []\n",
    "for ticker in tickers:\n",
    "    stockArray.append(list(stock_data['Adj Close'][ticker]))\n",
    "stockArray=np.array(stockArray)\n",
    "tickers_liq = []\n",
    "for i in range(len(tickers)):\n",
    "    temp=0\n",
    "    for j in range(len(stockArray[i,:])):\n",
    "        if math.isnan(stockArray[i,j]):\n",
    "            temp=1\n",
    "    if (temp==0):\n",
    "        tickers_liq.append(tickers[i])\n",
    "#print(len(tickers_liq))"
   ]
  },
  {
   "cell_type": "code",
   "execution_count": 170,
   "metadata": {
    "collapsed": true
   },
   "outputs": [],
   "source": [
    "#save the list of tickers without any initial missing values\n",
    "tickers = list(tickers_liq) #use \"list\" when assigning a list to a new list in case mistakes\n",
    "np.savetxt(\"TechTickers_liq.csv\",np.array(tickers),fmt='%1s',delimiter=',')"
   ]
  },
  {
   "cell_type": "code",
   "execution_count": 171,
   "metadata": {},
   "outputs": [],
   "source": [
    "#for the given range of years, download and save all adjusted closing prices for the tickers\n",
    "#from the list of those without missing initial values\n",
    "stockArray = []\n",
    "for ticker in tickers_liq:\n",
    "    stockArray.append(list(stock_data['Adj Close'][ticker]))\n",
    "stockArray=np.array(stockArray)\n",
    "np.savetxt(\"AdjustedClosingPrices_2009To2019.csv\",np.transpose(stockArray),delimiter=',')"
   ]
  },
  {
   "cell_type": "code",
   "execution_count": 172,
   "metadata": {},
   "outputs": [],
   "source": [
    "#(a) mean return and variance\n",
    "AnnualizedDay = 250; d = np.shape(stockArray)[0]\n",
    "AdjPrice_file = \"AdjustedClosingPrices_2009To2019.csv\"\n",
    "f = open(AdjPrice_file,\"r\",encoding='utf-8-sig')\n",
    "AdjPrice = pd.read_csv('AdjustedClosingPrices_2009To2019.csv', header=None)\n",
    "AdjPrice = np.array(AdjPrice)\n",
    "\n",
    "#compute daily return\n",
    "Ret = AdjPrice[1:,:] / AdjPrice[:-1,:] - 1\n",
    "\n",
    "RetMean = np.mean(Ret, axis=0)\n",
    "RetCov = np.cov((Ret).T)\n",
    "RetMean = RetMean * AnnualizedDay\n",
    "RetCov = RetCov * AnnualizedDay\n",
    "\n",
    "#save data\n",
    "np.savetxt(\"AnnualizedMean.csv\",np.array(RetMean),fmt='%1s',delimiter=',')\n",
    "np.savetxt(\"AnnualizedCovariance.csv\",np.array(RetCov),fmt='%1s',delimiter=',')"
   ]
  },
  {
   "cell_type": "code",
   "execution_count": 13,
   "metadata": {
    "collapsed": true
   },
   "outputs": [],
   "source": [
    "#(b) minimal variance portfolio\n",
    "\n",
    "def my_obj1(x):\n",
    "    return np.dot(np.dot(x.T,RetCov),x)\n",
    "\n",
    "def my_constr1(x):\n",
    "    return np.sum(x) - 1\n",
    "\n",
    "constr = {'type': 'eq', 'fun': my_constr1}\n",
    "x0 = np.zeros(d); x0[0] = 1\n",
    "opt1 = scipy.optimize.minimize(my_obj1, x0, constraints=constr, options={'maxiter':1e6})\n",
    "#print(opt1)\n",
    "\n",
    "#save data\n",
    "np.savetxt(\"MinimalVarPort.csv\",np.array(opt1.x),fmt='%1s',delimiter=',')"
   ]
  },
  {
   "cell_type": "code",
   "execution_count": 178,
   "metadata": {
    "scrolled": true
   },
   "outputs": [
    {
     "data": {
      "image/png": "[encoded data removed]",
      "text/plain": [
       "<matplotlib.figure.Figure at 0x1bf50f5d240>"
      ]
     },
     "metadata": {},
     "output_type": "display_data"
    },
    {
     "name": "stdout",
     "output_type": "stream",
     "text": [
      "2.142036414973624 1.0257049346650433\n"
     ]
    }
   ],
   "source": [
    "#(c) optimal mean-variance portfolio\n",
    "\n",
    "gamma = 1\n",
    "\n",
    "def my_obj2(x):\n",
    "    return gamma * np.dot(np.dot(x.T,RetCov),x) - np.dot(x.T,RetMean)\n",
    "\n",
    "constr = {'type': 'eq', 'fun': my_constr1}\n",
    "x0 = np.zeros(d); x0[0] = 1\n",
    "opt2 = scipy.optimize.minimize(my_obj2, x0, constraints=constr, options={'maxiter':1e6})\n",
    "#print(opt2)\n",
    "\n",
    "#save data\n",
    "np.savetxt(\"MeanVarPort.csv\",np.array(opt2.x),fmt='%1s',delimiter=',')\n",
    "\n",
    "x = [i for i in range(d)]\n",
    "y = opt2.x\n",
    "plt.scatter(x,y)\n",
    "plt.show()\n",
    "port2Mean = np.dot((opt2.x).T,RetMean)\n",
    "port2Var = np.dot(np.dot((opt2.x).T,RetCov),(opt2.x))\n",
    "print(port2Mean, port2Var)"
   ]
  },
  {
   "cell_type": "code",
   "execution_count": 187,
   "metadata": {},
   "outputs": [
    {
     "data": {
      "image/png": "[encoded data removed]",
      "text/plain": [
       "<matplotlib.figure.Figure at 0x1bf4f8d1eb8>"
      ]
     },
     "metadata": {},
     "output_type": "display_data"
    },
    {
     "name": "stdout",
     "output_type": "stream",
     "text": [
      "0.5721439844938762 0.05441305132035014 0.041372046946460475\n"
     ]
    }
   ],
   "source": [
    "#(d) opt mean-var portfolio\n",
    "\n",
    "std = [np.sqrt(RetCov[i,i]) for i in range(d)]\n",
    "std = np.array(std)\n",
    "\n",
    "upperbd_mean = RetMean + std\n",
    "lowerbd_mean = RetMean - std\n",
    "mean_prime = 0.5 * (upperbd_mean + lowerbd_mean)\n",
    "epsilo = 0.5 * (upperbd_mean - lowerbd_mean)\n",
    "\n",
    "def my_obj3(x):\n",
    "    return gamma * np.dot(np.dot(x.T,RetCov),x) - np.dot(x.T,mean_prime) + np.dot(np.abs(x).T,epsilo)\n",
    "\n",
    "constr = {'type': 'eq', 'fun': my_constr1}\n",
    "x0 = np.ones(d); x0 = x0/d\n",
    "opt3 = scipy.optimize.minimize(my_obj3, x0, constraints=constr, options={'maxiter':1e6})\n",
    "#print(opt3)\n",
    "\n",
    "#save data\n",
    "np.savetxt(\"MeanVarPortwRobust.csv\",np.array(opt3.x),fmt='%1s',delimiter=',')\n",
    "\n",
    "x = [i for i in range(d)]\n",
    "y = opt3.x\n",
    "plt.scatter(x,y)\n",
    "plt.show()\n",
    "bestcaseMean = np.dot((opt3.x).T,upperbd_mean)\n",
    "worstcaseMean = np.dot((opt3.x).T,lowerbd_mean)\n",
    "port3Var = np.dot(np.dot((opt3.x).T,RetCov),(opt3.x))\n",
    "print(bestcaseMean,worstcaseMean,port3Var)"
   ]
  },
  {
   "cell_type": "code",
   "execution_count": 16,
   "metadata": {},
   "outputs": [
    {
     "data": {
      "image/png": "[encoded data removed]",
      "text/plain": [
       "<matplotlib.figure.Figure at 0x1bf4e5022b0>"
      ]
     },
     "metadata": {},
     "output_type": "display_data"
    }
   ],
   "source": [
    "#(e) Compute the efficient frontier\n",
    "\n",
    "mu = [0.01*i for i in range(100)]\n",
    "fmu = []\n",
    "\n",
    "for i in range(100):\n",
    "    def my_constr2(x):\n",
    "        return np.dot(x.T,RetMean) - mu[i]\n",
    "    \n",
    "    constr = ({'type': 'eq', 'fun': my_constr1},\n",
    "             {'type': 'eq', 'fun': my_constr2})\n",
    "    x0 = np.zeros(d); x0[0] = 1\n",
    "    opt4 = scipy.optimize.minimize(my_obj1, x0, constraints=constr, options={'maxiter':1e6})\n",
    "    fmu.append(np.sqrt(np.dot(np.dot(opt4.x.T,RetCov),opt4.x)))\n",
    "\n",
    "plt.plot(fmu,mu)\n",
    "plt.scatter(std, RetMean)\n",
    "plt.show()"
   ]
  },
  {
   "cell_type": "code",
   "execution_count": 157,
   "metadata": {},
   "outputs": [
    {
     "data": {
      "image/png": "[encoded data removed]",
      "text/plain": [
       "<matplotlib.figure.Figure at 0x1bf5141b278>"
      ]
     },
     "metadata": {},
     "output_type": "display_data"
    }
   ],
   "source": [
    "#(f)adding riskless asset\n",
    "R0 = 0.01\n",
    "A = RetCov; b = RetMean - R0\n",
    "MarketPort = np.linalg.solve(A,b)\n",
    "MarketPort = MarketPort / np.sum(MarketPort)\n",
    "\n",
    "#save data\n",
    "np.savetxt(\"MarketPort.csv\",np.array(MarketPort),fmt='%1s',delimiter=',')\n",
    "\n",
    "#efficient frontier for the extended market\n",
    "MarketVar = []\n",
    "MarketMean = np.dot(MarketPort.T,RetMean)\n",
    "for i in mu:\n",
    "    alpha0 = (i - MarketMean) / (R0 - MarketMean)\n",
    "    alphaStar = MarketPort * (1 - alpha0)\n",
    "    MarketVar.append(np.sqrt(np.dot(np.dot(alphaStar.T,RetCov),alphaStar)))\n",
    "    \n",
    "plt.plot(MarketVar,mu)\n",
    "plt.plot(fmu,mu)\n",
    "plt.show()"
   ]
  },
  {
   "cell_type": "code",
   "execution_count": 188,
   "metadata": {
    "collapsed": true
   },
   "outputs": [],
   "source": [
    "#Now we need to fix our R0 with annualized one to daily one\n",
    "R0 = R0 / AnnualizedDay"
   ]
  },
  {
   "cell_type": "code",
   "execution_count": 189,
   "metadata": {},
   "outputs": [],
   "source": [
    "#2(a) compute beta\n",
    "\n",
    "Beta = np.dot(RetCov,MarketPort) / np.dot(np.dot(MarketPort.T,RetCov),MarketPort)\n",
    "\n",
    "np.savetxt(\"Beta.csv\",np.array(Beta),fmt='%1s',delimiter=',')\n",
    "\n",
    "#print(beta)\n",
    "\n"
   ]
  },
  {
   "cell_type": "code",
   "execution_count": 159,
   "metadata": {},
   "outputs": [],
   "source": [
    "#2(b) regression with only market\n",
    "AssetExcessRet = Ret - R0\n",
    "MarketExcessRet = np.dot(Ret,MarketPort) - R0\n",
    "a_intercept = []; b_slope = []\n",
    "for i in range(d):\n",
    "    slope, intercept, r_value, p_value, std_err = stats.linregress(MarketExcessRet,AssetExcessRet[:,i])\n",
    "    a_intercept.append(intercept)\n",
    "    b_slope.append(slope)\n",
    "\n",
    "    \n",
    "LS_pair = []\n",
    "for i in range(d):\n",
    "    LS_pair.append([a_intercept[i], b_slope[i]])\n",
    "    \n",
    "#save data\n",
    "np.savetxt(\"LS_pair.csv\",np.array(LS_pair),fmt='%1s',delimiter=',')"
   ]
  },
  {
   "cell_type": "code",
   "execution_count": 191,
   "metadata": {
    "scrolled": true
   },
   "outputs": [
    {
     "name": "stdout",
     "output_type": "stream",
     "text": [
      "0 0.701658905309147\n",
      "3 0.5198115120844933\n",
      "4 0.2907186737185783\n",
      "5 0.4691731954383991\n",
      "9 0.4996929687767754\n",
      "10 0.05462799266937614\n",
      "11 0.11026587769966825\n",
      "13 0.23058770450226923\n",
      "14 0.2152200302656965\n",
      "16 0.8856405197016495\n",
      "17 0.0981428897565581\n",
      "18 0.48709220517248186\n",
      "19 0.07053580831891502\n",
      "20 0.38281732486984665\n",
      "21 0.6230771533614744\n",
      "22 0.05279638287417714\n",
      "23 0.0949264687770727\n",
      "24 0.4048697243969831\n",
      "25 0.6585620929206897\n",
      "29 0.9515549744546671\n",
      "30 0.2516696599403667\n",
      "32 0.05584966621168564\n",
      "33 0.8428354611759885\n",
      "34 0.6232508537651686\n",
      "36 0.2692013204119863\n",
      "37 0.11318484461594158\n",
      "38 0.44587818050489214\n",
      "40 0.7700674425385371\n",
      "42 0.39857343379982\n",
      "43 0.11778442440328922\n",
      "46 0.1087723770241307\n",
      "49 0.38478999999642594\n",
      "50 0.15766538500555566\n",
      "51 0.17141057624012643\n",
      "52 0.908673260161561\n",
      "53 0.5773131135628535\n",
      "54 0.9409836621791484\n",
      "55 0.6674935936330828\n",
      "56 0.4262445639139627\n",
      "57 0.9401363050233325\n",
      "58 0.4258404946647564\n",
      "60 0.444699875773952\n",
      "61 0.19426571225102632\n"
     ]
    }
   ],
   "source": [
    "#2(c) regression with market plus prior 5-day average return\n",
    "\n",
    "PriAveRet = np.zeros((len(Ret[:,0]) - 5, d))\n",
    "for i in range(len(Ret[:,0])-5):\n",
    "    PriAveRet[i,:] = np.mean(Ret[i:i+5,:],axis=0)\n",
    "\n",
    "a1_intercept = []; c1_slope = []\n",
    "for i in range(d):\n",
    "    slope, intercept, r_value, p_value, std_err = stats.linregress(PriAveRet[:,i],AssetExcessRet[5:,i] - Beta[i]*MarketExcessRet[5:])\n",
    "    a1_intercept.append(intercept)\n",
    "    c1_slope.append(slope)\n",
    "    if (p_value > 0.05):\n",
    "        print(i,p_value)\n",
    "\n",
    "    \n",
    "PriAve_pair = []\n",
    "for i in range(d):\n",
    "    PriAve_pair.append([a1_intercept[i], c1_slope[i]])\n",
    "    \n",
    "#save data\n",
    "np.savetxt(\"PriAve_pair.csv\",np.array(PriAve_pair),fmt='%1s',delimiter=',')"
   ]
  },
  {
   "cell_type": "code",
   "execution_count": 192,
   "metadata": {
    "scrolled": true
   },
   "outputs": [
    {
     "name": "stdout",
     "output_type": "stream",
     "text": [
      "0 0.6533696582397877\n",
      "3 0.5321814969671952\n",
      "4 0.3446810294864542\n",
      "5 0.3025451577787738\n",
      "9 0.6840902331203167\n",
      "10 0.07533078359683112\n",
      "11 0.13153188392122056\n",
      "13 0.28212087491565163\n",
      "14 0.3679473581915943\n",
      "16 0.8422775013370757\n",
      "17 0.1734529022809019\n",
      "18 0.3826427222416584\n",
      "19 0.42909572811778807\n",
      "20 0.4024112557063666\n",
      "21 0.9264931722990082\n",
      "22 0.06644233510731332\n",
      "23 0.4225029132924314\n",
      "24 0.47840373064682384\n",
      "25 0.5286978286272077\n",
      "29 0.6915316664325343\n",
      "30 0.39296378621459016\n",
      "33 0.866053380624161\n",
      "34 0.6252275542648627\n",
      "36 0.7355827202501658\n",
      "37 0.08680314863717392\n",
      "38 0.42093119525393485\n",
      "40 0.8181874984459984\n",
      "42 0.8980255598865149\n",
      "43 0.0756125371180306\n",
      "49 0.22176111467443252\n",
      "51 0.5185983463478083\n",
      "52 0.6718296661538655\n",
      "53 0.8295440943559977\n",
      "54 0.9984333446911989\n",
      "55 0.625128901825482\n",
      "56 0.9661994326254189\n",
      "57 0.6638956524290271\n",
      "58 0.6909678260461857\n",
      "60 0.5837196402976895\n",
      "61 0.22343785890133225\n"
     ]
    }
   ],
   "source": [
    "#2(d) regression with market plus volume weighted prior 5-day average return\n",
    "\n",
    "VolumeArray = []\n",
    "for ticker in tickers_liq:\n",
    "    VolumeArray.append(list(stock_data['Volume'][ticker]))\n",
    "VolumeArray=np.array(VolumeArray).T\n",
    "\n",
    "VWPriAveRet = np.zeros((len(Ret[:,0]) - 5, d))\n",
    "for i in range(len(Ret[:,0]) - 5):\n",
    "    for j in range(d):\n",
    "        VWPriAveRet[i,j] = np.dot(Ret[i:i+5,j].T,VolumeArray[i:i+5,j]) / np.sum(VolumeArray[i:i+5,j])\n",
    "\n",
    "\n",
    "a2_intercept = []; c2_slope = []\n",
    "for i in range(d):\n",
    "    slope, intercept, r_value, p_value, std_err = stats.linregress(VWPriAveRet[:,i],AssetExcessRet[5:,i] - Beta[i]*MarketExcessRet[5:])\n",
    "    a2_intercept.append(intercept)\n",
    "    c2_slope.append(slope)\n",
    "    if (p_value > 0.05):\n",
    "        print(i,p_value)\n",
    "\n",
    "    \n",
    "VWPriAve_pair = []\n",
    "for i in range(d):\n",
    "    VWPriAve_pair.append([a2_intercept[i], c2_slope[i]])\n",
    " \n",
    "#save data\n",
    "np.savetxt(\"VWPriAve_pair.csv\",np.array(VWPriAve_pair),fmt='%1s',delimiter=',')"
   ]
  },
  {
   "cell_type": "code",
   "execution_count": 193,
   "metadata": {},
   "outputs": [],
   "source": [
    "#2(e) modification\n",
    "lambda_ = [0.1*i for i in range(10)]\n",
    "mu_PriAveRet = np.mean(PriAveRet, axis=0)\n",
    "mu_VWPriAveRet = np.mean(VWPriAveRet, axis=0)\n",
    "\n",
    "PriAveRet_Cov = np.cov(PriAveRet.T)\n",
    "VWPriAveRet_Cov = np.cov(VWPriAveRet.T)\n",
    "sigma_PriAveRet = np.array([np.sqrt(PriAveRet_Cov[i,i]) for i in range(d)])\n",
    "sigma_VWPriAveRet = np.array([np.sqrt(VWPriAveRet_Cov[i,i]) for i in range(d)])\n",
    "\n",
    "\n",
    "#finding the subsample for (c) factor\n",
    "   \n",
    "opt_lambda1 = []; opt_pvalue1 = []\n",
    "opt_intercept1 = []; opt_slope1 = []\n",
    "for j in range(d):\n",
    "    pvalue1 = 100\n",
    "    for lam in lambda_:\n",
    "        c_subsam_index = [];\n",
    "        for i in range(len(PriAveRet[:,0])):\n",
    "            if (PriAveRet[i,j] - (mu_PriAveRet[j] + lam * sigma_PriAveRet[j]) > 0):\n",
    "                c_subsam_index.append(i)\n",
    "        c_subsam_index = np.array(c_subsam_index)\n",
    "        \n",
    "        #get subsample for asset j with lambda equals lam:\n",
    "        y_for_c = AssetExcessRet[c_subsam_index+5]\n",
    "        y_for_c = y_for_c[:,j] - Beta[j]*MarketExcessRet[c_subsam_index+5]\n",
    "        x_for_c = PriAveRet[c_subsam_index]\n",
    "        x_for_c = x_for_c[:,j]\n",
    "        slope, intercept, r_value, p_value, std_err = stats.linregress(x_for_c,y_for_c)\n",
    "        if (p_value < pvalue1):\n",
    "            pvalue1 = p_value\n",
    "            optlam_for_c = lam\n",
    "            optinc_for_c = intercept\n",
    "            optslope_for_c = slope\n",
    "    \n",
    "    opt_lambda1.append(optlam_for_c); opt_pvalue1.append(pvalue1)\n",
    "    opt_intercept1.append(optinc_for_c); opt_slope1.append(optslope_for_c)\n",
    "    \n",
    "    \n",
    "#finding the subsample for (d) factor\n",
    "\n",
    "opt_lambda2 = []; opt_pvalue2 = []\n",
    "opt_intercept2 = []; opt_slope2 = []\n",
    "for j in range(d):\n",
    "    pvalue2 = 100\n",
    "    for lam in lambda_:\n",
    "        d_subsam_index = [];\n",
    "        for i in range(len(VWPriAveRet[:,0])):\n",
    "            if (VWPriAveRet[i,j] - (mu_VWPriAveRet[j] + lam * sigma_VWPriAveRet[j]) > 0):\n",
    "                d_subsam_index.append(i)\n",
    "        d_subsam_index = np.array(d_subsam_index)\n",
    "        \n",
    "        #get subsample for asset j with lambda equals lam:\n",
    "        y_for_d = AssetExcessRet[d_subsam_index+5]\n",
    "        y_for_d = y_for_d[:,j] - Beta[j]*MarketExcessRet[d_subsam_index+5]\n",
    "        x_for_d = VWPriAveRet[d_subsam_index]\n",
    "        x_for_d = x_for_d[:,j]\n",
    "        slope, intercept, r_value, p_value, std_err = stats.linregress(x_for_d,y_for_d)\n",
    "        if (p_value < pvalue2):\n",
    "            pvalue2 = p_value\n",
    "            optlam_for_d = lam\n",
    "            optinc_for_d = intercept\n",
    "            optslope_for_d = slope\n",
    "    \n",
    "    opt_lambda2.append(optlam_for_d); opt_pvalue2.append(pvalue2)\n",
    "    opt_intercept2.append(optinc_for_d); opt_slope2.append(optslope_for_d)\n",
    "\n",
    "opt_pvalue = np.array([opt_pvalue1,opt_pvalue2])\n",
    "\n",
    "#save data\n",
    "np.savetxt(\"Pvalues.csv\",np.array(opt_pvalue),fmt='%1s',delimiter=',')"
   ]
  },
  {
   "cell_type": "code",
   "execution_count": 194,
   "metadata": {},
   "outputs": [
    {
     "name": "stdout",
     "output_type": "stream",
     "text": [
      "503\n",
      "1408\n",
      "443\n",
      "493\n",
      "439\n",
      "619\n",
      "1154\n",
      "466\n",
      "830\n",
      "368\n",
      "1311\n",
      "878\n",
      "1161\n",
      "532\n",
      "345\n",
      "407\n",
      "1356\n",
      "574\n",
      "720\n",
      "1395\n",
      "1014\n",
      "541\n",
      "1398\n",
      "766\n",
      "383\n",
      "566\n",
      "1103\n",
      "1433\n",
      "440\n",
      "1017\n",
      "1236\n",
      "1417\n",
      "354\n",
      "630\n",
      "1133\n",
      "1401\n",
      "1190\n",
      "1086\n",
      "432\n",
      "1195\n",
      "375\n",
      "1453\n",
      "577\n",
      "552\n",
      "1421\n",
      "1381\n",
      "1381\n",
      "1285\n",
      "1114\n",
      "927\n",
      "483\n",
      "636\n",
      "998\n",
      "1015\n",
      "379\n",
      "1384\n",
      "452\n",
      "1445\n",
      "922\n",
      "1432\n",
      "1223\n",
      "429\n",
      "563\n",
      "1378\n",
      "1004\n",
      "1421\n",
      "447\n",
      "498\n",
      "502\n",
      "1417\n",
      "901\n",
      "979\n",
      "922\n",
      "348\n",
      "1305\n",
      "677\n",
      "1023\n",
      "1403\n",
      "360\n",
      "739\n",
      "949\n",
      "859\n",
      "1407\n",
      "1389\n",
      "1151\n",
      "1241\n",
      "694\n",
      "430\n",
      "374\n",
      "468\n",
      "1355\n",
      "745\n",
      "573\n",
      "355\n",
      "1376\n",
      "1394\n",
      "1034\n",
      "1427\n",
      "568\n",
      "397\n",
      "477\n",
      "1094\n",
      "436\n",
      "1346\n",
      "615\n",
      "1170\n",
      "1255\n",
      "847\n",
      "526\n",
      "1372\n",
      "1374\n",
      "1000\n",
      "573\n",
      "935\n",
      "464\n",
      "340\n",
      "1255\n",
      "419\n",
      "368\n",
      "1082\n",
      "1102\n",
      "470\n",
      "356\n",
      "891\n",
      "1233\n",
      "520\n",
      "563\n",
      "1406\n",
      "[0.00127857 0.00091328 0.00095342 0.00071217 0.00056207 0.00050789\n",
      " 0.00061948 0.00110226 0.00127943 0.0015372  0.00080493 0.00130776\n",
      " 0.00094449 0.00031749 0.00054177 0.00087103 0.00063424 0.00097061\n",
      " 0.0015229  0.00097998 0.00087803 0.00171205 0.00085912 0.00116053\n",
      " 0.00095848 0.00100162 0.00081825 0.00082913 0.00090249 0.00038256\n",
      " 0.00018385 0.00036548 0.00094622 0.00109381 0.00084883 0.00083054\n",
      " 0.00093992 0.00097914 0.00061265 0.00094349 0.00088519 0.00077053\n",
      " 0.00096592 0.00146885 0.00118641 0.00086078 0.00076306 0.00069619\n",
      " 0.00083837 0.00143515 0.00079033 0.00088102 0.00076195 0.00092338\n",
      " 0.00087901 0.00054353 0.00108393 0.00083182 0.0007928  0.00127444\n",
      " 0.00123002 0.00129589 0.00081798 0.0008102 ]\n"
     ]
    }
   ],
   "source": [
    "#compute mean excess returns of hedged asset over subsample\n",
    "\n",
    "##for (c) factor:\n",
    "\n",
    "ExcessRetMean1 = []; ExcessRetVar1 = []\n",
    "for j in range(d):\n",
    "    c_subsam_index = [];\n",
    "    for i in range(len(PriAveRet[:,0])):\n",
    "        if (PriAveRet[i,j] - (mu_PriAveRet[j] + opt_lambda1[j] * sigma_PriAveRet[j]) > 0):\n",
    "            c_subsam_index.append(i)\n",
    "    c_subsam_index = np.array(c_subsam_index)\n",
    "    print(len(c_subsam_index))\n",
    "        \n",
    "    #get subsample for asset j with lambda:\n",
    "    y_for_c = AssetExcessRet[c_subsam_index+5]\n",
    "    y_for_c = y_for_c[:,j] - Beta[j]*MarketExcessRet[c_subsam_index+5]\n",
    "    ExcessRetMean1.append(np.mean(y_for_c))\n",
    "    ExcessRetVar1.append(np.var(y_for_c))\n",
    "    #F1 = PriAveRet[c_subsam_index]; F1 = F1[:,j]\n",
    "    #ExcessRetMean1.append(np.mean(F1*opt_slope1[j] + opt_intercept1[j]))\n",
    "    #ExcessRetVar1.append(np.var(F1*opt_slope1[j]))\n",
    "    \n",
    "    \n",
    "    \n",
    "    \n",
    "##for (d) factor:\n",
    "\n",
    "ExcessRetMean2 = []; ExcessRetVar2 = []\n",
    "for j in range(d):\n",
    "    d_subsam_index = [];\n",
    "    for i in range(len(VWPriAveRet[:,0])):\n",
    "        if (VWPriAveRet[i,j] - (mu_VWPriAveRet[j] + opt_lambda2[j] * sigma_VWPriAveRet[j]) > 0):\n",
    "            d_subsam_index.append(i)\n",
    "    d_subsam_index = np.array(d_subsam_index)\n",
    "    print(len(d_subsam_index))\n",
    "        \n",
    "    #get subsample for asset j with lambda:\n",
    "    y_for_d = AssetExcessRet[d_subsam_index+5]\n",
    "    y_for_d = y_for_d[:,j] - Beta[j]*MarketExcessRet[d_subsam_index+5]\n",
    "    ExcessRetMean2.append(np.mean(y_for_d))\n",
    "    ExcessRetVar2.append(np.var(y_for_d))\n",
    "    #F2 = VWPriAveRet[d_subsam_index]; F2 = F2[:,j]\n",
    "    #ExcessRetMean2.append(np.mean(F2*opt_slope2[j]))\n",
    "    #ExcessRetVar2.append(np.var(F2*opt_slope2[j]))\n",
    "\n",
    "ExcessRetMean = np.array([ExcessRetMean1,ExcessRetMean2])\n",
    "\n",
    "\n",
    "#save data\n",
    "np.savetxt(\"ExcessRetMean.csv\",np.array(ExcessRetMean),fmt='%1s',delimiter=',')\n",
    "\n",
    "print(np.mean(AssetExcessRet, axis=0))"
   ]
  },
  {
   "cell_type": "code",
   "execution_count": 197,
   "metadata": {},
   "outputs": [
    {
     "name": "stdout",
     "output_type": "stream",
     "text": [
      "[0.06745898770067432, -0.03449614600506907, -0.04725186157179072, -0.08521505246134364, -0.0763497485440865, 0.007708215985695938, -0.008869264992500679, -0.03206337325229879, -0.027139730766415713, -0.05000618967765191, -0.02639218903468627, -0.0008000131729051258, -0.026467548187108256, -0.07820808845093745, -0.010884129069715398, -0.10091096766920109, -0.011106741974175091, -0.017787596994518057, 0.004941232420612162, -0.02255452963589173, -0.005811320040425095, 0.01435918581835689, -0.044467237437608345, -0.038951406587374685, -0.014326269857472726, 0.02468666106018581, -0.07040756072355434, 0.025096279076690015, -0.043295667051494756, -0.02834693273068608, -0.03237517918221567, -0.016756376090144662, -0.08475327930311674, -0.0013503442594109353, 0.018634223938731296, -0.011975847798589918, -0.0022785845286509704, 0.025194777094726645, 0.014651231626949405, -0.02881456512282829, 0.04349057010001474, -0.027690777353571845, -0.006212305123747826, -0.0086855280507965, -0.020040946618138853, -0.013034845534299618, 0.0092824831915274, -0.03511825140415251, -0.014318268327900226, -0.013010710526801418, -0.0016636787224521595, -0.04265355345912044, -0.007673264272488345, -0.02674534376105052, -0.028502628533502595, -0.004311683769745868, -0.05033798921309166, 0.0038568793551292564, -0.032874390804226106, -0.04562468437305574, -0.00848789277544546, 0.03831775687950289, -0.03578244136305106, -0.048031155986815836]\n",
      "[0.06049624304130329, -0.03526169568160304, -0.05463831401368276, -0.10447573711167511, -0.06904381360457106, 0.0023545612371431443, -0.006744423699376437, -0.025704397911675263, -0.03920107493256269, -0.021874935629771153, -0.016272172273972138, 0.0023258543363269273, -0.04292398234601394, -0.015459767610205899, -0.012237610525891129, -0.04236032027192344, -0.005460342200424604, -0.0008609577335657446, 0.016856791621646067, -0.025172935179218668, -0.003748025041596917, 0.020733192429626176, -0.03431178834048309, -0.04178422971898667, -0.014710801340212977, -0.0075729151238336425, -0.030926577063629026, 0.04891886969999403, -0.017743588976329102, 0.016418463740952863, -0.03584983296632619, -0.022803689316799446, -0.025819605710991386, -0.0021101864254330386, -0.010809599939452718, -0.07037409743437899, 0.021247973379009442, 0.017152833185894584, 0.023084172247167824, -0.032653617808035044, -0.0016355006019779766, -0.04715263843771044, -0.00817169172546874, -0.0009382758967793067, -0.019537284738756728, -0.011379436005824488, -0.004939457406100309, -0.0486997139678102, -0.03709021326293045, 0.006470275173738803, -0.026174283223100905, -0.015233969761856155, -0.029013710906953427, -0.017768424087108697, -0.0106406481342198, -0.016633422721096257, 0.03091697276957265, -0.024914961234085937, 0.00598763780476688, -0.0672561460430918, -0.010753952277450638, 0.019585727115073094, -0.024498636372703223, -0.053310495868148275]\n",
      "[0.10194153771532648, 0.9908281499911689, -0.9692729193957774, 0.14439033438198817, -1.126891212267554, -0.9507503421079718, -0.1519427338046578, -1.9129252087855084, 0.4623640270039669, 0.6867208618236837, -2.2555900885316933, 1.5583478449720642, -0.6734783659158097, 0.7110727143731851, 0.4989566373126514, 0.8783753947721478, 1.3003725439854452, -1.021173865708456, -0.955902181889744, 0.3649646954516716, 0.6280367137261227, 0.18503002379801714, 0.4686361149035943, 0.8818499248190502, -0.0740216592135425, -2.599489321025712, 0.1403214462436367, 0.5451661076200929, -0.03786933876178212, -2.1897462443196627, -0.155254256787972, -0.9030016340093745, -0.2909643132749117, -1.3687106470807997, 1.4929977678364519, 0.1521366693045999, -0.5741320678422485, -0.13848577538721707, -1.7968495630828336, 0.3789386306820201, 1.2033658575949933, -1.1076409518826071, -0.23920155791721795, -0.6633837982281966, 2.6891780771548177, 0.8455655436027848, 1.6295396859724636, 0.28113632345614165, -0.8120110235598977, 1.784209638393165, 1.2578227629930043, -0.14822152439040265, -1.47228769845463, 2.9162233828534023, -0.7324424587229085, 0.5098528750135594, 1.6906114193398478, -1.385009778388833, -1.329656835531827, 0.7348128930703482, 0.7852171125393305, 1.538842177286669, 0.5788198973249191, -0.44700080852400964]\n"
     ]
    }
   ],
   "source": [
    "#compute the corresponding sharpe ratio\n",
    "## for factor in (c)\n",
    "SharpeRatio1 = []\n",
    "for i in range(d):\n",
    "    SharpeRatio1.append(ExcessRetMean1[i] / np.sqrt(ExcessRetVar1[i]))\n",
    "\n",
    "##for factor in (d)\n",
    "SharpeRatio2 = []\n",
    "for i in range(d):\n",
    "    SharpeRatio2.append(ExcessRetMean2[i] / np.sqrt(ExcessRetVar2[i]))\n",
    "\n",
    "## for entire sample\n",
    "Entire_SharpeRatio = []\n",
    "for i in range(d):\n",
    "    Entire_SharpeRatio.append(np.mean(AssetExcessRet[i]) / np.sqrt(np.var(AssetExcessRet[i])))\n",
    "    \n",
    "\n",
    "print(SharpeRatio1)\n",
    "print(SharpeRatio2)\n",
    "print(Entire_SharpeRatio)"
   ]
  },
  {
   "cell_type": "code",
   "execution_count": null,
   "metadata": {
    "collapsed": true
   },
   "outputs": [],
   "source": []
  }
 ],
 "metadata": {
  "kernelspec": {
   "display_name": "Python 3",
   "language": "python",
   "name": "python3"
  },
  "language_info": {
   "codemirror_mode": {
    "name": "ipython",
    "version": 3
   },
   "file_extension": ".py",
   "mimetype": "text/x-python",
   "name": "python",
   "nbconvert_exporter": "python",
   "pygments_lexer": "ipython3",
   "version": "3.6.1"
  }
 },
 "nbformat": 4,
 "nbformat_minor": 2
}
