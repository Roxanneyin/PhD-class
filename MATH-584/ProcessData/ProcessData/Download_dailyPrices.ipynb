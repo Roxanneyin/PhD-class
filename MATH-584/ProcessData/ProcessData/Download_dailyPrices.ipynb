{
 "cells": [
  {
   "cell_type": "code",
   "execution_count": 3,
   "metadata": {
    "collapsed": true
   },
   "outputs": [],
   "source": [
    "#import pandas as pd #data processing module; we don't really need it here, but it's among the most popular ones\n",
    "import numpy as np #numerical methods\n",
    "import csv #input/output for csv files\n",
    "#import matplotlib.pyplot as plt #data visualization module; we don't really need it here, but it's among the most popular ones\n",
    "import math #various amthematical functions and methods\n",
    "from pandas_datareader import data #methods for reading from the web"
   ]
  },
  {
   "cell_type": "code",
   "execution_count": 4,
   "metadata": {
    "collapsed": true
   },
   "outputs": [],
   "source": [
    "#define a list otickers by hand and download their prices and volumes from Yahoo!\n",
    "tickers = ['INTC','MSFT']\n",
    "start_date = '2019-11-01'\n",
    "end_date = '2019-11-30'\n",
    "stock_data = data.get_data_yahoo(tickers, start_date, end_date)"
   ]
  },
  {
   "cell_type": "code",
   "execution_count": 5,
   "metadata": {},
   "outputs": [
    {
     "data": {
      "text/html": [
       "<div>\n",
       "<style scoped>\n",
       "    .dataframe tbody tr th:only-of-type {\n",
       "        vertical-align: middle;\n",
       "    }\n",
       "\n",
       "    .dataframe tbody tr th {\n",
       "        vertical-align: top;\n",
       "    }\n",
       "\n",
       "    .dataframe thead tr th {\n",
       "        text-align: left;\n",
       "    }\n",
       "\n",
       "    .dataframe thead tr:last-of-type th {\n",
       "        text-align: right;\n",
       "    }\n",
       "</style>\n",
       "<table border=\"1\" class=\"dataframe\">\n",
       "  <thead>\n",
       "    <tr>\n",
       "      <th>Attributes</th>\n",
       "      <th colspan=\"2\" halign=\"left\">Adj Close</th>\n",
       "      <th colspan=\"2\" halign=\"left\">Close</th>\n",
       "      <th colspan=\"2\" halign=\"left\">High</th>\n",
       "      <th colspan=\"2\" halign=\"left\">Low</th>\n",
       "      <th colspan=\"2\" halign=\"left\">Open</th>\n",
       "      <th colspan=\"2\" halign=\"left\">Volume</th>\n",
       "    </tr>\n",
       "    <tr>\n",
       "      <th>Symbols</th>\n",
       "      <th>INTC</th>\n",
       "      <th>MSFT</th>\n",
       "      <th>INTC</th>\n",
       "      <th>MSFT</th>\n",
       "      <th>INTC</th>\n",
       "      <th>MSFT</th>\n",
       "      <th>INTC</th>\n",
       "      <th>MSFT</th>\n",
       "      <th>INTC</th>\n",
       "      <th>MSFT</th>\n",
       "      <th>INTC</th>\n",
       "      <th>MSFT</th>\n",
       "    </tr>\n",
       "    <tr>\n",
       "      <th>Date</th>\n",
       "      <th></th>\n",
       "      <th></th>\n",
       "      <th></th>\n",
       "      <th></th>\n",
       "      <th></th>\n",
       "      <th></th>\n",
       "      <th></th>\n",
       "      <th></th>\n",
       "      <th></th>\n",
       "      <th></th>\n",
       "      <th></th>\n",
       "      <th></th>\n",
       "    </tr>\n",
       "  </thead>\n",
       "  <tbody>\n",
       "    <tr>\n",
       "      <th>2019-11-01</th>\n",
       "      <td>56.200691</td>\n",
       "      <td>143.232620</td>\n",
       "      <td>56.509998</td>\n",
       "      <td>143.720001</td>\n",
       "      <td>56.650002</td>\n",
       "      <td>144.419998</td>\n",
       "      <td>55.619999</td>\n",
       "      <td>142.970001</td>\n",
       "      <td>55.939999</td>\n",
       "      <td>144.259995</td>\n",
       "      <td>17953500.0</td>\n",
       "      <td>33128400.0</td>\n",
       "    </tr>\n",
       "    <tr>\n",
       "      <th>2019-11-04</th>\n",
       "      <td>57.294674</td>\n",
       "      <td>144.059799</td>\n",
       "      <td>57.610001</td>\n",
       "      <td>144.550003</td>\n",
       "      <td>57.799999</td>\n",
       "      <td>145.000000</td>\n",
       "      <td>56.849998</td>\n",
       "      <td>144.160004</td>\n",
       "      <td>56.930000</td>\n",
       "      <td>144.830002</td>\n",
       "      <td>19068000.0</td>\n",
       "      <td>16912000.0</td>\n",
       "    </tr>\n",
       "    <tr>\n",
       "      <th>2019-11-05</th>\n",
       "      <td>57.235001</td>\n",
       "      <td>143.970108</td>\n",
       "      <td>57.549999</td>\n",
       "      <td>144.460007</td>\n",
       "      <td>58.349998</td>\n",
       "      <td>145.020004</td>\n",
       "      <td>57.209999</td>\n",
       "      <td>143.910004</td>\n",
       "      <td>57.470001</td>\n",
       "      <td>144.970001</td>\n",
       "      <td>20865400.0</td>\n",
       "      <td>18250200.0</td>\n",
       "    </tr>\n",
       "    <tr>\n",
       "      <th>2019-11-06</th>\n",
       "      <td>57.599998</td>\n",
       "      <td>143.571457</td>\n",
       "      <td>57.599998</td>\n",
       "      <td>144.059998</td>\n",
       "      <td>57.709999</td>\n",
       "      <td>144.520004</td>\n",
       "      <td>56.980000</td>\n",
       "      <td>143.199997</td>\n",
       "      <td>57.490002</td>\n",
       "      <td>144.369995</td>\n",
       "      <td>17721000.0</td>\n",
       "      <td>16575800.0</td>\n",
       "    </tr>\n",
       "    <tr>\n",
       "      <th>2019-11-07</th>\n",
       "      <td>58.049999</td>\n",
       "      <td>143.770782</td>\n",
       "      <td>58.049999</td>\n",
       "      <td>144.259995</td>\n",
       "      <td>58.549999</td>\n",
       "      <td>144.880005</td>\n",
       "      <td>57.860001</td>\n",
       "      <td>143.770004</td>\n",
       "      <td>58.000000</td>\n",
       "      <td>143.839996</td>\n",
       "      <td>16962800.0</td>\n",
       "      <td>17786700.0</td>\n",
       "    </tr>\n",
       "    <tr>\n",
       "      <th>2019-11-08</th>\n",
       "      <td>58.270000</td>\n",
       "      <td>145.465027</td>\n",
       "      <td>58.270000</td>\n",
       "      <td>145.960007</td>\n",
       "      <td>58.299999</td>\n",
       "      <td>145.990005</td>\n",
       "      <td>57.310001</td>\n",
       "      <td>143.759995</td>\n",
       "      <td>57.849998</td>\n",
       "      <td>143.979996</td>\n",
       "      <td>11888900.0</td>\n",
       "      <td>16732700.0</td>\n",
       "    </tr>\n",
       "    <tr>\n",
       "      <th>2019-11-11</th>\n",
       "      <td>58.349998</td>\n",
       "      <td>145.614517</td>\n",
       "      <td>58.349998</td>\n",
       "      <td>146.110001</td>\n",
       "      <td>58.500000</td>\n",
       "      <td>146.419998</td>\n",
       "      <td>57.900002</td>\n",
       "      <td>144.729996</td>\n",
       "      <td>57.970001</td>\n",
       "      <td>145.339996</td>\n",
       "      <td>11228900.0</td>\n",
       "      <td>14362600.0</td>\n",
       "    </tr>\n",
       "  </tbody>\n",
       "</table>\n",
       "</div>"
      ],
      "text/plain": [
       "Attributes  Adj Close                  Close                   High  \\\n",
       "Symbols          INTC        MSFT       INTC        MSFT       INTC   \n",
       "Date                                                                  \n",
       "2019-11-01  56.200691  143.232620  56.509998  143.720001  56.650002   \n",
       "2019-11-04  57.294674  144.059799  57.610001  144.550003  57.799999   \n",
       "2019-11-05  57.235001  143.970108  57.549999  144.460007  58.349998   \n",
       "2019-11-06  57.599998  143.571457  57.599998  144.059998  57.709999   \n",
       "2019-11-07  58.049999  143.770782  58.049999  144.259995  58.549999   \n",
       "2019-11-08  58.270000  145.465027  58.270000  145.960007  58.299999   \n",
       "2019-11-11  58.349998  145.614517  58.349998  146.110001  58.500000   \n",
       "\n",
       "Attributes                    Low                   Open              \\\n",
       "Symbols           MSFT       INTC        MSFT       INTC        MSFT   \n",
       "Date                                                                   \n",
       "2019-11-01  144.419998  55.619999  142.970001  55.939999  144.259995   \n",
       "2019-11-04  145.000000  56.849998  144.160004  56.930000  144.830002   \n",
       "2019-11-05  145.020004  57.209999  143.910004  57.470001  144.970001   \n",
       "2019-11-06  144.520004  56.980000  143.199997  57.490002  144.369995   \n",
       "2019-11-07  144.880005  57.860001  143.770004  58.000000  143.839996   \n",
       "2019-11-08  145.990005  57.310001  143.759995  57.849998  143.979996   \n",
       "2019-11-11  146.419998  57.900002  144.729996  57.970001  145.339996   \n",
       "\n",
       "Attributes      Volume              \n",
       "Symbols           INTC        MSFT  \n",
       "Date                                \n",
       "2019-11-01  17953500.0  33128400.0  \n",
       "2019-11-04  19068000.0  16912000.0  \n",
       "2019-11-05  20865400.0  18250200.0  \n",
       "2019-11-06  17721000.0  16575800.0  \n",
       "2019-11-07  16962800.0  17786700.0  \n",
       "2019-11-08  11888900.0  16732700.0  \n",
       "2019-11-11  11228900.0  14362600.0  "
      ]
     },
     "execution_count": 5,
     "metadata": {},
     "output_type": "execute_result"
    }
   ],
   "source": [
    "#see how the resulting Data Frame looks\n",
    "stock_data.head(7)"
   ]
  },
  {
   "cell_type": "code",
   "execution_count": 11,
   "metadata": {},
   "outputs": [
    {
     "name": "stdout",
     "output_type": "stream",
     "text": [
      "[[15.19999981 14.90999985 15.36999989 14.43999958 14.55000019 14.14999962\n",
      "  13.78999996 13.67000008 13.07999992 13.28999996 13.73999977 12.85999966\n",
      "  13.26000023 12.81999969 13.11999989 13.38000011 13.81000042 14.01000023\n",
      "  13.36999989 12.89999962]\n",
      " [20.32999992 20.52000046 20.76000023 19.51000023 20.12000084 19.52000046\n",
      "  19.46999931 19.81999969 19.09000015 19.23999977 19.70999908 18.47999954\n",
      "  19.37999916 17.11000061 17.20000076 17.62999916 17.65999985 18.04000092\n",
      "  17.59000015 17.10000038]]\n"
     ]
    }
   ],
   "source": [
    "#reformat the closing prices into a 2-dim array and save into a csv file\n",
    "stockArray = []\n",
    "stockArray.append(list(stock_data['Close']['INTC'])) #list is defult to be a row rather than column\n",
    "stockArray.append(list(stock_data['Close']['MSFT']))\n",
    "stockArray=np.array(stockArray) #To make an array truely an array\n",
    "np.savetxt(\"closingPrices.csv\",np.transpose(stockArray),delimiter=',')"
   ]
  },
  {
   "cell_type": "code",
   "execution_count": 6,
   "metadata": {},
   "outputs": [
    {
     "name": "stdout",
     "output_type": "stream",
     "text": [
      "['AAPL', 'MSFT', 'TSM', 'INTC', 'CSCO', 'ORCL', 'SAP', 'ADBE', 'CRM', 'NVDA', 'ACN', 'ASML', 'AVGO', 'TXN', 'IBM', 'QCOM', 'FIS', 'SNE', 'INTU', 'MU', 'VMW', 'UBER', 'AMAT', 'AMD', 'NOW', 'SHOP', 'ADI', 'LRCX', 'INFY', 'ADSK', 'WDAY', 'DELL', 'NXPI', 'CTSH', 'TEL', 'APH', 'TEAM', 'HPQ', 'CAJ', 'ERIC', 'SQ', 'MSI', 'KLAC', 'MCHP', 'FTV-PA', 'FTV', 'FLT', 'XLNX', 'SPLK', 'STM', 'VRSN', 'GLW', 'PANW', 'GIB', 'ANSS', 'SNPS', 'WDC', 'HPE', 'SWKS', 'CDNS', 'CDW', 'KEYS', 'FTNT', 'GRMN', 'MRVL', 'CHKP', 'MXIM', 'NLOK', 'PAYC', 'STX', 'RNG', 'ANET', 'SSNC', 'OKTA', 'CTXS', 'AKAM', 'NTAP', 'BR', 'IT', 'LDOS', 'DOCU', 'LYFT', 'ZBRA', 'TDY', 'QRVO', 'WORK', 'EPAM', 'OTEX', 'TYL', 'STNE', 'UI', 'GDDY', 'DDOG', 'TER', 'FICO', 'PAGS', 'JKHY', 'CRWD', 'ASX', 'COUP']\n"
     ]
    }
   ],
   "source": [
    "#read list if tickers from a csv file and print them out\n",
    "tickers_file = 'TechTickers.csv'\n",
    "tickers = [];\n",
    "f = open(tickers_file,\"r\",encoding='utf-8-sig')\n",
    "for line in csv.reader(f):\n",
    "    tickers.append(str(line[0]))\n",
    "f.close\n",
    "print(tickers)"
   ]
  },
  {
   "cell_type": "code",
   "execution_count": 7,
   "metadata": {
    "collapsed": true
   },
   "outputs": [],
   "source": [
    "#downoad the prices and volumes for the previously read list of tickers for the first month\n",
    "#of the earliest year in the proposed time period\n",
    "start_date = '2009-01-01'\n",
    "end_date = '2009-01-31'\n",
    "stock_data = data.get_data_yahoo(tickers, start_date, end_date)"
   ]
  },
  {
   "cell_type": "code",
   "execution_count": 9,
   "metadata": {},
   "outputs": [
    {
     "name": "stdout",
     "output_type": "stream",
     "text": [
      "2\n",
      "['INTC', 'MSFT']\n"
     ]
    }
   ],
   "source": [
    "#create a list of tickers whose adjusted closing prices in the first month of the first year\n",
    "#do not have any missing values\n",
    "stockArray = []\n",
    "for ticker in tickers:\n",
    "    stockArray.append(list(stock_data['Adj Close'][ticker]))\n",
    "stockArray=np.array(stockArray)\n",
    "tickers_liq = []\n",
    "for i in range(len(tickers)):\n",
    "    temp=0\n",
    "    for j in range(len(stockArray[i,:])):\n",
    "        if math.isnan(stockArray[i,j]):\n",
    "            temp=1\n",
    "    if (temp==0):\n",
    "        tickers_liq.append(tickers[i])\n",
    "print(len(tickers_liq))\n",
    "print(tickers_liq)"
   ]
  },
  {
   "cell_type": "code",
   "execution_count": 10,
   "metadata": {
    "collapsed": true
   },
   "outputs": [],
   "source": [
    "#save the list of tickers without any initial missing values\n",
    "tickers = list(tickers_liq) #use \"list\" when assigning a list to a new list in case mistakes\n",
    "np.savetxt(\"TechTickers_liq.csv\",np.array(tickers),fmt='%1s',delimiter=',')"
   ]
  },
  {
   "cell_type": "code",
   "execution_count": 123,
   "metadata": {
    "collapsed": true
   },
   "outputs": [],
   "source": [
    "#for the given range of years, download and save all adjusted closing prices for the tickers\n",
    "#from the list of those without missing initial values\n",
    "for year in range(2009,2020,1):\n",
    "    start_date = str(year)+'-01-01'\n",
    "    end_date = str(year)+'-12-31'\n",
    "    stock_data = data.get_data_yahoo(tickers, start_date, end_date)\n",
    "    stockArray = []\n",
    "    for ticker in tickers_liq:\n",
    "        stockArray.append(list(stock_data['Adj Close'][ticker]))\n",
    "    stockArray=np.array(stockArray)\n",
    "    np.savetxt(\"AdjustedClosingPrices_\"+str(year)+\".csv\",np.transpose(stockArray),delimiter=',')"
   ]
  },
  {
   "cell_type": "code",
   "execution_count": null,
   "metadata": {
    "collapsed": true
   },
   "outputs": [],
   "source": []
  }
 ],
 "metadata": {
  "kernelspec": {
   "display_name": "Python 3",
   "language": "python",
   "name": "python3"
  },
  "language_info": {
   "codemirror_mode": {
    "name": "ipython",
    "version": 3
   },
   "file_extension": ".py",
   "mimetype": "text/x-python",
   "name": "python",
   "nbconvert_exporter": "python",
   "pygments_lexer": "ipython3",
   "version": "3.6.1"
  }
 },
 "nbformat": 4,
 "nbformat_minor": 2
}
