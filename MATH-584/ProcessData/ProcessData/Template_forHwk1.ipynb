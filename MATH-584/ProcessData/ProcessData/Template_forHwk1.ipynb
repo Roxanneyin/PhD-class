{
 "cells": [
  {
   "cell_type": "code",
   "execution_count": 1,
   "metadata": {
    "collapsed": true
   },
   "outputs": [],
   "source": [
    "import pandas as pd\n",
    "import numpy as np \n",
    "import csv\n",
    "import matplotlib.pyplot as plt\n",
    "import math\n",
    "from pandas_datareader import data\n",
    "import scipy.optimize\n",
    "from scipy import stats"
   ]
  },
  {
   "cell_type": "code",
   "execution_count": 9,
   "metadata": {
    "collapsed": true
   },
   "outputs": [],
   "source": [
    "def my_obj(x):     \n",
    "    return np.sum([y**2 for y in x])"
   ]
  },
  {
   "cell_type": "code",
   "execution_count": 10,
   "metadata": {
    "collapsed": true
   },
   "outputs": [],
   "source": [
    "def my_constr(x):     \n",
    "    return np.sum(x) - 1"
   ]
  },
  {
   "cell_type": "code",
   "execution_count": 11,
   "metadata": {},
   "outputs": [
    {
     "name": "stdout",
     "output_type": "stream",
     "text": [
      "     fun: 0.5\n",
      "     jac: array([1.00000001, 1.00000001])\n",
      " message: 'Optimization terminated successfully.'\n",
      "    nfev: 9\n",
      "     nit: 2\n",
      "    njev: 2\n",
      "  status: 0\n",
      " success: True\n",
      "       x: array([0.5, 0.5])\n"
     ]
    }
   ],
   "source": [
    "constr = {'type': 'eq', 'fun': my_constr}\n",
    "x0 = [1,0]\n",
    "opt1 = scipy.optimize.minimize(my_obj, x0, constraints=constr, options={'maxiter':1e6})\n",
    "print(opt1)"
   ]
  },
  {
   "cell_type": "code",
   "execution_count": 15,
   "metadata": {},
   "outputs": [
    {
     "data": {
      "image/png": "[encoded data removed]",
      "text/plain": [
       "<matplotlib.figure.Figure at 0x1a0e959898>"
      ]
     },
     "metadata": {},
     "output_type": "display_data"
    }
   ],
   "source": [
    "x = [0.1*i for i in range(100)]\n",
    "y = [math.exp(x[i]) for i in range(len(x))]\n",
    "plt.plot(x,y)\n",
    "plt.scatter([2,6],[5000,5000])\n",
    "plt.show()"
   ]
  },
  {
   "cell_type": "code",
   "execution_count": 21,
   "metadata": {},
   "outputs": [
    {
     "name": "stdout",
     "output_type": "stream",
     "text": [
      "0.49620700564948184\n",
      "0.0037514842878944004\n",
      "0.9058723688169321\n"
     ]
    }
   ],
   "source": [
    "x = np.random.random(1000)\n",
    "y = np.random.random(1000)\n",
    "#print(x)\n",
    "#print(y)\n",
    "slope, intercept, r_value, p_value, std_err = stats.linregress(x,y)\n",
    "print(intercept)\n",
    "print(slope)\n",
    "print(p_value)"
   ]
  },
  {
   "cell_type": "code",
   "execution_count": null,
   "metadata": {
    "collapsed": true
   },
   "outputs": [],
   "source": []
  }
 ],
 "metadata": {
  "kernelspec": {
   "display_name": "Python 3",
   "language": "python",
   "name": "python3"
  },
  "language_info": {
   "codemirror_mode": {
    "name": "ipython",
    "version": 3
   },
   "file_extension": ".py",
   "mimetype": "text/x-python",
   "name": "python",
   "nbconvert_exporter": "python",
   "pygments_lexer": "ipython3",
   "version": "3.6.1"
  }
 },
 "nbformat": 4,
 "nbformat_minor": 2
}
